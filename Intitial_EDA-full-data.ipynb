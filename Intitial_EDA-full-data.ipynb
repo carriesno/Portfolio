{
 "cells": [
  {
   "cell_type": "markdown",
   "id": "cdff2594-df43-411a-bd0e-16cfcdc7a6f5",
   "metadata": {},
   "source": [
    "### Questions to pursue:\n",
    "#### These are initial questions from working through notebooks 1 and 2 and first viewing the data. I am most curious about change over time.\n",
    "- What day of the week has the most transactions? Is there a consistent difference across the year between how much is ordered on, for example, Mondays versus Fridays?\n",
    "- Does the time of month affect what is ordered? For example, do merchants purchase less at the end of the month?\n",
    "- Is the top category of items sold consistent between buyers? Or, do merchants differentiate in the categroies of products they produce?\n",
    "- What is the most commonly ordered category and subcategory? Does this change throughout the year?\n",
    "- Which category is the most expensive? Does price have a correlation with the frequency it is ordered?\n",
    "- Has the company increased or decreased or had constant sales over the year?\n",
    "- Are there any new merchants? Have any merchants stopped purchasing from this company?\n",
    "- Have the prices for products increased or decreased throughout the year? If so, what category of product, or what single product has the greatest change in price?\n",
    "- Do the same items have different prices for different merchants? Do shipping costs need to be factored in?"
   ]
  },
  {
   "cell_type": "markdown",
   "id": "65050072-f8d0-4e67-981d-010b6217cb9a",
   "metadata": {},
   "source": [
    "#### From these questions, the I will look into changes in prices. Throughout the months that data was taken, did prices change? If so, what categories and how much change?"
   ]
  },
  {
   "cell_type": "markdown",
   "id": "b8dd6de5-7505-4d9a-b759-19dbede90a59",
   "metadata": {},
   "source": [
    "To set up, import packages and read in csv file. "
   ]
  },
  {
   "cell_type": "code",
   "execution_count": 1,
   "id": "a0988041-cee2-44bc-afda-6a36860738b5",
   "metadata": {
    "id": "2eYcfvLr2ahn",
    "pycharm": {
     "name": "#%%\n"
    }
   },
   "outputs": [],
   "source": [
    "import pandas as pd\n",
    "import numpy as np\n",
    "from datetime import datetime, timedelta\n",
    "import seaborn as sns\n",
    "import matplotlib.pyplot as plt"
   ]
  },
  {
   "cell_type": "code",
   "execution_count": 2,
   "id": "6e90c9f3-0632-4e18-a693-b2d143d0411c",
   "metadata": {},
   "outputs": [],
   "source": [
    "filename = 'new_baskets_full.csv'\n",
    "baskets = pd.read_csv(filename)"
   ]
  },
  {
   "cell_type": "markdown",
   "id": "77964987-4cfd-43a8-b53c-5b24110506c3",
   "metadata": {},
   "source": [
    "First, I will look at the range of prices. "
   ]
  },
  {
   "cell_type": "code",
   "execution_count": 3,
   "id": "f2c265c0-ddbc-4220-b54f-979c2b6e7a88",
   "metadata": {},
   "outputs": [
    {
     "name": "stdout",
     "output_type": "stream",
     "text": [
      "<class 'pandas.core.frame.DataFrame'>\n",
      "RangeIndex: 336472 entries, 0 to 336471\n",
      "Data columns (total 9 columns):\n",
      " #   Column       Non-Null Count   Dtype  \n",
      "---  ------       --------------   -----  \n",
      " 0   id           336472 non-null  int64  \n",
      " 1   order_id     336472 non-null  int64  \n",
      " 2   placed_at    336472 non-null  object \n",
      " 3   merchant_id  336472 non-null  int64  \n",
      " 4   sku_id       336472 non-null  int64  \n",
      " 5   top_cat_id   336461 non-null  float64\n",
      " 6   sub_cat_id   336461 non-null  float64\n",
      " 7   qty          336472 non-null  int64  \n",
      " 8   price        336472 non-null  float64\n",
      "dtypes: float64(3), int64(5), object(1)\n",
      "memory usage: 23.1+ MB\n"
     ]
    }
   ],
   "source": [
    "baskets.info()"
   ]
  },
  {
   "cell_type": "code",
   "execution_count": 4,
   "id": "e08e3eef-e172-417c-ac72-04f7301af89c",
   "metadata": {},
   "outputs": [],
   "source": [
    "baskets.dropna(inplace=True)"
   ]
  },
  {
   "cell_type": "code",
   "execution_count": 5,
   "id": "293807c5-530a-4c6b-a0e7-84d9c83d2b9f",
   "metadata": {},
   "outputs": [
    {
     "name": "stdout",
     "output_type": "stream",
     "text": [
      "<class 'pandas.core.frame.DataFrame'>\n",
      "Int64Index: 336461 entries, 0 to 336471\n",
      "Data columns (total 9 columns):\n",
      " #   Column       Non-Null Count   Dtype  \n",
      "---  ------       --------------   -----  \n",
      " 0   id           336461 non-null  int64  \n",
      " 1   order_id     336461 non-null  int64  \n",
      " 2   placed_at    336461 non-null  object \n",
      " 3   merchant_id  336461 non-null  int64  \n",
      " 4   sku_id       336461 non-null  int64  \n",
      " 5   top_cat_id   336461 non-null  float64\n",
      " 6   sub_cat_id   336461 non-null  float64\n",
      " 7   qty          336461 non-null  int64  \n",
      " 8   price        336461 non-null  float64\n",
      "dtypes: float64(3), int64(5), object(1)\n",
      "memory usage: 25.7+ MB\n"
     ]
    }
   ],
   "source": [
    "baskets.info()"
   ]
  },
  {
   "cell_type": "code",
   "execution_count": 6,
   "id": "7837e5b0-67e1-440e-93ce-4b9c4e36e391",
   "metadata": {},
   "outputs": [
    {
     "data": {
      "text/plain": [
       "count    3.364610e+05\n",
       "mean     1.378965e+05\n",
       "std      1.744712e+05\n",
       "min      4.375000e-02\n",
       "25%      4.600000e+04\n",
       "50%      1.070000e+05\n",
       "75%      1.845000e+05\n",
       "max      5.875000e+07\n",
       "Name: price, dtype: float64"
      ]
     },
     "execution_count": 6,
     "metadata": {},
     "output_type": "execute_result"
    }
   ],
   "source": [
    "baskets['price'].describe()"
   ]
  },
  {
   "cell_type": "markdown",
   "id": "41d9a91c-e62f-4b82-afcc-ecb4406389cc",
   "metadata": {},
   "source": [
    "[With the full dataset, I notice: \n",
    "- the mean is very close to the original\n",
    "- the minimum is no longer 0\n",
    "- the maximum is even an order of magnitude greater than the maximum of the smaller dataset. This is likely another error.]"
   ]
  },
  {
   "cell_type": "markdown",
   "id": "70e566d7-55e1-4fbe-bd11-3ef811820146",
   "metadata": {},
   "source": [
    "Next, I would like to see the prices of individual skus. I will start by finding the sku with the highest price, and use sku_id to find if there is more than one unique price for this id. \n",
    "\n",
    "Another question to consider is what is the most common sku, and what is the variety of prices for that product?"
   ]
  },
  {
   "cell_type": "code",
   "execution_count": 7,
   "id": "6836be98-7bd1-4f44-83fc-fd98d6c100cc",
   "metadata": {},
   "outputs": [
    {
     "data": {
      "text/html": [
       "<div>\n",
       "<style scoped>\n",
       "    .dataframe tbody tr th:only-of-type {\n",
       "        vertical-align: middle;\n",
       "    }\n",
       "\n",
       "    .dataframe tbody tr th {\n",
       "        vertical-align: top;\n",
       "    }\n",
       "\n",
       "    .dataframe thead th {\n",
       "        text-align: right;\n",
       "    }\n",
       "</style>\n",
       "<table border=\"1\" class=\"dataframe\">\n",
       "  <thead>\n",
       "    <tr style=\"text-align: right;\">\n",
       "      <th></th>\n",
       "      <th>index</th>\n",
       "      <th>price</th>\n",
       "    </tr>\n",
       "  </thead>\n",
       "  <tbody>\n",
       "    <tr>\n",
       "      <th>0</th>\n",
       "      <td>78536</td>\n",
       "      <td>5.875000e+07</td>\n",
       "    </tr>\n",
       "    <tr>\n",
       "      <th>1</th>\n",
       "      <td>67262</td>\n",
       "      <td>2.301000e+07</td>\n",
       "    </tr>\n",
       "    <tr>\n",
       "      <th>2</th>\n",
       "      <td>66551</td>\n",
       "      <td>2.301000e+07</td>\n",
       "    </tr>\n",
       "    <tr>\n",
       "      <th>3</th>\n",
       "      <td>310185</td>\n",
       "      <td>1.055000e+07</td>\n",
       "    </tr>\n",
       "    <tr>\n",
       "      <th>4</th>\n",
       "      <td>5392</td>\n",
       "      <td>3.825000e+06</td>\n",
       "    </tr>\n",
       "    <tr>\n",
       "      <th>...</th>\n",
       "      <td>...</td>\n",
       "      <td>...</td>\n",
       "    </tr>\n",
       "    <tr>\n",
       "      <th>336456</th>\n",
       "      <td>1791</td>\n",
       "      <td>1.000000e+00</td>\n",
       "    </tr>\n",
       "    <tr>\n",
       "      <th>336457</th>\n",
       "      <td>263457</td>\n",
       "      <td>7.920000e-01</td>\n",
       "    </tr>\n",
       "    <tr>\n",
       "      <th>336458</th>\n",
       "      <td>263206</td>\n",
       "      <td>7.500000e-01</td>\n",
       "    </tr>\n",
       "    <tr>\n",
       "      <th>336459</th>\n",
       "      <td>262925</td>\n",
       "      <td>5.580000e-02</td>\n",
       "    </tr>\n",
       "    <tr>\n",
       "      <th>336460</th>\n",
       "      <td>263291</td>\n",
       "      <td>4.375000e-02</td>\n",
       "    </tr>\n",
       "  </tbody>\n",
       "</table>\n",
       "<p>336461 rows × 2 columns</p>\n",
       "</div>"
      ],
      "text/plain": [
       "         index         price\n",
       "0        78536  5.875000e+07\n",
       "1        67262  2.301000e+07\n",
       "2        66551  2.301000e+07\n",
       "3       310185  1.055000e+07\n",
       "4         5392  3.825000e+06\n",
       "...        ...           ...\n",
       "336456    1791  1.000000e+00\n",
       "336457  263457  7.920000e-01\n",
       "336458  263206  7.500000e-01\n",
       "336459  262925  5.580000e-02\n",
       "336460  263291  4.375000e-02\n",
       "\n",
       "[336461 rows x 2 columns]"
      ]
     },
     "execution_count": 7,
     "metadata": {},
     "output_type": "execute_result"
    }
   ],
   "source": [
    "baskets['price'].sort_values(ascending=False).reset_index()"
   ]
  },
  {
   "cell_type": "markdown",
   "id": "510ee503-2ce5-4313-9d6f-c716f0cee047",
   "metadata": {},
   "source": [
    "[with full data: There are now numerous very high prices, and very low prices, but no prices at zero]"
   ]
  },
  {
   "cell_type": "markdown",
   "id": "a8562d0c-e1f2-4897-af4e-2a0595752d4e",
   "metadata": {},
   "source": [
    "I know that the highest price is 2175000.0, so instead I will filter for that price to find the sku_id."
   ]
  },
  {
   "cell_type": "markdown",
   "id": "f0650f66-734d-40fb-8b78-27a3ca9f4537",
   "metadata": {},
   "source": [
    "[with full data: the highest price is now 5.875000e+07, so below I investigate this SKU instead, especially since the sku_ids have likely changed with the full dataset. These cells have been edited to acommodate the new data.]"
   ]
  },
  {
   "cell_type": "code",
   "execution_count": 8,
   "id": "70a4e54b-f0a0-46f5-9776-7487f3524f36",
   "metadata": {
    "id": "fj1KHIyjt_sb",
    "outputId": "a1b4524b-594b-437e-f965-e739e81263f5"
   },
   "outputs": [
    {
     "data": {
      "text/html": [
       "<div>\n",
       "<style scoped>\n",
       "    .dataframe tbody tr th:only-of-type {\n",
       "        vertical-align: middle;\n",
       "    }\n",
       "\n",
       "    .dataframe tbody tr th {\n",
       "        vertical-align: top;\n",
       "    }\n",
       "\n",
       "    .dataframe thead th {\n",
       "        text-align: right;\n",
       "    }\n",
       "</style>\n",
       "<table border=\"1\" class=\"dataframe\">\n",
       "  <thead>\n",
       "    <tr style=\"text-align: right;\">\n",
       "      <th></th>\n",
       "      <th>id</th>\n",
       "      <th>order_id</th>\n",
       "      <th>placed_at</th>\n",
       "      <th>merchant_id</th>\n",
       "      <th>sku_id</th>\n",
       "      <th>top_cat_id</th>\n",
       "      <th>sub_cat_id</th>\n",
       "      <th>qty</th>\n",
       "      <th>price</th>\n",
       "    </tr>\n",
       "  </thead>\n",
       "  <tbody>\n",
       "    <tr>\n",
       "      <th>78536</th>\n",
       "      <td>78641</td>\n",
       "      <td>10750</td>\n",
       "      <td>2021-11-06 09:53:53.181</td>\n",
       "      <td>1103</td>\n",
       "      <td>301</td>\n",
       "      <td>11.0</td>\n",
       "      <td>27.0</td>\n",
       "      <td>1</td>\n",
       "      <td>58750000.0</td>\n",
       "    </tr>\n",
       "  </tbody>\n",
       "</table>\n",
       "</div>"
      ],
      "text/plain": [
       "          id  order_id                placed_at  merchant_id  sku_id  \\\n",
       "78536  78641     10750  2021-11-06 09:53:53.181         1103     301   \n",
       "\n",
       "       top_cat_id  sub_cat_id  qty       price  \n",
       "78536        11.0        27.0    1  58750000.0  "
      ]
     },
     "execution_count": 8,
     "metadata": {},
     "output_type": "execute_result"
    }
   ],
   "source": [
    "baskets[baskets['price'] == 58750000]\n"
   ]
  },
  {
   "cell_type": "markdown",
   "id": "6c82de27-73c1-4f73-8a7b-ba8992b17334",
   "metadata": {},
   "source": [
    "The sku_id is 301, so now I will filter for sku_id."
   ]
  },
  {
   "cell_type": "code",
   "execution_count": 9,
   "id": "ff79094a-c223-40a2-a1b6-c97e39b2b634",
   "metadata": {},
   "outputs": [
    {
     "data": {
      "text/html": [
       "<div>\n",
       "<style scoped>\n",
       "    .dataframe tbody tr th:only-of-type {\n",
       "        vertical-align: middle;\n",
       "    }\n",
       "\n",
       "    .dataframe tbody tr th {\n",
       "        vertical-align: top;\n",
       "    }\n",
       "\n",
       "    .dataframe thead th {\n",
       "        text-align: right;\n",
       "    }\n",
       "</style>\n",
       "<table border=\"1\" class=\"dataframe\">\n",
       "  <thead>\n",
       "    <tr style=\"text-align: right;\">\n",
       "      <th></th>\n",
       "      <th>id</th>\n",
       "      <th>order_id</th>\n",
       "      <th>placed_at</th>\n",
       "      <th>merchant_id</th>\n",
       "      <th>sku_id</th>\n",
       "      <th>top_cat_id</th>\n",
       "      <th>sub_cat_id</th>\n",
       "      <th>qty</th>\n",
       "      <th>price</th>\n",
       "    </tr>\n",
       "  </thead>\n",
       "  <tbody>\n",
       "    <tr>\n",
       "      <th>917</th>\n",
       "      <td>914</td>\n",
       "      <td>83</td>\n",
       "      <td>2021-06-17 10:27:52.447</td>\n",
       "      <td>302</td>\n",
       "      <td>301</td>\n",
       "      <td>11.0</td>\n",
       "      <td>27.0</td>\n",
       "      <td>50</td>\n",
       "      <td>23250.0</td>\n",
       "    </tr>\n",
       "    <tr>\n",
       "      <th>1451</th>\n",
       "      <td>1784</td>\n",
       "      <td>129</td>\n",
       "      <td>2021-06-24 12:43:03.065</td>\n",
       "      <td>22</td>\n",
       "      <td>301</td>\n",
       "      <td>11.0</td>\n",
       "      <td>27.0</td>\n",
       "      <td>50</td>\n",
       "      <td>22000.0</td>\n",
       "    </tr>\n",
       "    <tr>\n",
       "      <th>1515</th>\n",
       "      <td>1514</td>\n",
       "      <td>135</td>\n",
       "      <td>2021-06-24 23:31:59.247</td>\n",
       "      <td>114</td>\n",
       "      <td>301</td>\n",
       "      <td>11.0</td>\n",
       "      <td>27.0</td>\n",
       "      <td>10</td>\n",
       "      <td>22000.0</td>\n",
       "    </tr>\n",
       "    <tr>\n",
       "      <th>1529</th>\n",
       "      <td>1528</td>\n",
       "      <td>136</td>\n",
       "      <td>2021-06-24 23:58:49.239</td>\n",
       "      <td>114</td>\n",
       "      <td>301</td>\n",
       "      <td>11.0</td>\n",
       "      <td>27.0</td>\n",
       "      <td>50</td>\n",
       "      <td>24500.0</td>\n",
       "    </tr>\n",
       "    <tr>\n",
       "      <th>1571</th>\n",
       "      <td>1570</td>\n",
       "      <td>137</td>\n",
       "      <td>2021-06-25 00:01:29.306</td>\n",
       "      <td>109</td>\n",
       "      <td>301</td>\n",
       "      <td>11.0</td>\n",
       "      <td>27.0</td>\n",
       "      <td>50</td>\n",
       "      <td>24500.0</td>\n",
       "    </tr>\n",
       "    <tr>\n",
       "      <th>...</th>\n",
       "      <td>...</td>\n",
       "      <td>...</td>\n",
       "      <td>...</td>\n",
       "      <td>...</td>\n",
       "      <td>...</td>\n",
       "      <td>...</td>\n",
       "      <td>...</td>\n",
       "      <td>...</td>\n",
       "      <td>...</td>\n",
       "    </tr>\n",
       "    <tr>\n",
       "      <th>335546</th>\n",
       "      <td>335629</td>\n",
       "      <td>61825</td>\n",
       "      <td>2022-08-13 23:23:58.111</td>\n",
       "      <td>665</td>\n",
       "      <td>301</td>\n",
       "      <td>11.0</td>\n",
       "      <td>27.0</td>\n",
       "      <td>10</td>\n",
       "      <td>25500.0</td>\n",
       "    </tr>\n",
       "    <tr>\n",
       "      <th>336143</th>\n",
       "      <td>336225</td>\n",
       "      <td>62017</td>\n",
       "      <td>2022-08-15 14:37:01.641</td>\n",
       "      <td>146</td>\n",
       "      <td>301</td>\n",
       "      <td>11.0</td>\n",
       "      <td>27.0</td>\n",
       "      <td>50</td>\n",
       "      <td>25500.0</td>\n",
       "    </tr>\n",
       "    <tr>\n",
       "      <th>336211</th>\n",
       "      <td>336249</td>\n",
       "      <td>61920</td>\n",
       "      <td>2022-08-15 15:15:51.713</td>\n",
       "      <td>441</td>\n",
       "      <td>301</td>\n",
       "      <td>11.0</td>\n",
       "      <td>27.0</td>\n",
       "      <td>150</td>\n",
       "      <td>25500.0</td>\n",
       "    </tr>\n",
       "    <tr>\n",
       "      <th>336255</th>\n",
       "      <td>336310</td>\n",
       "      <td>61998</td>\n",
       "      <td>2022-08-15 16:51:02.716</td>\n",
       "      <td>1770</td>\n",
       "      <td>301</td>\n",
       "      <td>11.0</td>\n",
       "      <td>27.0</td>\n",
       "      <td>50</td>\n",
       "      <td>25500.0</td>\n",
       "    </tr>\n",
       "    <tr>\n",
       "      <th>336389</th>\n",
       "      <td>336419</td>\n",
       "      <td>61858</td>\n",
       "      <td>2022-08-15 20:51:09.517</td>\n",
       "      <td>1842</td>\n",
       "      <td>301</td>\n",
       "      <td>11.0</td>\n",
       "      <td>27.0</td>\n",
       "      <td>50</td>\n",
       "      <td>25500.0</td>\n",
       "    </tr>\n",
       "  </tbody>\n",
       "</table>\n",
       "<p>552 rows × 9 columns</p>\n",
       "</div>"
      ],
      "text/plain": [
       "            id  order_id                placed_at  merchant_id  sku_id  \\\n",
       "917        914        83  2021-06-17 10:27:52.447          302     301   \n",
       "1451      1784       129  2021-06-24 12:43:03.065           22     301   \n",
       "1515      1514       135  2021-06-24 23:31:59.247          114     301   \n",
       "1529      1528       136  2021-06-24 23:58:49.239          114     301   \n",
       "1571      1570       137  2021-06-25 00:01:29.306          109     301   \n",
       "...        ...       ...                      ...          ...     ...   \n",
       "335546  335629     61825  2022-08-13 23:23:58.111          665     301   \n",
       "336143  336225     62017  2022-08-15 14:37:01.641          146     301   \n",
       "336211  336249     61920  2022-08-15 15:15:51.713          441     301   \n",
       "336255  336310     61998  2022-08-15 16:51:02.716         1770     301   \n",
       "336389  336419     61858  2022-08-15 20:51:09.517         1842     301   \n",
       "\n",
       "        top_cat_id  sub_cat_id  qty    price  \n",
       "917           11.0        27.0   50  23250.0  \n",
       "1451          11.0        27.0   50  22000.0  \n",
       "1515          11.0        27.0   10  22000.0  \n",
       "1529          11.0        27.0   50  24500.0  \n",
       "1571          11.0        27.0   50  24500.0  \n",
       "...            ...         ...  ...      ...  \n",
       "335546        11.0        27.0   10  25500.0  \n",
       "336143        11.0        27.0   50  25500.0  \n",
       "336211        11.0        27.0  150  25500.0  \n",
       "336255        11.0        27.0   50  25500.0  \n",
       "336389        11.0        27.0   50  25500.0  \n",
       "\n",
       "[552 rows x 9 columns]"
      ]
     },
     "execution_count": 9,
     "metadata": {},
     "output_type": "execute_result"
    }
   ],
   "source": [
    "baskets[baskets['sku_id'] == 301]"
   ]
  },
  {
   "cell_type": "markdown",
   "id": "1478b1b1-1634-4d0f-99d4-30c0d3a70d33",
   "metadata": {},
   "source": [
    "I am surprised to see a variety of prices, and wonder if the highest price might be an error. Another potential question might be to look into this order and merchant to see if there is anything else that appears out of place.\n",
    "\n",
    "The rest of the prices for this item seem to be in a closer range. Next, I will look to see a summary of prices for the sku 301. "
   ]
  },
  {
   "cell_type": "code",
   "execution_count": 10,
   "id": "24861fc3-ee8e-4db5-93a8-fe9fe8005fdd",
   "metadata": {},
   "outputs": [
    {
     "data": {
      "text/html": [
       "<div>\n",
       "<style scoped>\n",
       "    .dataframe tbody tr th:only-of-type {\n",
       "        vertical-align: middle;\n",
       "    }\n",
       "\n",
       "    .dataframe tbody tr th {\n",
       "        vertical-align: top;\n",
       "    }\n",
       "\n",
       "    .dataframe thead th {\n",
       "        text-align: right;\n",
       "    }\n",
       "</style>\n",
       "<table border=\"1\" class=\"dataframe\">\n",
       "  <thead>\n",
       "    <tr style=\"text-align: right;\">\n",
       "      <th></th>\n",
       "      <th>id</th>\n",
       "      <th>order_id</th>\n",
       "      <th>merchant_id</th>\n",
       "      <th>sku_id</th>\n",
       "      <th>top_cat_id</th>\n",
       "      <th>sub_cat_id</th>\n",
       "      <th>qty</th>\n",
       "      <th>price</th>\n",
       "    </tr>\n",
       "  </thead>\n",
       "  <tbody>\n",
       "    <tr>\n",
       "      <th>count</th>\n",
       "      <td>552.000000</td>\n",
       "      <td>552.000000</td>\n",
       "      <td>552.000000</td>\n",
       "      <td>552.0</td>\n",
       "      <td>552.0</td>\n",
       "      <td>552.0</td>\n",
       "      <td>552.000000</td>\n",
       "      <td>5.520000e+02</td>\n",
       "    </tr>\n",
       "    <tr>\n",
       "      <th>mean</th>\n",
       "      <td>100329.271739</td>\n",
       "      <td>16280.606884</td>\n",
       "      <td>583.489130</td>\n",
       "      <td>301.0</td>\n",
       "      <td>11.0</td>\n",
       "      <td>27.0</td>\n",
       "      <td>63.177536</td>\n",
       "      <td>1.357541e+05</td>\n",
       "    </tr>\n",
       "    <tr>\n",
       "      <th>std</th>\n",
       "      <td>109395.625350</td>\n",
       "      <td>20802.904991</td>\n",
       "      <td>479.452747</td>\n",
       "      <td>0.0</td>\n",
       "      <td>0.0</td>\n",
       "      <td>0.0</td>\n",
       "      <td>61.041009</td>\n",
       "      <td>2.500660e+06</td>\n",
       "    </tr>\n",
       "    <tr>\n",
       "      <th>min</th>\n",
       "      <td>914.000000</td>\n",
       "      <td>83.000000</td>\n",
       "      <td>7.000000</td>\n",
       "      <td>301.0</td>\n",
       "      <td>11.0</td>\n",
       "      <td>27.0</td>\n",
       "      <td>1.000000</td>\n",
       "      <td>2.200000e+04</td>\n",
       "    </tr>\n",
       "    <tr>\n",
       "      <th>25%</th>\n",
       "      <td>29887.750000</td>\n",
       "      <td>3082.000000</td>\n",
       "      <td>222.500000</td>\n",
       "      <td>301.0</td>\n",
       "      <td>11.0</td>\n",
       "      <td>27.0</td>\n",
       "      <td>50.000000</td>\n",
       "      <td>2.425000e+04</td>\n",
       "    </tr>\n",
       "    <tr>\n",
       "      <th>50%</th>\n",
       "      <td>55875.500000</td>\n",
       "      <td>7055.500000</td>\n",
       "      <td>449.000000</td>\n",
       "      <td>301.0</td>\n",
       "      <td>11.0</td>\n",
       "      <td>27.0</td>\n",
       "      <td>50.000000</td>\n",
       "      <td>2.425000e+04</td>\n",
       "    </tr>\n",
       "    <tr>\n",
       "      <th>75%</th>\n",
       "      <td>91889.000000</td>\n",
       "      <td>13039.500000</td>\n",
       "      <td>803.500000</td>\n",
       "      <td>301.0</td>\n",
       "      <td>11.0</td>\n",
       "      <td>27.0</td>\n",
       "      <td>50.000000</td>\n",
       "      <td>2.500000e+04</td>\n",
       "    </tr>\n",
       "    <tr>\n",
       "      <th>max</th>\n",
       "      <td>336419.000000</td>\n",
       "      <td>62017.000000</td>\n",
       "      <td>2121.000000</td>\n",
       "      <td>301.0</td>\n",
       "      <td>11.0</td>\n",
       "      <td>27.0</td>\n",
       "      <td>985.000000</td>\n",
       "      <td>5.875000e+07</td>\n",
       "    </tr>\n",
       "  </tbody>\n",
       "</table>\n",
       "</div>"
      ],
      "text/plain": [
       "                  id      order_id  merchant_id  sku_id  top_cat_id  \\\n",
       "count     552.000000    552.000000   552.000000   552.0       552.0   \n",
       "mean   100329.271739  16280.606884   583.489130   301.0        11.0   \n",
       "std    109395.625350  20802.904991   479.452747     0.0         0.0   \n",
       "min       914.000000     83.000000     7.000000   301.0        11.0   \n",
       "25%     29887.750000   3082.000000   222.500000   301.0        11.0   \n",
       "50%     55875.500000   7055.500000   449.000000   301.0        11.0   \n",
       "75%     91889.000000  13039.500000   803.500000   301.0        11.0   \n",
       "max    336419.000000  62017.000000  2121.000000   301.0        11.0   \n",
       "\n",
       "       sub_cat_id         qty         price  \n",
       "count       552.0  552.000000  5.520000e+02  \n",
       "mean         27.0   63.177536  1.357541e+05  \n",
       "std           0.0   61.041009  2.500660e+06  \n",
       "min          27.0    1.000000  2.200000e+04  \n",
       "25%          27.0   50.000000  2.425000e+04  \n",
       "50%          27.0   50.000000  2.425000e+04  \n",
       "75%          27.0   50.000000  2.500000e+04  \n",
       "max          27.0  985.000000  5.875000e+07  "
      ]
     },
     "execution_count": 10,
     "metadata": {},
     "output_type": "execute_result"
    }
   ],
   "source": [
    "baskets[baskets['sku_id'] == 301].describe()"
   ]
  },
  {
   "cell_type": "markdown",
   "id": "64a14de1-dc55-4ea8-8a09-cc4b258d2410",
   "metadata": {},
   "source": [
    "The maximum price appears to be an outlier for this sku's prices, as it is 3 orders of magnitude beyond any other price. "
   ]
  },
  {
   "cell_type": "markdown",
   "id": "98122a84-1780-429c-844b-ec3fa6b7220c",
   "metadata": {},
   "source": [
    "Next, I would like to look at the most common sku's fluxuation in pricing. "
   ]
  },
  {
   "cell_type": "code",
   "execution_count": 11,
   "id": "47e032e2-ad94-4967-9e89-04797d7edd47",
   "metadata": {},
   "outputs": [
    {
     "data": {
      "text/html": [
       "<div>\n",
       "<style scoped>\n",
       "    .dataframe tbody tr th:only-of-type {\n",
       "        vertical-align: middle;\n",
       "    }\n",
       "\n",
       "    .dataframe tbody tr th {\n",
       "        vertical-align: top;\n",
       "    }\n",
       "\n",
       "    .dataframe thead th {\n",
       "        text-align: right;\n",
       "    }\n",
       "</style>\n",
       "<table border=\"1\" class=\"dataframe\">\n",
       "  <thead>\n",
       "    <tr style=\"text-align: right;\">\n",
       "      <th></th>\n",
       "      <th>sku_id</th>\n",
       "      <th>qty</th>\n",
       "    </tr>\n",
       "  </thead>\n",
       "  <tbody>\n",
       "    <tr>\n",
       "      <th>0</th>\n",
       "      <td>277</td>\n",
       "      <td>4803103</td>\n",
       "    </tr>\n",
       "    <tr>\n",
       "      <th>1</th>\n",
       "      <td>238</td>\n",
       "      <td>3602844</td>\n",
       "    </tr>\n",
       "    <tr>\n",
       "      <th>2</th>\n",
       "      <td>390</td>\n",
       "      <td>451559</td>\n",
       "    </tr>\n",
       "    <tr>\n",
       "      <th>3</th>\n",
       "      <td>1300</td>\n",
       "      <td>374089</td>\n",
       "    </tr>\n",
       "    <tr>\n",
       "      <th>4</th>\n",
       "      <td>1179</td>\n",
       "      <td>244959</td>\n",
       "    </tr>\n",
       "    <tr>\n",
       "      <th>...</th>\n",
       "      <td>...</td>\n",
       "      <td>...</td>\n",
       "    </tr>\n",
       "    <tr>\n",
       "      <th>1610</th>\n",
       "      <td>1227</td>\n",
       "      <td>3</td>\n",
       "    </tr>\n",
       "    <tr>\n",
       "      <th>1611</th>\n",
       "      <td>147</td>\n",
       "      <td>3</td>\n",
       "    </tr>\n",
       "    <tr>\n",
       "      <th>1612</th>\n",
       "      <td>1073</td>\n",
       "      <td>3</td>\n",
       "    </tr>\n",
       "    <tr>\n",
       "      <th>1613</th>\n",
       "      <td>70</td>\n",
       "      <td>3</td>\n",
       "    </tr>\n",
       "    <tr>\n",
       "      <th>1614</th>\n",
       "      <td>83</td>\n",
       "      <td>3</td>\n",
       "    </tr>\n",
       "  </tbody>\n",
       "</table>\n",
       "<p>1615 rows × 2 columns</p>\n",
       "</div>"
      ],
      "text/plain": [
       "      sku_id      qty\n",
       "0        277  4803103\n",
       "1        238  3602844\n",
       "2        390   451559\n",
       "3       1300   374089\n",
       "4       1179   244959\n",
       "...      ...      ...\n",
       "1610    1227        3\n",
       "1611     147        3\n",
       "1612    1073        3\n",
       "1613      70        3\n",
       "1614      83        3\n",
       "\n",
       "[1615 rows x 2 columns]"
      ]
     },
     "execution_count": 11,
     "metadata": {},
     "output_type": "execute_result"
    }
   ],
   "source": [
    "baskets.groupby(by=['sku_id']).sum().qty.sort_values(ascending = False).reset_index()"
   ]
  },
  {
   "cell_type": "markdown",
   "id": "afffffb4-99c5-43d9-8214-bc8191de7e59",
   "metadata": {},
   "source": [
    "The most common sku_id is 277.\n",
    "\n",
    "I will check to see how many unique prices there are in the 4803103 orders. "
   ]
  },
  {
   "cell_type": "code",
   "execution_count": 12,
   "id": "703feb5a-1a30-444a-a6ad-7b833a372bdb",
   "metadata": {},
   "outputs": [
    {
     "data": {
      "text/plain": [
       "9"
      ]
     },
     "execution_count": 12,
     "metadata": {},
     "output_type": "execute_result"
    }
   ],
   "source": [
    "baskets[baskets['sku_id'] == 277].price.nunique()"
   ]
  },
  {
   "cell_type": "code",
   "execution_count": 13,
   "id": "38f6d0ca-2d77-4b2a-860b-ea09f15dfb65",
   "metadata": {},
   "outputs": [
    {
     "data": {
      "text/html": [
       "<div>\n",
       "<style scoped>\n",
       "    .dataframe tbody tr th:only-of-type {\n",
       "        vertical-align: middle;\n",
       "    }\n",
       "\n",
       "    .dataframe tbody tr th {\n",
       "        vertical-align: top;\n",
       "    }\n",
       "\n",
       "    .dataframe thead th {\n",
       "        text-align: right;\n",
       "    }\n",
       "</style>\n",
       "<table border=\"1\" class=\"dataframe\">\n",
       "  <thead>\n",
       "    <tr style=\"text-align: right;\">\n",
       "      <th></th>\n",
       "      <th>id</th>\n",
       "      <th>order_id</th>\n",
       "      <th>placed_at</th>\n",
       "      <th>merchant_id</th>\n",
       "      <th>sku_id</th>\n",
       "      <th>top_cat_id</th>\n",
       "      <th>sub_cat_id</th>\n",
       "      <th>qty</th>\n",
       "      <th>price</th>\n",
       "    </tr>\n",
       "  </thead>\n",
       "  <tbody>\n",
       "    <tr>\n",
       "      <th>1141</th>\n",
       "      <td>1128</td>\n",
       "      <td>105</td>\n",
       "      <td>2021-06-20 20:44:29.688</td>\n",
       "      <td>38</td>\n",
       "      <td>277</td>\n",
       "      <td>15.0</td>\n",
       "      <td>49.0</td>\n",
       "      <td>1</td>\n",
       "      <td>134000.0</td>\n",
       "    </tr>\n",
       "    <tr>\n",
       "      <th>2528</th>\n",
       "      <td>2474</td>\n",
       "      <td>189</td>\n",
       "      <td>2021-06-28 11:21:51.502</td>\n",
       "      <td>319</td>\n",
       "      <td>277</td>\n",
       "      <td>15.0</td>\n",
       "      <td>49.0</td>\n",
       "      <td>1</td>\n",
       "      <td>134000.0</td>\n",
       "    </tr>\n",
       "    <tr>\n",
       "      <th>3346</th>\n",
       "      <td>3345</td>\n",
       "      <td>238</td>\n",
       "      <td>2021-06-30 00:54:54.168</td>\n",
       "      <td>109</td>\n",
       "      <td>277</td>\n",
       "      <td>15.0</td>\n",
       "      <td>49.0</td>\n",
       "      <td>2</td>\n",
       "      <td>134000.0</td>\n",
       "    </tr>\n",
       "    <tr>\n",
       "      <th>3610</th>\n",
       "      <td>3617</td>\n",
       "      <td>265</td>\n",
       "      <td>2021-07-01 10:24:40.458</td>\n",
       "      <td>302</td>\n",
       "      <td>277</td>\n",
       "      <td>15.0</td>\n",
       "      <td>49.0</td>\n",
       "      <td>1</td>\n",
       "      <td>134000.0</td>\n",
       "    </tr>\n",
       "    <tr>\n",
       "      <th>4416</th>\n",
       "      <td>4430</td>\n",
       "      <td>354</td>\n",
       "      <td>2021-07-07 14:36:40.934</td>\n",
       "      <td>302</td>\n",
       "      <td>277</td>\n",
       "      <td>15.0</td>\n",
       "      <td>49.0</td>\n",
       "      <td>1</td>\n",
       "      <td>134000.0</td>\n",
       "    </tr>\n",
       "    <tr>\n",
       "      <th>...</th>\n",
       "      <td>...</td>\n",
       "      <td>...</td>\n",
       "      <td>...</td>\n",
       "      <td>...</td>\n",
       "      <td>...</td>\n",
       "      <td>...</td>\n",
       "      <td>...</td>\n",
       "      <td>...</td>\n",
       "      <td>...</td>\n",
       "    </tr>\n",
       "    <tr>\n",
       "      <th>333129</th>\n",
       "      <td>333253</td>\n",
       "      <td>61487</td>\n",
       "      <td>2022-08-08 19:05:31.388</td>\n",
       "      <td>107</td>\n",
       "      <td>277</td>\n",
       "      <td>15.0</td>\n",
       "      <td>49.0</td>\n",
       "      <td>1</td>\n",
       "      <td>135500.0</td>\n",
       "    </tr>\n",
       "    <tr>\n",
       "      <th>333321</th>\n",
       "      <td>333414</td>\n",
       "      <td>60836</td>\n",
       "      <td>2022-08-09 08:00:30.011</td>\n",
       "      <td>690</td>\n",
       "      <td>277</td>\n",
       "      <td>15.0</td>\n",
       "      <td>49.0</td>\n",
       "      <td>1</td>\n",
       "      <td>135500.0</td>\n",
       "    </tr>\n",
       "    <tr>\n",
       "      <th>333506</th>\n",
       "      <td>333858</td>\n",
       "      <td>61556</td>\n",
       "      <td>2022-08-09 11:20:08.322</td>\n",
       "      <td>18</td>\n",
       "      <td>277</td>\n",
       "      <td>15.0</td>\n",
       "      <td>49.0</td>\n",
       "      <td>1</td>\n",
       "      <td>135500.0</td>\n",
       "    </tr>\n",
       "    <tr>\n",
       "      <th>334282</th>\n",
       "      <td>334474</td>\n",
       "      <td>61530</td>\n",
       "      <td>2022-08-11 08:08:24.305</td>\n",
       "      <td>337</td>\n",
       "      <td>277</td>\n",
       "      <td>15.0</td>\n",
       "      <td>49.0</td>\n",
       "      <td>1</td>\n",
       "      <td>135500.0</td>\n",
       "    </tr>\n",
       "    <tr>\n",
       "      <th>336171</th>\n",
       "      <td>336258</td>\n",
       "      <td>62017</td>\n",
       "      <td>2022-08-15 14:37:01.641</td>\n",
       "      <td>146</td>\n",
       "      <td>277</td>\n",
       "      <td>15.0</td>\n",
       "      <td>49.0</td>\n",
       "      <td>1</td>\n",
       "      <td>135500.0</td>\n",
       "    </tr>\n",
       "  </tbody>\n",
       "</table>\n",
       "<p>440 rows × 9 columns</p>\n",
       "</div>"
      ],
      "text/plain": [
       "            id  order_id                placed_at  merchant_id  sku_id  \\\n",
       "1141      1128       105  2021-06-20 20:44:29.688           38     277   \n",
       "2528      2474       189  2021-06-28 11:21:51.502          319     277   \n",
       "3346      3345       238  2021-06-30 00:54:54.168          109     277   \n",
       "3610      3617       265  2021-07-01 10:24:40.458          302     277   \n",
       "4416      4430       354  2021-07-07 14:36:40.934          302     277   \n",
       "...        ...       ...                      ...          ...     ...   \n",
       "333129  333253     61487  2022-08-08 19:05:31.388          107     277   \n",
       "333321  333414     60836  2022-08-09 08:00:30.011          690     277   \n",
       "333506  333858     61556  2022-08-09 11:20:08.322           18     277   \n",
       "334282  334474     61530  2022-08-11 08:08:24.305          337     277   \n",
       "336171  336258     62017  2022-08-15 14:37:01.641          146     277   \n",
       "\n",
       "        top_cat_id  sub_cat_id  qty     price  \n",
       "1141          15.0        49.0    1  134000.0  \n",
       "2528          15.0        49.0    1  134000.0  \n",
       "3346          15.0        49.0    2  134000.0  \n",
       "3610          15.0        49.0    1  134000.0  \n",
       "4416          15.0        49.0    1  134000.0  \n",
       "...            ...         ...  ...       ...  \n",
       "333129        15.0        49.0    1  135500.0  \n",
       "333321        15.0        49.0    1  135500.0  \n",
       "333506        15.0        49.0    1  135500.0  \n",
       "334282        15.0        49.0    1  135500.0  \n",
       "336171        15.0        49.0    1  135500.0  \n",
       "\n",
       "[440 rows x 9 columns]"
      ]
     },
     "execution_count": 13,
     "metadata": {},
     "output_type": "execute_result"
    }
   ],
   "source": [
    "baskets[baskets['sku_id'] == 277]"
   ]
  },
  {
   "cell_type": "code",
   "execution_count": 14,
   "id": "d13db1eb-86c9-410f-b500-8690a3cfa6b7",
   "metadata": {},
   "outputs": [
    {
     "data": {
      "text/html": [
       "<div>\n",
       "<style scoped>\n",
       "    .dataframe tbody tr th:only-of-type {\n",
       "        vertical-align: middle;\n",
       "    }\n",
       "\n",
       "    .dataframe tbody tr th {\n",
       "        vertical-align: top;\n",
       "    }\n",
       "\n",
       "    .dataframe thead th {\n",
       "        text-align: right;\n",
       "    }\n",
       "</style>\n",
       "<table border=\"1\" class=\"dataframe\">\n",
       "  <thead>\n",
       "    <tr style=\"text-align: right;\">\n",
       "      <th></th>\n",
       "      <th>id</th>\n",
       "      <th>order_id</th>\n",
       "      <th>merchant_id</th>\n",
       "      <th>sku_id</th>\n",
       "      <th>top_cat_id</th>\n",
       "      <th>sub_cat_id</th>\n",
       "      <th>qty</th>\n",
       "      <th>price</th>\n",
       "    </tr>\n",
       "  </thead>\n",
       "  <tbody>\n",
       "    <tr>\n",
       "      <th>count</th>\n",
       "      <td>440.000000</td>\n",
       "      <td>440.000000</td>\n",
       "      <td>440.000000</td>\n",
       "      <td>440.0</td>\n",
       "      <td>440.0</td>\n",
       "      <td>440.0</td>\n",
       "      <td>4.400000e+02</td>\n",
       "      <td>440.000000</td>\n",
       "    </tr>\n",
       "    <tr>\n",
       "      <th>mean</th>\n",
       "      <td>149800.711364</td>\n",
       "      <td>25554.743182</td>\n",
       "      <td>634.540909</td>\n",
       "      <td>277.0</td>\n",
       "      <td>15.0</td>\n",
       "      <td>49.0</td>\n",
       "      <td>1.091614e+04</td>\n",
       "      <td>132417.172627</td>\n",
       "    </tr>\n",
       "    <tr>\n",
       "      <th>std</th>\n",
       "      <td>87417.174804</td>\n",
       "      <td>16974.223046</td>\n",
       "      <td>435.952363</td>\n",
       "      <td>0.0</td>\n",
       "      <td>0.0</td>\n",
       "      <td>0.0</td>\n",
       "      <td>2.288307e+05</td>\n",
       "      <td>9210.448444</td>\n",
       "    </tr>\n",
       "    <tr>\n",
       "      <th>min</th>\n",
       "      <td>1128.000000</td>\n",
       "      <td>105.000000</td>\n",
       "      <td>15.000000</td>\n",
       "      <td>277.0</td>\n",
       "      <td>15.0</td>\n",
       "      <td>49.0</td>\n",
       "      <td>1.000000e+00</td>\n",
       "      <td>0.055800</td>\n",
       "    </tr>\n",
       "    <tr>\n",
       "      <th>25%</th>\n",
       "      <td>79317.750000</td>\n",
       "      <td>10841.000000</td>\n",
       "      <td>325.000000</td>\n",
       "      <td>277.0</td>\n",
       "      <td>15.0</td>\n",
       "      <td>49.0</td>\n",
       "      <td>1.000000e+00</td>\n",
       "      <td>132000.000000</td>\n",
       "    </tr>\n",
       "    <tr>\n",
       "      <th>50%</th>\n",
       "      <td>150960.500000</td>\n",
       "      <td>24975.500000</td>\n",
       "      <td>497.000000</td>\n",
       "      <td>277.0</td>\n",
       "      <td>15.0</td>\n",
       "      <td>49.0</td>\n",
       "      <td>1.000000e+00</td>\n",
       "      <td>132000.000000</td>\n",
       "    </tr>\n",
       "    <tr>\n",
       "      <th>75%</th>\n",
       "      <td>217514.500000</td>\n",
       "      <td>39374.750000</td>\n",
       "      <td>891.000000</td>\n",
       "      <td>277.0</td>\n",
       "      <td>15.0</td>\n",
       "      <td>49.0</td>\n",
       "      <td>2.000000e+00</td>\n",
       "      <td>134000.000000</td>\n",
       "    </tr>\n",
       "    <tr>\n",
       "      <th>max</th>\n",
       "      <td>336258.000000</td>\n",
       "      <td>62017.000000</td>\n",
       "      <td>2045.000000</td>\n",
       "      <td>277.0</td>\n",
       "      <td>15.0</td>\n",
       "      <td>49.0</td>\n",
       "      <td>4.800000e+06</td>\n",
       "      <td>135500.000000</td>\n",
       "    </tr>\n",
       "  </tbody>\n",
       "</table>\n",
       "</div>"
      ],
      "text/plain": [
       "                  id      order_id  merchant_id  sku_id  top_cat_id  \\\n",
       "count     440.000000    440.000000   440.000000   440.0       440.0   \n",
       "mean   149800.711364  25554.743182   634.540909   277.0        15.0   \n",
       "std     87417.174804  16974.223046   435.952363     0.0         0.0   \n",
       "min      1128.000000    105.000000    15.000000   277.0        15.0   \n",
       "25%     79317.750000  10841.000000   325.000000   277.0        15.0   \n",
       "50%    150960.500000  24975.500000   497.000000   277.0        15.0   \n",
       "75%    217514.500000  39374.750000   891.000000   277.0        15.0   \n",
       "max    336258.000000  62017.000000  2045.000000   277.0        15.0   \n",
       "\n",
       "       sub_cat_id           qty          price  \n",
       "count       440.0  4.400000e+02     440.000000  \n",
       "mean         49.0  1.091614e+04  132417.172627  \n",
       "std           0.0  2.288307e+05    9210.448444  \n",
       "min          49.0  1.000000e+00       0.055800  \n",
       "25%          49.0  1.000000e+00  132000.000000  \n",
       "50%          49.0  1.000000e+00  132000.000000  \n",
       "75%          49.0  2.000000e+00  134000.000000  \n",
       "max          49.0  4.800000e+06  135500.000000  "
      ]
     },
     "execution_count": 14,
     "metadata": {},
     "output_type": "execute_result"
    }
   ],
   "source": [
    "baskets[baskets['sku_id'] == 277].describe()"
   ]
  },
  {
   "cell_type": "markdown",
   "id": "dfc39587-d5fc-4307-9192-c54e507a196b",
   "metadata": {},
   "source": [
    "The miniumum value is very low. This would be interesting to look into, which merchants have very small prices? Is there a trend to these errors? Are they errors?"
   ]
  },
  {
   "cell_type": "markdown",
   "id": "0ddf0dc5-63be-4f48-a1d7-26fb8aed9556",
   "metadata": {},
   "source": [
    "Quantity of items ordered as compared to amount of time items are ordered would be another interesting question to pursue. "
   ]
  },
  {
   "cell_type": "markdown",
   "id": "87ba50c5-e824-4eef-9841-e363e73a59cc",
   "metadata": {},
   "source": [
    "Instead of organizing by quanitity, I will try to organize by frequency, as in NB03."
   ]
  },
  {
   "cell_type": "code",
   "execution_count": 15,
   "id": "32eb272f-770c-4e10-a73d-f60c3bc5491f",
   "metadata": {
    "colab": {
     "base_uri": "https://localhost:8080/"
    },
    "id": "LJRzy7lKLx6G",
    "outputId": "c91edee9-5660-4b7d-f76c-b1dea0c8cc88",
    "pycharm": {
     "name": "#%%\n"
    }
   },
   "outputs": [
    {
     "data": {
      "text/plain": [
       "327     7500\n",
       "522     6919\n",
       "390     6409\n",
       "438     5589\n",
       "523     4804\n",
       "        ... \n",
       "121        3\n",
       "1451       3\n",
       "1457       3\n",
       "1461       3\n",
       "1204       3\n",
       "Name: sku_id, Length: 1615, dtype: int64"
      ]
     },
     "execution_count": 15,
     "metadata": {},
     "output_type": "execute_result"
    }
   ],
   "source": [
    "baskets['sku_id'].value_counts()"
   ]
  },
  {
   "cell_type": "markdown",
   "id": "83aa9f4c-d213-48ee-b008-1a6ecb233a92",
   "metadata": {},
   "source": [
    "SKU 327 is the most ordered item. I check for the number of unique prices of this SKU. "
   ]
  },
  {
   "cell_type": "code",
   "execution_count": 16,
   "id": "148c87d0-4256-4d84-a373-d8ce68c8a512",
   "metadata": {},
   "outputs": [
    {
     "data": {
      "text/plain": [
       "52"
      ]
     },
     "execution_count": 16,
     "metadata": {},
     "output_type": "execute_result"
    }
   ],
   "source": [
    "baskets[baskets['sku_id'] == 327].price.nunique()"
   ]
  },
  {
   "cell_type": "markdown",
   "id": "ca8967e0-a437-4a5a-a173-fd1dbf7e95c5",
   "metadata": {},
   "source": [
    "For continuation: \n",
    "- What are these prices? What is the range and mean?\n",
    "- Is there a pattern to the different prices? Do the prices change by time of year, or maybe by merchant?\n",
    "- Are there trends beyond just this single item? Do prices as a whole change over time? "
   ]
  },
  {
   "cell_type": "markdown",
   "id": "b86462d9-7d89-4e87-8974-babc846956f2",
   "metadata": {},
   "source": [
    "A Note: There will likely be differences at Ramadan, in May/June, potentially a significant drop or spike in prices. "
   ]
  },
  {
   "cell_type": "code",
   "execution_count": 17,
   "id": "6061ab64-1c36-406d-ab15-c86d64cb80ab",
   "metadata": {},
   "outputs": [
    {
     "data": {
      "text/plain": [
       "0        66500.0\n",
       "1       114000.0\n",
       "2       114000.0\n",
       "3       114000.0\n",
       "4       114300.0\n",
       "          ...   \n",
       "7495    135500.0\n",
       "7496    139000.0\n",
       "7497    215500.0\n",
       "7498    390000.0\n",
       "7499    520000.0\n",
       "Name: price, Length: 7500, dtype: float64"
      ]
     },
     "execution_count": 17,
     "metadata": {},
     "output_type": "execute_result"
    }
   ],
   "source": [
    "baskets[baskets['sku_id'] == 327].price.sort_values(ascending = True).reset_index(drop=True)"
   ]
  },
  {
   "cell_type": "markdown",
   "id": "9f6afa5a-1fc6-463c-849f-65936ef6f0e0",
   "metadata": {},
   "source": [
    "Here I can see 8/52 different prices. It is noteworthy that there are some prices where there is only one purchase that cost that price. I will plot the frequency of the prices."
   ]
  },
  {
   "cell_type": "code",
   "execution_count": 18,
   "id": "94ebd05b-54ba-4be2-8b85-803ecca772b7",
   "metadata": {},
   "outputs": [
    {
     "data": {
      "text/plain": [
       "<AxesSubplot:>"
      ]
     },
     "execution_count": 18,
     "metadata": {},
     "output_type": "execute_result"
    },
    {
     "data": {
      "image/png": "[encoded data removed]",
      "text/plain": [
       "<Figure size 1080x216 with 1 Axes>"
      ]
     },
     "metadata": {
      "needs_background": "light"
     },
     "output_type": "display_data"
    }
   ],
   "source": [
    "plt.figure(figsize=(15,3)) \n",
    "baskets[baskets['sku_id'] == 327].price.sort_values(ascending = False).reset_index(drop=True).hist(bins=100)"
   ]
  },
  {
   "cell_type": "markdown",
   "id": "011ff257-110d-49f8-85c9-4e4fe9bed6ea",
   "metadata": {},
   "source": [
    "The distribution could be interpreted as normal. The graph is very wide. Am I able to trim the edges of the graph in order to be more zoomed in."
   ]
  },
  {
   "cell_type": "markdown",
   "id": "f8617eb1-c0eb-4d69-a060-edfdda9915de",
   "metadata": {},
   "source": [
    "I will next look to see the description of this data set."
   ]
  },
  {
   "cell_type": "code",
   "execution_count": 19,
   "id": "7194765a-ea12-4392-8304-6cbaa91c7321",
   "metadata": {},
   "outputs": [
    {
     "data": {
      "text/html": [
       "<div>\n",
       "<style scoped>\n",
       "    .dataframe tbody tr th:only-of-type {\n",
       "        vertical-align: middle;\n",
       "    }\n",
       "\n",
       "    .dataframe tbody tr th {\n",
       "        vertical-align: top;\n",
       "    }\n",
       "\n",
       "    .dataframe thead th {\n",
       "        text-align: right;\n",
       "    }\n",
       "</style>\n",
       "<table border=\"1\" class=\"dataframe\">\n",
       "  <thead>\n",
       "    <tr style=\"text-align: right;\">\n",
       "      <th></th>\n",
       "      <th>id</th>\n",
       "      <th>order_id</th>\n",
       "      <th>merchant_id</th>\n",
       "      <th>sku_id</th>\n",
       "      <th>top_cat_id</th>\n",
       "      <th>sub_cat_id</th>\n",
       "      <th>qty</th>\n",
       "      <th>price</th>\n",
       "    </tr>\n",
       "  </thead>\n",
       "  <tbody>\n",
       "    <tr>\n",
       "      <th>count</th>\n",
       "      <td>7500.000000</td>\n",
       "      <td>7500.000000</td>\n",
       "      <td>7500.000000</td>\n",
       "      <td>7500.0</td>\n",
       "      <td>7500.0</td>\n",
       "      <td>7500.0</td>\n",
       "      <td>7500.000000</td>\n",
       "      <td>7500.000000</td>\n",
       "    </tr>\n",
       "    <tr>\n",
       "      <th>mean</th>\n",
       "      <td>168571.441600</td>\n",
       "      <td>29209.634400</td>\n",
       "      <td>844.856933</td>\n",
       "      <td>327.0</td>\n",
       "      <td>13.0</td>\n",
       "      <td>32.0</td>\n",
       "      <td>7.942800</td>\n",
       "      <td>122996.308000</td>\n",
       "    </tr>\n",
       "    <tr>\n",
       "      <th>std</th>\n",
       "      <td>99473.980223</td>\n",
       "      <td>19333.097286</td>\n",
       "      <td>552.805622</td>\n",
       "      <td>0.0</td>\n",
       "      <td>0.0</td>\n",
       "      <td>0.0</td>\n",
       "      <td>32.568109</td>\n",
       "      <td>7854.349932</td>\n",
       "    </tr>\n",
       "    <tr>\n",
       "      <th>min</th>\n",
       "      <td>958.000000</td>\n",
       "      <td>1.000000</td>\n",
       "      <td>2.000000</td>\n",
       "      <td>327.0</td>\n",
       "      <td>13.0</td>\n",
       "      <td>32.0</td>\n",
       "      <td>1.000000</td>\n",
       "      <td>66500.000000</td>\n",
       "    </tr>\n",
       "    <tr>\n",
       "      <th>25%</th>\n",
       "      <td>69830.250000</td>\n",
       "      <td>9082.750000</td>\n",
       "      <td>413.000000</td>\n",
       "      <td>327.0</td>\n",
       "      <td>13.0</td>\n",
       "      <td>32.0</td>\n",
       "      <td>1.000000</td>\n",
       "      <td>118000.000000</td>\n",
       "    </tr>\n",
       "    <tr>\n",
       "      <th>50%</th>\n",
       "      <td>176378.500000</td>\n",
       "      <td>30356.500000</td>\n",
       "      <td>665.000000</td>\n",
       "      <td>327.0</td>\n",
       "      <td>13.0</td>\n",
       "      <td>32.0</td>\n",
       "      <td>2.000000</td>\n",
       "      <td>122000.000000</td>\n",
       "    </tr>\n",
       "    <tr>\n",
       "      <th>75%</th>\n",
       "      <td>249164.000000</td>\n",
       "      <td>45475.500000</td>\n",
       "      <td>1262.000000</td>\n",
       "      <td>327.0</td>\n",
       "      <td>13.0</td>\n",
       "      <td>32.0</td>\n",
       "      <td>5.000000</td>\n",
       "      <td>124500.000000</td>\n",
       "    </tr>\n",
       "    <tr>\n",
       "      <th>max</th>\n",
       "      <td>336428.000000</td>\n",
       "      <td>62045.000000</td>\n",
       "      <td>2135.000000</td>\n",
       "      <td>327.0</td>\n",
       "      <td>13.0</td>\n",
       "      <td>32.0</td>\n",
       "      <td>1000.000000</td>\n",
       "      <td>520000.000000</td>\n",
       "    </tr>\n",
       "  </tbody>\n",
       "</table>\n",
       "</div>"
      ],
      "text/plain": [
       "                  id      order_id  merchant_id  sku_id  top_cat_id  \\\n",
       "count    7500.000000   7500.000000  7500.000000  7500.0      7500.0   \n",
       "mean   168571.441600  29209.634400   844.856933   327.0        13.0   \n",
       "std     99473.980223  19333.097286   552.805622     0.0         0.0   \n",
       "min       958.000000      1.000000     2.000000   327.0        13.0   \n",
       "25%     69830.250000   9082.750000   413.000000   327.0        13.0   \n",
       "50%    176378.500000  30356.500000   665.000000   327.0        13.0   \n",
       "75%    249164.000000  45475.500000  1262.000000   327.0        13.0   \n",
       "max    336428.000000  62045.000000  2135.000000   327.0        13.0   \n",
       "\n",
       "       sub_cat_id          qty          price  \n",
       "count      7500.0  7500.000000    7500.000000  \n",
       "mean         32.0     7.942800  122996.308000  \n",
       "std           0.0    32.568109    7854.349932  \n",
       "min          32.0     1.000000   66500.000000  \n",
       "25%          32.0     1.000000  118000.000000  \n",
       "50%          32.0     2.000000  122000.000000  \n",
       "75%          32.0     5.000000  124500.000000  \n",
       "max          32.0  1000.000000  520000.000000  "
      ]
     },
     "execution_count": 19,
     "metadata": {},
     "output_type": "execute_result"
    }
   ],
   "source": [
    "baskets[baskets['sku_id'] == 327].describe()"
   ]
  },
  {
   "cell_type": "markdown",
   "id": "f40268ca-43a0-4683-9a99-b17aaab74af8",
   "metadata": {},
   "source": [
    "I would like to graph the change of price of this SKU over time, to see if there are trends. If there are trends, a next step could be to see if there are similar trends in the category."
   ]
  },
  {
   "cell_type": "code",
   "execution_count": 20,
   "id": "07260a2c-f9cb-406d-b65e-181c409fde13",
   "metadata": {},
   "outputs": [
    {
     "data": {
      "text/plain": [
       "<AxesSubplot:xlabel='placed_at'>"
      ]
     },
     "execution_count": 20,
     "metadata": {},
     "output_type": "execute_result"
    },
    {
     "data": {
      "image/png": "[encoded data removed]",
      "text/plain": [
       "<Figure size 432x288 with 1 Axes>"
      ]
     },
     "metadata": {
      "needs_background": "light"
     },
     "output_type": "display_data"
    }
   ],
   "source": [
    "baskets[baskets['sku_id'] == 327].plot(x = 'placed_at', y = 'price')"
   ]
  },
  {
   "cell_type": "markdown",
   "id": "28f09233-e32f-4f9f-b2b1-0957ee86874a",
   "metadata": {},
   "source": [
    "This graph needs to be tidier, but it is interesting to see that price for this SKU has continually risen over the time that the data has been recorded. Next, I will make a tidier graph."
   ]
  },
  {
   "cell_type": "markdown",
   "id": "373981a5-e8ab-4977-b8d9-b85914c2e6ae",
   "metadata": {},
   "source": [
    "The code below, from NB03, separates place_at into date, year, month, day, hour, and weekday."
   ]
  },
  {
   "cell_type": "code",
   "execution_count": 21,
   "id": "1631d12f-9f3b-461d-9a9c-6362107da0a5",
   "metadata": {},
   "outputs": [
    {
     "data": {
      "text/html": [
       "<div>\n",
       "<style scoped>\n",
       "    .dataframe tbody tr th:only-of-type {\n",
       "        vertical-align: middle;\n",
       "    }\n",
       "\n",
       "    .dataframe tbody tr th {\n",
       "        vertical-align: top;\n",
       "    }\n",
       "\n",
       "    .dataframe thead th {\n",
       "        text-align: right;\n",
       "    }\n",
       "</style>\n",
       "<table border=\"1\" class=\"dataframe\">\n",
       "  <thead>\n",
       "    <tr style=\"text-align: right;\">\n",
       "      <th></th>\n",
       "      <th>id</th>\n",
       "      <th>order_id</th>\n",
       "      <th>placed_at</th>\n",
       "      <th>merchant_id</th>\n",
       "      <th>sku_id</th>\n",
       "      <th>top_cat_id</th>\n",
       "      <th>sub_cat_id</th>\n",
       "      <th>qty</th>\n",
       "      <th>price</th>\n",
       "      <th>datetime</th>\n",
       "      <th>date</th>\n",
       "      <th>year</th>\n",
       "      <th>month</th>\n",
       "      <th>day</th>\n",
       "      <th>hour</th>\n",
       "      <th>weekday</th>\n",
       "    </tr>\n",
       "  </thead>\n",
       "  <tbody>\n",
       "    <tr>\n",
       "      <th>0</th>\n",
       "      <td>1</td>\n",
       "      <td>2</td>\n",
       "      <td>2021-04-09 16:19:27.998</td>\n",
       "      <td>46</td>\n",
       "      <td>101</td>\n",
       "      <td>3.0</td>\n",
       "      <td>94.0</td>\n",
       "      <td>400</td>\n",
       "      <td>134000.0</td>\n",
       "      <td>2021-04-09 16:19:27.998</td>\n",
       "      <td>2021-04-09</td>\n",
       "      <td>2021</td>\n",
       "      <td>4</td>\n",
       "      <td>9</td>\n",
       "      <td>16</td>\n",
       "      <td>4</td>\n",
       "    </tr>\n",
       "    <tr>\n",
       "      <th>1</th>\n",
       "      <td>2</td>\n",
       "      <td>2</td>\n",
       "      <td>2021-04-09 16:19:27.998</td>\n",
       "      <td>46</td>\n",
       "      <td>100</td>\n",
       "      <td>3.0</td>\n",
       "      <td>94.0</td>\n",
       "      <td>400</td>\n",
       "      <td>137000.0</td>\n",
       "      <td>2021-04-09 16:19:27.998</td>\n",
       "      <td>2021-04-09</td>\n",
       "      <td>2021</td>\n",
       "      <td>4</td>\n",
       "      <td>9</td>\n",
       "      <td>16</td>\n",
       "      <td>4</td>\n",
       "    </tr>\n",
       "    <tr>\n",
       "      <th>2</th>\n",
       "      <td>3</td>\n",
       "      <td>2</td>\n",
       "      <td>2021-04-09 16:19:27.998</td>\n",
       "      <td>46</td>\n",
       "      <td>102</td>\n",
       "      <td>3.0</td>\n",
       "      <td>94.0</td>\n",
       "      <td>400</td>\n",
       "      <td>169000.0</td>\n",
       "      <td>2021-04-09 16:19:27.998</td>\n",
       "      <td>2021-04-09</td>\n",
       "      <td>2021</td>\n",
       "      <td>4</td>\n",
       "      <td>9</td>\n",
       "      <td>16</td>\n",
       "      <td>4</td>\n",
       "    </tr>\n",
       "  </tbody>\n",
       "</table>\n",
       "</div>"
      ],
      "text/plain": [
       "   id  order_id                placed_at  merchant_id  sku_id  top_cat_id  \\\n",
       "0   1         2  2021-04-09 16:19:27.998           46     101         3.0   \n",
       "1   2         2  2021-04-09 16:19:27.998           46     100         3.0   \n",
       "2   3         2  2021-04-09 16:19:27.998           46     102         3.0   \n",
       "\n",
       "   sub_cat_id  qty     price                datetime        date  year  month  \\\n",
       "0        94.0  400  134000.0 2021-04-09 16:19:27.998  2021-04-09  2021      4   \n",
       "1        94.0  400  137000.0 2021-04-09 16:19:27.998  2021-04-09  2021      4   \n",
       "2        94.0  400  169000.0 2021-04-09 16:19:27.998  2021-04-09  2021      4   \n",
       "\n",
       "   day  hour  weekday  \n",
       "0    9    16        4  \n",
       "1    9    16        4  \n",
       "2    9    16        4  "
      ]
     },
     "execution_count": 21,
     "metadata": {},
     "output_type": "execute_result"
    }
   ],
   "source": [
    "baskets['datetime'] = baskets['placed_at'].apply(lambda x: datetime.fromisoformat(x))\n",
    "\n",
    "baskets['date'] = baskets['datetime'].dt.date\n",
    "baskets['year'] = baskets['datetime'].dt.year\n",
    "baskets['month'] = baskets['datetime'].dt.month\n",
    "baskets['day'] = baskets['datetime'].dt.day\n",
    "baskets['hour'] = baskets['datetime'].dt.hour\n",
    "baskets['weekday'] = baskets['datetime'].dt.weekday\n",
    "baskets.head(3)"
   ]
  },
  {
   "cell_type": "code",
   "execution_count": 22,
   "id": "70286194-2242-4d11-ad9f-3fab604ded63",
   "metadata": {},
   "outputs": [
    {
     "data": {
      "text/plain": [
       "<AxesSubplot:xlabel='date'>"
      ]
     },
     "execution_count": 22,
     "metadata": {},
     "output_type": "execute_result"
    },
    {
     "data": {
      "image/png": "[encoded data removed]",
      "text/plain": [
       "<Figure size 432x288 with 1 Axes>"
      ]
     },
     "metadata": {
      "needs_background": "light"
     },
     "output_type": "display_data"
    }
   ],
   "source": [
    "baskets[baskets['sku_id'] == 327].plot(x = 'date', y = 'price')"
   ]
  },
  {
   "cell_type": "markdown",
   "id": "1426e76f-9c40-4c28-8b35-2287df3aa8fc",
   "metadata": {},
   "source": [
    "I will plot the price over time of the top SKUs, but on separate graphs."
   ]
  },
  {
   "cell_type": "code",
   "execution_count": 25,
   "id": "f7e598a2-d5a4-44f2-b7d4-03d4473b4c0f",
   "metadata": {
    "colab": {
     "base_uri": "https://localhost:8080/"
    },
    "id": "LJRzy7lKLx6G",
    "outputId": "c91edee9-5660-4b7d-f76c-b1dea0c8cc88",
    "pycharm": {
     "name": "#%%\n"
    }
   },
   "outputs": [
    {
     "data": {
      "text/plain": [
       "327    7500\n",
       "522    6919\n",
       "390    6409\n",
       "438    5589\n",
       "523    4804\n",
       "263    4548\n",
       "185    4463\n",
       "521    4462\n",
       "276    3718\n",
       "184    3480\n",
       "Name: sku_id, dtype: int64"
      ]
     },
     "execution_count": 25,
     "metadata": {},
     "output_type": "execute_result"
    }
   ],
   "source": [
    "baskets['sku_id'].value_counts().head(10)"
   ]
  },
  {
   "cell_type": "code",
   "execution_count": 26,
   "id": "53099cba-74c6-4361-855d-89cc7870e598",
   "metadata": {},
   "outputs": [
    {
     "data": {
      "text/plain": [
       "<AxesSubplot:xlabel='date'>"
      ]
     },
     "execution_count": 26,
     "metadata": {},
     "output_type": "execute_result"
    },
    {
     "data": {
      "image/png": "[encoded data removed]",
      "text/plain": [
       "<Figure size 432x288 with 1 Axes>"
      ]
     },
     "metadata": {
      "needs_background": "light"
     },
     "output_type": "display_data"
    }
   ],
   "source": [
    "baskets[baskets['sku_id'] == 522].plot(x = 'date', y = 'price')"
   ]
  },
  {
   "cell_type": "code",
   "execution_count": 27,
   "id": "7da5e3f2-a5fd-40ea-9468-8a9e131ebe7e",
   "metadata": {},
   "outputs": [
    {
     "data": {
      "text/plain": [
       "<AxesSubplot:xlabel='date'>"
      ]
     },
     "execution_count": 27,
     "metadata": {},
     "output_type": "execute_result"
    },
    {
     "data": {
      "image/png": "[encoded data removed]",
      "text/plain": [
       "<Figure size 432x288 with 1 Axes>"
      ]
     },
     "metadata": {
      "needs_background": "light"
     },
     "output_type": "display_data"
    }
   ],
   "source": [
    "baskets[baskets['sku_id'] == 390].plot(x = 'date', y = 'price')"
   ]
  },
  {
   "cell_type": "code",
   "execution_count": 28,
   "id": "e6aa62db-7828-46ee-a0c1-512549805680",
   "metadata": {},
   "outputs": [
    {
     "data": {
      "text/plain": [
       "<AxesSubplot:xlabel='date'>"
      ]
     },
     "execution_count": 28,
     "metadata": {},
     "output_type": "execute_result"
    },
    {
     "data": {
      "image/png": "[encoded data removed]",
      "text/plain": [
       "<Figure size 432x288 with 1 Axes>"
      ]
     },
     "metadata": {
      "needs_background": "light"
     },
     "output_type": "display_data"
    }
   ],
   "source": [
    "baskets[baskets['sku_id'] == 438].plot(x = 'date', y = 'price')"
   ]
  },
  {
   "cell_type": "code",
   "execution_count": 29,
   "id": "fa3048c6-a119-4d79-9ca8-9c702c90a383",
   "metadata": {},
   "outputs": [
    {
     "data": {
      "text/plain": [
       "<AxesSubplot:xlabel='date'>"
      ]
     },
     "execution_count": 29,
     "metadata": {},
     "output_type": "execute_result"
    },
    {
     "data": {
      "image/png": "[encoded data removed]",
      "text/plain": [
       "<Figure size 432x288 with 1 Axes>"
      ]
     },
     "metadata": {
      "needs_background": "light"
     },
     "output_type": "display_data"
    }
   ],
   "source": [
    "baskets[baskets['sku_id'] == 523].plot(x = 'date', y = 'price')"
   ]
  },
  {
   "cell_type": "code",
   "execution_count": 30,
   "id": "3520ed70-4d07-4fe5-bbc2-d0eb233e1df7",
   "metadata": {},
   "outputs": [
    {
     "data": {
      "text/plain": [
       "<AxesSubplot:xlabel='date'>"
      ]
     },
     "execution_count": 30,
     "metadata": {},
     "output_type": "execute_result"
    },
    {
     "data": {
      "image/png": "[encoded data removed]",
      "text/plain": [
       "<Figure size 432x288 with 1 Axes>"
      ]
     },
     "metadata": {
      "needs_background": "light"
     },
     "output_type": "display_data"
    }
   ],
   "source": [
    "baskets[baskets['sku_id'] == 263].plot(x = 'date', y = 'price')"
   ]
  },
  {
   "cell_type": "markdown",
   "id": "bea33ebd-dcae-4b32-9ebb-1ebdb57b9fe8",
   "metadata": {},
   "source": [
    "The fluxuation of this plot is interesting. Why are there consistently so many low prices?"
   ]
  },
  {
   "cell_type": "code",
   "execution_count": 31,
   "id": "f99a678e-be64-4eac-a3e7-d8dc8894edba",
   "metadata": {},
   "outputs": [
    {
     "data": {
      "text/plain": [
       "<AxesSubplot:xlabel='date'>"
      ]
     },
     "execution_count": 31,
     "metadata": {},
     "output_type": "execute_result"
    },
    {
     "data": {
      "image/png": "[encoded data removed]",
      "text/plain": [
       "<Figure size 432x288 with 1 Axes>"
      ]
     },
     "metadata": {
      "needs_background": "light"
     },
     "output_type": "display_data"
    }
   ],
   "source": [
    "baskets[baskets['sku_id'] == 185].plot(x = 'date', y = 'price')"
   ]
  },
  {
   "cell_type": "code",
   "execution_count": 32,
   "id": "37003cba-6ba6-4592-94f7-cc89c9e1f943",
   "metadata": {},
   "outputs": [
    {
     "data": {
      "text/plain": [
       "<AxesSubplot:xlabel='date'>"
      ]
     },
     "execution_count": 32,
     "metadata": {},
     "output_type": "execute_result"
    },
    {
     "data": {
      "image/png": "[encoded data removed]",
      "text/plain": [
       "<Figure size 432x288 with 1 Axes>"
      ]
     },
     "metadata": {
      "needs_background": "light"
     },
     "output_type": "display_data"
    }
   ],
   "source": [
    "baskets[baskets['sku_id'] == 521].plot(x = 'date', y = 'price')"
   ]
  },
  {
   "cell_type": "code",
   "execution_count": 33,
   "id": "e328dd72-0789-4652-8a27-372170e85dd7",
   "metadata": {},
   "outputs": [
    {
     "data": {
      "text/plain": [
       "<AxesSubplot:xlabel='date'>"
      ]
     },
     "execution_count": 33,
     "metadata": {},
     "output_type": "execute_result"
    },
    {
     "data": {
      "image/png": "[encoded data removed]",
      "text/plain": [
       "<Figure size 432x288 with 1 Axes>"
      ]
     },
     "metadata": {
      "needs_background": "light"
     },
     "output_type": "display_data"
    }
   ],
   "source": [
    "baskets[baskets['sku_id'] == 276].plot(x = 'date', y = 'price')"
   ]
  },
  {
   "cell_type": "markdown",
   "id": "416ef86c-0940-4b1c-bddb-e812ee6e0012",
   "metadata": {},
   "source": [
    "I am noticing that these charts have a general upward trend, but the amount of change differs between them. Additionally, each plot has several points that do not follow the trend. How can these be accounted for? Is there a way to measure the amount of change throughout the 12 months? Maybe the average change between orders? Can I create a new variable that is the change in price from last purchase of this SKU?"
   ]
  },
  {
   "cell_type": "markdown",
   "id": "280d2ef3-4cfd-4fd3-b1f8-2716f6c2712a",
   "metadata": {},
   "source": [
    "Based on discussion in work session, I am looking for similarity between vectors that measure trends in price of different SKUs. The challenge here is to create vectors of the same length so they can be compared by cosine. I hope to take the average price paid for an sku for each day. "
   ]
  },
  {
   "cell_type": "code",
   "execution_count": 95,
   "id": "edabee60-73fb-425a-b7f4-db62a9892dbd",
   "metadata": {},
   "outputs": [],
   "source": [
    "SKU_baskets = baskets.groupby(['sku_id', 'date']).agg({'price':'mean'}).reset_index()"
   ]
  },
  {
   "cell_type": "markdown",
   "id": "ebfbb6cd-2644-43ca-a2a9-8041f10f7b23",
   "metadata": {},
   "source": [
    "This creates dataset with the average prices of SKUs each day. "
   ]
  },
  {
   "cell_type": "markdown",
   "id": "c4def2b0-d996-45c1-a106-9b3df13d78d6",
   "metadata": {},
   "source": [
    "This needs to be rerun with each drop."
   ]
  },
  {
   "cell_type": "code",
   "execution_count": 96,
   "id": "bae5df68-216f-44c4-afc2-eaf739fc2314",
   "metadata": {},
   "outputs": [
    {
     "data": {
      "text/html": [
       "<div>\n",
       "<style scoped>\n",
       "    .dataframe tbody tr th:only-of-type {\n",
       "        vertical-align: middle;\n",
       "    }\n",
       "\n",
       "    .dataframe tbody tr th {\n",
       "        vertical-align: top;\n",
       "    }\n",
       "\n",
       "    .dataframe thead th {\n",
       "        text-align: right;\n",
       "    }\n",
       "</style>\n",
       "<table border=\"1\" class=\"dataframe\">\n",
       "  <thead>\n",
       "    <tr style=\"text-align: right;\">\n",
       "      <th></th>\n",
       "      <th>sku_id</th>\n",
       "      <th>date</th>\n",
       "      <th>price</th>\n",
       "    </tr>\n",
       "  </thead>\n",
       "  <tbody>\n",
       "    <tr>\n",
       "      <th>0</th>\n",
       "      <td>1</td>\n",
       "      <td>2021-06-15</td>\n",
       "      <td>336000.000000</td>\n",
       "    </tr>\n",
       "    <tr>\n",
       "      <th>1</th>\n",
       "      <td>1</td>\n",
       "      <td>2021-06-26</td>\n",
       "      <td>322500.000000</td>\n",
       "    </tr>\n",
       "    <tr>\n",
       "      <th>2</th>\n",
       "      <td>1</td>\n",
       "      <td>2021-06-28</td>\n",
       "      <td>322500.000000</td>\n",
       "    </tr>\n",
       "    <tr>\n",
       "      <th>3</th>\n",
       "      <td>1</td>\n",
       "      <td>2021-07-21</td>\n",
       "      <td>350000.000000</td>\n",
       "    </tr>\n",
       "    <tr>\n",
       "      <th>4</th>\n",
       "      <td>2</td>\n",
       "      <td>2021-05-11</td>\n",
       "      <td>179000.000000</td>\n",
       "    </tr>\n",
       "    <tr>\n",
       "      <th>...</th>\n",
       "      <td>...</td>\n",
       "      <td>...</td>\n",
       "      <td>...</td>\n",
       "    </tr>\n",
       "    <tr>\n",
       "      <th>111901</th>\n",
       "      <td>1616</td>\n",
       "      <td>2022-08-11</td>\n",
       "      <td>142666.666667</td>\n",
       "    </tr>\n",
       "    <tr>\n",
       "      <th>111902</th>\n",
       "      <td>1616</td>\n",
       "      <td>2022-08-12</td>\n",
       "      <td>144000.000000</td>\n",
       "    </tr>\n",
       "    <tr>\n",
       "      <th>111903</th>\n",
       "      <td>1616</td>\n",
       "      <td>2022-08-13</td>\n",
       "      <td>144000.000000</td>\n",
       "    </tr>\n",
       "    <tr>\n",
       "      <th>111904</th>\n",
       "      <td>1616</td>\n",
       "      <td>2022-08-14</td>\n",
       "      <td>144000.000000</td>\n",
       "    </tr>\n",
       "    <tr>\n",
       "      <th>111905</th>\n",
       "      <td>1616</td>\n",
       "      <td>2022-08-15</td>\n",
       "      <td>144000.000000</td>\n",
       "    </tr>\n",
       "  </tbody>\n",
       "</table>\n",
       "<p>111906 rows × 3 columns</p>\n",
       "</div>"
      ],
      "text/plain": [
       "        sku_id        date          price\n",
       "0            1  2021-06-15  336000.000000\n",
       "1            1  2021-06-26  322500.000000\n",
       "2            1  2021-06-28  322500.000000\n",
       "3            1  2021-07-21  350000.000000\n",
       "4            2  2021-05-11  179000.000000\n",
       "...        ...         ...            ...\n",
       "111901    1616  2022-08-11  142666.666667\n",
       "111902    1616  2022-08-12  144000.000000\n",
       "111903    1616  2022-08-13  144000.000000\n",
       "111904    1616  2022-08-14  144000.000000\n",
       "111905    1616  2022-08-15  144000.000000\n",
       "\n",
       "[111906 rows x 3 columns]"
      ]
     },
     "execution_count": 96,
     "metadata": {},
     "output_type": "execute_result"
    }
   ],
   "source": [
    "SKU_baskets"
   ]
  },
  {
   "cell_type": "code",
   "execution_count": 97,
   "id": "a34e5b92-8c36-4353-9aff-9630aaca3b4f",
   "metadata": {},
   "outputs": [
    {
     "data": {
      "text/html": [
       "<div>\n",
       "<style scoped>\n",
       "    .dataframe tbody tr th:only-of-type {\n",
       "        vertical-align: middle;\n",
       "    }\n",
       "\n",
       "    .dataframe tbody tr th {\n",
       "        vertical-align: top;\n",
       "    }\n",
       "\n",
       "    .dataframe thead th {\n",
       "        text-align: right;\n",
       "    }\n",
       "</style>\n",
       "<table border=\"1\" class=\"dataframe\">\n",
       "  <thead>\n",
       "    <tr style=\"text-align: right;\">\n",
       "      <th></th>\n",
       "      <th>id</th>\n",
       "      <th>order_id</th>\n",
       "      <th>placed_at</th>\n",
       "      <th>merchant_id</th>\n",
       "      <th>sku_id</th>\n",
       "      <th>top_cat_id</th>\n",
       "      <th>sub_cat_id</th>\n",
       "      <th>qty</th>\n",
       "      <th>price</th>\n",
       "      <th>datetime</th>\n",
       "      <th>date</th>\n",
       "      <th>year</th>\n",
       "      <th>month</th>\n",
       "      <th>day</th>\n",
       "      <th>hour</th>\n",
       "      <th>weekday</th>\n",
       "      <th>spent</th>\n",
       "    </tr>\n",
       "  </thead>\n",
       "  <tbody>\n",
       "  </tbody>\n",
       "</table>\n",
       "</div>"
      ],
      "text/plain": [
       "Empty DataFrame\n",
       "Columns: [id, order_id, placed_at, merchant_id, sku_id, top_cat_id, sub_cat_id, qty, price, datetime, date, year, month, day, hour, weekday, spent]\n",
       "Index: []"
      ]
     },
     "execution_count": 97,
     "metadata": {},
     "output_type": "execute_result"
    }
   ],
   "source": [
    "baskets[(baskets['price'] >140000) & (baskets['sku_id'] == 327)]"
   ]
  },
  {
   "cell_type": "markdown",
   "id": "75595454-5b60-4ba4-addd-95c6a9a1c0f4",
   "metadata": {
    "tags": []
   },
   "source": [
    "This finds SKU 327 of price greater than 140000."
   ]
  },
  {
   "cell_type": "code",
   "execution_count": 37,
   "id": "3eff28a5-2081-4acb-9e5e-65225f608ffd",
   "metadata": {},
   "outputs": [],
   "source": [
    "baskets.drop(baskets[(baskets['price'] >140000) & (baskets['sku_id'] == 327)].index,inplace=True)"
   ]
  },
  {
   "cell_type": "markdown",
   "id": "00264bea-fb5b-4793-8be8-3b168980a209",
   "metadata": {},
   "source": [
    "This drops the ids above."
   ]
  },
  {
   "cell_type": "code",
   "execution_count": 38,
   "id": "542996d8-d425-433b-9eb4-e35b44a6fe04",
   "metadata": {
    "tags": []
   },
   "outputs": [
    {
     "data": {
      "text/html": [
       "<div>\n",
       "<style scoped>\n",
       "    .dataframe tbody tr th:only-of-type {\n",
       "        vertical-align: middle;\n",
       "    }\n",
       "\n",
       "    .dataframe tbody tr th {\n",
       "        vertical-align: top;\n",
       "    }\n",
       "\n",
       "    .dataframe thead th {\n",
       "        text-align: right;\n",
       "    }\n",
       "</style>\n",
       "<table border=\"1\" class=\"dataframe\">\n",
       "  <thead>\n",
       "    <tr style=\"text-align: right;\">\n",
       "      <th></th>\n",
       "      <th>id</th>\n",
       "      <th>order_id</th>\n",
       "      <th>placed_at</th>\n",
       "      <th>merchant_id</th>\n",
       "      <th>sku_id</th>\n",
       "      <th>top_cat_id</th>\n",
       "      <th>sub_cat_id</th>\n",
       "      <th>qty</th>\n",
       "      <th>price</th>\n",
       "      <th>datetime</th>\n",
       "      <th>date</th>\n",
       "      <th>year</th>\n",
       "      <th>month</th>\n",
       "      <th>day</th>\n",
       "      <th>hour</th>\n",
       "      <th>weekday</th>\n",
       "    </tr>\n",
       "  </thead>\n",
       "  <tbody>\n",
       "    <tr>\n",
       "      <th>334071</th>\n",
       "      <td>330043</td>\n",
       "      <td>60778</td>\n",
       "      <td>2022-08-10 15:43:22.635</td>\n",
       "      <td>2121</td>\n",
       "      <td>327</td>\n",
       "      <td>13.0</td>\n",
       "      <td>32.0</td>\n",
       "      <td>10</td>\n",
       "      <td>66500.0</td>\n",
       "      <td>2022-08-10 15:43:22.635</td>\n",
       "      <td>2022-08-10</td>\n",
       "      <td>2022</td>\n",
       "      <td>8</td>\n",
       "      <td>10</td>\n",
       "      <td>15</td>\n",
       "      <td>2</td>\n",
       "    </tr>\n",
       "  </tbody>\n",
       "</table>\n",
       "</div>"
      ],
      "text/plain": [
       "            id  order_id                placed_at  merchant_id  sku_id  \\\n",
       "334071  330043     60778  2022-08-10 15:43:22.635         2121     327   \n",
       "\n",
       "        top_cat_id  sub_cat_id  qty    price                datetime  \\\n",
       "334071        13.0        32.0   10  66500.0 2022-08-10 15:43:22.635   \n",
       "\n",
       "              date  year  month  day  hour  weekday  \n",
       "334071  2022-08-10  2022      8   10    15        2  "
      ]
     },
     "execution_count": 38,
     "metadata": {},
     "output_type": "execute_result"
    }
   ],
   "source": [
    "baskets[(baskets['price'] < 100000) & (baskets['sku_id'] == 327)]"
   ]
  },
  {
   "cell_type": "code",
   "execution_count": 39,
   "id": "d196b3b9-deb4-436c-a422-cf3ad9d9fb14",
   "metadata": {
    "tags": []
   },
   "outputs": [],
   "source": [
    "baskets.drop(baskets[(baskets['price'] < 100000) & (baskets['sku_id'] == 327)].index, inplace = True)"
   ]
  },
  {
   "cell_type": "markdown",
   "id": "0b3fd726-fcb0-4a41-afae-185e15119a78",
   "metadata": {},
   "source": [
    "The above cells drop the lowest price."
   ]
  },
  {
   "cell_type": "code",
   "execution_count": 40,
   "id": "a53432fe-f7a9-44d7-9d88-2ea814eba528",
   "metadata": {},
   "outputs": [
    {
     "data": {
      "text/plain": [
       "<AxesSubplot:xlabel='date'>"
      ]
     },
     "execution_count": 40,
     "metadata": {},
     "output_type": "execute_result"
    },
    {
     "data": {
      "image/png": "[encoded data removed]",
      "text/plain": [
       "<Figure size 432x288 with 1 Axes>"
      ]
     },
     "metadata": {
      "needs_background": "light"
     },
     "output_type": "display_data"
    }
   ],
   "source": [
    "SKU_baskets[SKU_baskets['sku_id'] == 327].plot(x = 'date', y = 'price')"
   ]
  },
  {
   "cell_type": "code",
   "execution_count": 41,
   "id": "bf55b692-8248-4561-8ca9-ba4a95a03025",
   "metadata": {},
   "outputs": [
    {
     "data": {
      "text/plain": [
       "<AxesSubplot:xlabel='date'>"
      ]
     },
     "execution_count": 41,
     "metadata": {},
     "output_type": "execute_result"
    },
    {
     "data": {
      "image/png": "[encoded data removed]",
      "text/plain": [
       "<Figure size 432x288 with 1 Axes>"
      ]
     },
     "metadata": {
      "needs_background": "light"
     },
     "output_type": "display_data"
    }
   ],
   "source": [
    "baskets[baskets['sku_id'] == 327].plot(x = 'date', y = 'price')"
   ]
  },
  {
   "cell_type": "markdown",
   "id": "f97a3300-11e8-45c4-b385-973a0b12b033",
   "metadata": {},
   "source": [
    "The two above plots are the graphed average price by day, followed by a graph of all prices. I will do the same for the next most common SKU."
   ]
  },
  {
   "cell_type": "markdown",
   "id": "195a6b0d-672a-41fd-94ec-908a7aa31e44",
   "metadata": {},
   "source": [
    "They do have an upward projection overall, but with small peaks and valleys."
   ]
  },
  {
   "cell_type": "markdown",
   "id": "62178636-8046-4ce2-a504-8649ea37d15f",
   "metadata": {},
   "source": [
    "These graphs suggest that even within individual days, there are different prices. There may be some trends throughout the week as well as overall. "
   ]
  },
  {
   "cell_type": "markdown",
   "id": "5dfdb861-6f81-4c8b-8c0c-df82b766f31b",
   "metadata": {},
   "source": [
    "I may need to group by week, or even month, as there are several stretches without any purchases.\n",
    "I will use this same graphing of average prices per day method on the next most common SKUs and compare."
   ]
  },
  {
   "cell_type": "code",
   "execution_count": 42,
   "id": "ac48304a-2c6f-40d0-aaf7-a7ba14efeedf",
   "metadata": {},
   "outputs": [
    {
     "data": {
      "text/html": [
       "<div>\n",
       "<style scoped>\n",
       "    .dataframe tbody tr th:only-of-type {\n",
       "        vertical-align: middle;\n",
       "    }\n",
       "\n",
       "    .dataframe tbody tr th {\n",
       "        vertical-align: top;\n",
       "    }\n",
       "\n",
       "    .dataframe thead th {\n",
       "        text-align: right;\n",
       "    }\n",
       "</style>\n",
       "<table border=\"1\" class=\"dataframe\">\n",
       "  <thead>\n",
       "    <tr style=\"text-align: right;\">\n",
       "      <th></th>\n",
       "      <th>id</th>\n",
       "      <th>order_id</th>\n",
       "      <th>placed_at</th>\n",
       "      <th>merchant_id</th>\n",
       "      <th>sku_id</th>\n",
       "      <th>top_cat_id</th>\n",
       "      <th>sub_cat_id</th>\n",
       "      <th>qty</th>\n",
       "      <th>price</th>\n",
       "      <th>datetime</th>\n",
       "      <th>date</th>\n",
       "      <th>year</th>\n",
       "      <th>month</th>\n",
       "      <th>day</th>\n",
       "      <th>hour</th>\n",
       "      <th>weekday</th>\n",
       "    </tr>\n",
       "  </thead>\n",
       "  <tbody>\n",
       "    <tr>\n",
       "      <th>267718</th>\n",
       "      <td>267878</td>\n",
       "      <td>49483</td>\n",
       "      <td>2022-04-07 22:45:18.321</td>\n",
       "      <td>1915</td>\n",
       "      <td>522</td>\n",
       "      <td>3.0</td>\n",
       "      <td>94.0</td>\n",
       "      <td>2</td>\n",
       "      <td>451250.0</td>\n",
       "      <td>2022-04-07 22:45:18.321</td>\n",
       "      <td>2022-04-07</td>\n",
       "      <td>2022</td>\n",
       "      <td>4</td>\n",
       "      <td>7</td>\n",
       "      <td>22</td>\n",
       "      <td>3</td>\n",
       "    </tr>\n",
       "    <tr>\n",
       "      <th>301823</th>\n",
       "      <td>299977</td>\n",
       "      <td>54901</td>\n",
       "      <td>2022-06-09 10:03:19.310</td>\n",
       "      <td>1232</td>\n",
       "      <td>522</td>\n",
       "      <td>3.0</td>\n",
       "      <td>94.0</td>\n",
       "      <td>3</td>\n",
       "      <td>350000.0</td>\n",
       "      <td>2022-06-09 10:03:19.310</td>\n",
       "      <td>2022-06-09</td>\n",
       "      <td>2022</td>\n",
       "      <td>6</td>\n",
       "      <td>9</td>\n",
       "      <td>10</td>\n",
       "      <td>3</td>\n",
       "    </tr>\n",
       "    <tr>\n",
       "      <th>302256</th>\n",
       "      <td>300743</td>\n",
       "      <td>54881</td>\n",
       "      <td>2022-06-10 13:53:16.056</td>\n",
       "      <td>1361</td>\n",
       "      <td>522</td>\n",
       "      <td>3.0</td>\n",
       "      <td>94.0</td>\n",
       "      <td>1</td>\n",
       "      <td>409000.0</td>\n",
       "      <td>2022-06-10 13:53:16.056</td>\n",
       "      <td>2022-06-10</td>\n",
       "      <td>2022</td>\n",
       "      <td>6</td>\n",
       "      <td>10</td>\n",
       "      <td>13</td>\n",
       "      <td>4</td>\n",
       "    </tr>\n",
       "    <tr>\n",
       "      <th>313073</th>\n",
       "      <td>311568</td>\n",
       "      <td>56834</td>\n",
       "      <td>2022-06-29 11:10:26.929</td>\n",
       "      <td>66</td>\n",
       "      <td>522</td>\n",
       "      <td>3.0</td>\n",
       "      <td>94.0</td>\n",
       "      <td>4</td>\n",
       "      <td>322500.0</td>\n",
       "      <td>2022-06-29 11:10:26.929</td>\n",
       "      <td>2022-06-29</td>\n",
       "      <td>2022</td>\n",
       "      <td>6</td>\n",
       "      <td>29</td>\n",
       "      <td>11</td>\n",
       "      <td>2</td>\n",
       "    </tr>\n",
       "  </tbody>\n",
       "</table>\n",
       "</div>"
      ],
      "text/plain": [
       "            id  order_id                placed_at  merchant_id  sku_id  \\\n",
       "267718  267878     49483  2022-04-07 22:45:18.321         1915     522   \n",
       "301823  299977     54901  2022-06-09 10:03:19.310         1232     522   \n",
       "302256  300743     54881  2022-06-10 13:53:16.056         1361     522   \n",
       "313073  311568     56834  2022-06-29 11:10:26.929           66     522   \n",
       "\n",
       "        top_cat_id  sub_cat_id  qty     price                datetime  \\\n",
       "267718         3.0        94.0    2  451250.0 2022-04-07 22:45:18.321   \n",
       "301823         3.0        94.0    3  350000.0 2022-06-09 10:03:19.310   \n",
       "302256         3.0        94.0    1  409000.0 2022-06-10 13:53:16.056   \n",
       "313073         3.0        94.0    4  322500.0 2022-06-29 11:10:26.929   \n",
       "\n",
       "              date  year  month  day  hour  weekday  \n",
       "267718  2022-04-07  2022      4    7    22        3  \n",
       "301823  2022-06-09  2022      6    9    10        3  \n",
       "302256  2022-06-10  2022      6   10    13        4  \n",
       "313073  2022-06-29  2022      6   29    11        2  "
      ]
     },
     "execution_count": 42,
     "metadata": {},
     "output_type": "execute_result"
    }
   ],
   "source": [
    "baskets[(baskets['price'] >250000) & (baskets['sku_id'] == 522)]"
   ]
  },
  {
   "cell_type": "code",
   "execution_count": 43,
   "id": "b95615cc-f01f-4115-b75f-3c2c44d08d2c",
   "metadata": {},
   "outputs": [],
   "source": [
    "baskets.drop(baskets[(baskets['price'] >250000) & (baskets['sku_id'] == 522)].index,inplace=True)"
   ]
  },
  {
   "cell_type": "markdown",
   "id": "aeebbb37-9565-4c83-8305-838252ccf344",
   "metadata": {},
   "source": [
    "The cells above drop the outanding high prices of SKU 522."
   ]
  },
  {
   "cell_type": "code",
   "execution_count": 98,
   "id": "49872102-397f-4cfd-babd-ad9c42eca560",
   "metadata": {},
   "outputs": [
    {
     "data": {
      "text/html": [
       "<div>\n",
       "<style scoped>\n",
       "    .dataframe tbody tr th:only-of-type {\n",
       "        vertical-align: middle;\n",
       "    }\n",
       "\n",
       "    .dataframe tbody tr th {\n",
       "        vertical-align: top;\n",
       "    }\n",
       "\n",
       "    .dataframe thead th {\n",
       "        text-align: right;\n",
       "    }\n",
       "</style>\n",
       "<table border=\"1\" class=\"dataframe\">\n",
       "  <thead>\n",
       "    <tr style=\"text-align: right;\">\n",
       "      <th></th>\n",
       "      <th>id</th>\n",
       "      <th>order_id</th>\n",
       "      <th>placed_at</th>\n",
       "      <th>merchant_id</th>\n",
       "      <th>sku_id</th>\n",
       "      <th>top_cat_id</th>\n",
       "      <th>sub_cat_id</th>\n",
       "      <th>qty</th>\n",
       "      <th>price</th>\n",
       "      <th>datetime</th>\n",
       "      <th>date</th>\n",
       "      <th>year</th>\n",
       "      <th>month</th>\n",
       "      <th>day</th>\n",
       "      <th>hour</th>\n",
       "      <th>weekday</th>\n",
       "      <th>spent</th>\n",
       "    </tr>\n",
       "  </thead>\n",
       "  <tbody>\n",
       "  </tbody>\n",
       "</table>\n",
       "</div>"
      ],
      "text/plain": [
       "Empty DataFrame\n",
       "Columns: [id, order_id, placed_at, merchant_id, sku_id, top_cat_id, sub_cat_id, qty, price, datetime, date, year, month, day, hour, weekday, spent]\n",
       "Index: []"
      ]
     },
     "execution_count": 98,
     "metadata": {},
     "output_type": "execute_result"
    }
   ],
   "source": [
    "baskets[(baskets['price'] < 140000) & (baskets['sku_id'] == 522)]"
   ]
  },
  {
   "cell_type": "code",
   "execution_count": 45,
   "id": "4628b304-c4bb-459c-96e6-8b9a13cb60a1",
   "metadata": {},
   "outputs": [],
   "source": [
    "baskets.drop(baskets[(baskets['price'] < 140000) & (baskets['sku_id'] == 522)].index,inplace=True)"
   ]
  },
  {
   "cell_type": "code",
   "execution_count": 46,
   "id": "ec31e03a-ab98-4089-92d4-4b2f34cc3fd0",
   "metadata": {},
   "outputs": [
    {
     "data": {
      "text/plain": [
       "<AxesSubplot:xlabel='date'>"
      ]
     },
     "execution_count": 46,
     "metadata": {},
     "output_type": "execute_result"
    },
    {
     "data": {
      "image/png": "[encoded data removed]",
      "text/plain": [
       "<Figure size 432x288 with 1 Axes>"
      ]
     },
     "metadata": {
      "needs_background": "light"
     },
     "output_type": "display_data"
    }
   ],
   "source": [
    "SKU_baskets[SKU_baskets['sku_id'] == 522].plot(x = 'date', y = 'price')"
   ]
  },
  {
   "cell_type": "code",
   "execution_count": 47,
   "id": "7403f579-1c0e-4e5c-84a6-56faf95c30bf",
   "metadata": {},
   "outputs": [
    {
     "data": {
      "text/plain": [
       "<AxesSubplot:xlabel='date'>"
      ]
     },
     "execution_count": 47,
     "metadata": {},
     "output_type": "execute_result"
    },
    {
     "data": {
      "image/png": "[encoded data removed]",
      "text/plain": [
       "<Figure size 432x288 with 1 Axes>"
      ]
     },
     "metadata": {
      "needs_background": "light"
     },
     "output_type": "display_data"
    }
   ],
   "source": [
    "baskets[baskets['sku_id'] == 522].plot(x = 'date', y = 'price')"
   ]
  },
  {
   "cell_type": "markdown",
   "id": "152b6514-c3cf-49df-8eca-d6544491f11e",
   "metadata": {},
   "source": [
    "These graphs also make it seem like there are ranges of prices on similar days, as the graph with each individual price has less smooth progression."
   ]
  },
  {
   "cell_type": "markdown",
   "id": "16ffa160-b687-4779-84f3-16b8bf53990f",
   "metadata": {},
   "source": [
    "I have put the first graphs from SKU 327 below. The most interesting sections are those with the wider range of orders in a short time, the most notable in these graphs being in September and October."
   ]
  },
  {
   "cell_type": "code",
   "execution_count": 48,
   "id": "67671cda-ab1e-4124-b111-b95e8feb0de2",
   "metadata": {},
   "outputs": [
    {
     "data": {
      "text/plain": [
       "<AxesSubplot:xlabel='date'>"
      ]
     },
     "execution_count": 48,
     "metadata": {},
     "output_type": "execute_result"
    },
    {
     "data": {
      "image/png": "[encoded data removed]",
      "text/plain": [
       "<Figure size 432x288 with 1 Axes>"
      ]
     },
     "metadata": {
      "needs_background": "light"
     },
     "output_type": "display_data"
    }
   ],
   "source": [
    "SKU_baskets[SKU_baskets['sku_id'] == 327].plot(x = 'date', y = 'price')"
   ]
  },
  {
   "cell_type": "code",
   "execution_count": 49,
   "id": "10ab9ebc-13db-49c2-a40b-85d233884b36",
   "metadata": {},
   "outputs": [
    {
     "data": {
      "text/plain": [
       "<AxesSubplot:xlabel='date'>"
      ]
     },
     "execution_count": 49,
     "metadata": {},
     "output_type": "execute_result"
    },
    {
     "data": {
      "image/png": "[encoded data removed]",
      "text/plain": [
       "<Figure size 432x288 with 1 Axes>"
      ]
     },
     "metadata": {
      "needs_background": "light"
     },
     "output_type": "display_data"
    }
   ],
   "source": [
    "baskets[baskets['sku_id'] == 327].plot(x = 'date', y = 'price')"
   ]
  },
  {
   "cell_type": "code",
   "execution_count": 50,
   "id": "aa6f075d-13b4-404c-b5f6-4f0ce396f05d",
   "metadata": {},
   "outputs": [
    {
     "data": {
      "text/plain": [
       "<AxesSubplot:xlabel='date'>"
      ]
     },
     "execution_count": 50,
     "metadata": {},
     "output_type": "execute_result"
    },
    {
     "data": {
      "image/png": "[encoded data removed]",
      "text/plain": [
       "<Figure size 432x288 with 1 Axes>"
      ]
     },
     "metadata": {
      "needs_background": "light"
     },
     "output_type": "display_data"
    }
   ],
   "source": [
    "baskets[(baskets['sku_id'] == 327) & ((baskets['month'] == 9) |(baskets['month'] == 10))].plot(x = 'date', y = 'price')"
   ]
  },
  {
   "cell_type": "markdown",
   "id": "904ca73d-52eb-4a54-b9e5-1f831708514d",
   "metadata": {},
   "source": [
    "15,000 = 1 dollar, so about a dollar's increase for SKU 327 over the year. "
   ]
  },
  {
   "cell_type": "markdown",
   "id": "b82d814d-0b9c-4661-9e1a-78358488060f",
   "metadata": {},
   "source": [
    "dividing everything by 150, it would be equivalent to cents. The changes of the above graph is relatively insignificant. At the same time, why are the changes in price made?"
   ]
  },
  {
   "cell_type": "markdown",
   "id": "b1b3d7e0-cba2-44f5-9d25-573801ead959",
   "metadata": {},
   "source": [
    "Thinking of methods of anomaly detection:\n",
    "Many of the graphs above require this removal or repairing of data.\n",
    "A way to continue is to look at different anomalies and solutions.\n",
    "- removing vs repairing vs imputing \n",
    "- solutions for anomalies"
   ]
  },
  {
   "cell_type": "markdown",
   "id": "ad3418e5-f2e9-4f10-9615-e49918ea4d47",
   "metadata": {},
   "source": [
    "Below, I look at SKU 263, where the graph that is the least clean of the graphs run above. "
   ]
  },
  {
   "cell_type": "code",
   "execution_count": 51,
   "id": "99a5f4bd-15c5-444a-9d69-1b12f156531d",
   "metadata": {},
   "outputs": [
    {
     "data": {
      "text/plain": [
       "<AxesSubplot:xlabel='date'>"
      ]
     },
     "execution_count": 51,
     "metadata": {},
     "output_type": "execute_result"
    },
    {
     "data": {
      "image/png": "[encoded data removed]",
      "text/plain": [
       "<Figure size 432x288 with 1 Axes>"
      ]
     },
     "metadata": {
      "needs_background": "light"
     },
     "output_type": "display_data"
    }
   ],
   "source": [
    "baskets[baskets['sku_id'] == 263].plot(x = 'date', y = 'price')"
   ]
  },
  {
   "cell_type": "code",
   "execution_count": 52,
   "id": "49cd34fe-28b1-47c8-8a8a-f6a73a7dc456",
   "metadata": {},
   "outputs": [
    {
     "data": {
      "text/html": [
       "<div>\n",
       "<style scoped>\n",
       "    .dataframe tbody tr th:only-of-type {\n",
       "        vertical-align: middle;\n",
       "    }\n",
       "\n",
       "    .dataframe tbody tr th {\n",
       "        vertical-align: top;\n",
       "    }\n",
       "\n",
       "    .dataframe thead th {\n",
       "        text-align: right;\n",
       "    }\n",
       "</style>\n",
       "<table border=\"1\" class=\"dataframe\">\n",
       "  <thead>\n",
       "    <tr style=\"text-align: right;\">\n",
       "      <th></th>\n",
       "      <th>id</th>\n",
       "      <th>order_id</th>\n",
       "      <th>merchant_id</th>\n",
       "      <th>sku_id</th>\n",
       "      <th>top_cat_id</th>\n",
       "      <th>sub_cat_id</th>\n",
       "      <th>qty</th>\n",
       "      <th>price</th>\n",
       "      <th>year</th>\n",
       "      <th>month</th>\n",
       "      <th>day</th>\n",
       "      <th>hour</th>\n",
       "      <th>weekday</th>\n",
       "    </tr>\n",
       "  </thead>\n",
       "  <tbody>\n",
       "    <tr>\n",
       "      <th>count</th>\n",
       "      <td>4548.000000</td>\n",
       "      <td>4548.000000</td>\n",
       "      <td>4548.000000</td>\n",
       "      <td>4548.0</td>\n",
       "      <td>4548.0</td>\n",
       "      <td>4548.0</td>\n",
       "      <td>4548.000000</td>\n",
       "      <td>4548.000000</td>\n",
       "      <td>4548.000000</td>\n",
       "      <td>4548.000000</td>\n",
       "      <td>4548.000000</td>\n",
       "      <td>4548.000000</td>\n",
       "      <td>4548.000000</td>\n",
       "    </tr>\n",
       "    <tr>\n",
       "      <th>mean</th>\n",
       "      <td>148846.138962</td>\n",
       "      <td>25235.666227</td>\n",
       "      <td>730.091029</td>\n",
       "      <td>263.0</td>\n",
       "      <td>4.0</td>\n",
       "      <td>21.0</td>\n",
       "      <td>7.285840</td>\n",
       "      <td>568506.881424</td>\n",
       "      <td>2021.423043</td>\n",
       "      <td>7.530783</td>\n",
       "      <td>15.685796</td>\n",
       "      <td>12.606201</td>\n",
       "      <td>2.538039</td>\n",
       "    </tr>\n",
       "    <tr>\n",
       "      <th>std</th>\n",
       "      <td>95151.672154</td>\n",
       "      <td>18478.694457</td>\n",
       "      <td>499.153045</td>\n",
       "      <td>0.0</td>\n",
       "      <td>0.0</td>\n",
       "      <td>0.0</td>\n",
       "      <td>42.716877</td>\n",
       "      <td>103016.520533</td>\n",
       "      <td>0.494096</td>\n",
       "      <td>3.912972</td>\n",
       "      <td>8.680280</td>\n",
       "      <td>3.917045</td>\n",
       "      <td>1.805011</td>\n",
       "    </tr>\n",
       "    <tr>\n",
       "      <th>min</th>\n",
       "      <td>853.000000</td>\n",
       "      <td>62.000000</td>\n",
       "      <td>1.000000</td>\n",
       "      <td>263.0</td>\n",
       "      <td>4.0</td>\n",
       "      <td>21.0</td>\n",
       "      <td>1.000000</td>\n",
       "      <td>1200.000000</td>\n",
       "      <td>2021.000000</td>\n",
       "      <td>1.000000</td>\n",
       "      <td>1.000000</td>\n",
       "      <td>0.000000</td>\n",
       "      <td>0.000000</td>\n",
       "    </tr>\n",
       "    <tr>\n",
       "      <th>25%</th>\n",
       "      <td>70011.250000</td>\n",
       "      <td>9100.250000</td>\n",
       "      <td>343.000000</td>\n",
       "      <td>263.0</td>\n",
       "      <td>4.0</td>\n",
       "      <td>21.0</td>\n",
       "      <td>1.000000</td>\n",
       "      <td>557500.000000</td>\n",
       "      <td>2021.000000</td>\n",
       "      <td>4.000000</td>\n",
       "      <td>8.000000</td>\n",
       "      <td>10.000000</td>\n",
       "      <td>1.000000</td>\n",
       "    </tr>\n",
       "    <tr>\n",
       "      <th>50%</th>\n",
       "      <td>136824.500000</td>\n",
       "      <td>21928.500000</td>\n",
       "      <td>650.000000</td>\n",
       "      <td>263.0</td>\n",
       "      <td>4.0</td>\n",
       "      <td>21.0</td>\n",
       "      <td>1.000000</td>\n",
       "      <td>575000.000000</td>\n",
       "      <td>2021.000000</td>\n",
       "      <td>9.000000</td>\n",
       "      <td>15.000000</td>\n",
       "      <td>12.000000</td>\n",
       "      <td>2.000000</td>\n",
       "    </tr>\n",
       "    <tr>\n",
       "      <th>75%</th>\n",
       "      <td>217963.500000</td>\n",
       "      <td>39368.250000</td>\n",
       "      <td>1062.000000</td>\n",
       "      <td>263.0</td>\n",
       "      <td>4.0</td>\n",
       "      <td>21.0</td>\n",
       "      <td>2.000000</td>\n",
       "      <td>620000.000000</td>\n",
       "      <td>2022.000000</td>\n",
       "      <td>11.000000</td>\n",
       "      <td>23.000000</td>\n",
       "      <td>15.000000</td>\n",
       "      <td>4.000000</td>\n",
       "    </tr>\n",
       "    <tr>\n",
       "      <th>max</th>\n",
       "      <td>336470.000000</td>\n",
       "      <td>62035.000000</td>\n",
       "      <td>2127.000000</td>\n",
       "      <td>263.0</td>\n",
       "      <td>4.0</td>\n",
       "      <td>21.0</td>\n",
       "      <td>1500.000000</td>\n",
       "      <td>650000.000000</td>\n",
       "      <td>2022.000000</td>\n",
       "      <td>12.000000</td>\n",
       "      <td>31.000000</td>\n",
       "      <td>23.000000</td>\n",
       "      <td>6.000000</td>\n",
       "    </tr>\n",
       "  </tbody>\n",
       "</table>\n",
       "</div>"
      ],
      "text/plain": [
       "                  id      order_id  merchant_id  sku_id  top_cat_id  \\\n",
       "count    4548.000000   4548.000000  4548.000000  4548.0      4548.0   \n",
       "mean   148846.138962  25235.666227   730.091029   263.0         4.0   \n",
       "std     95151.672154  18478.694457   499.153045     0.0         0.0   \n",
       "min       853.000000     62.000000     1.000000   263.0         4.0   \n",
       "25%     70011.250000   9100.250000   343.000000   263.0         4.0   \n",
       "50%    136824.500000  21928.500000   650.000000   263.0         4.0   \n",
       "75%    217963.500000  39368.250000  1062.000000   263.0         4.0   \n",
       "max    336470.000000  62035.000000  2127.000000   263.0         4.0   \n",
       "\n",
       "       sub_cat_id          qty          price         year        month  \\\n",
       "count      4548.0  4548.000000    4548.000000  4548.000000  4548.000000   \n",
       "mean         21.0     7.285840  568506.881424  2021.423043     7.530783   \n",
       "std           0.0    42.716877  103016.520533     0.494096     3.912972   \n",
       "min          21.0     1.000000    1200.000000  2021.000000     1.000000   \n",
       "25%          21.0     1.000000  557500.000000  2021.000000     4.000000   \n",
       "50%          21.0     1.000000  575000.000000  2021.000000     9.000000   \n",
       "75%          21.0     2.000000  620000.000000  2022.000000    11.000000   \n",
       "max          21.0  1500.000000  650000.000000  2022.000000    12.000000   \n",
       "\n",
       "               day         hour      weekday  \n",
       "count  4548.000000  4548.000000  4548.000000  \n",
       "mean     15.685796    12.606201     2.538039  \n",
       "std       8.680280     3.917045     1.805011  \n",
       "min       1.000000     0.000000     0.000000  \n",
       "25%       8.000000    10.000000     1.000000  \n",
       "50%      15.000000    12.000000     2.000000  \n",
       "75%      23.000000    15.000000     4.000000  \n",
       "max      31.000000    23.000000     6.000000  "
      ]
     },
     "execution_count": 52,
     "metadata": {},
     "output_type": "execute_result"
    }
   ],
   "source": [
    "baskets[baskets['sku_id'] == 263].describe()"
   ]
  },
  {
   "cell_type": "code",
   "execution_count": 53,
   "id": "88fb2bf5-fd56-4b24-bf95-8bd27b86ba34",
   "metadata": {},
   "outputs": [
    {
     "data": {
      "text/plain": [
       "count      4548.000000\n",
       "mean     568506.881424\n",
       "std      103016.520533\n",
       "min        1200.000000\n",
       "25%      557500.000000\n",
       "50%      575000.000000\n",
       "75%      620000.000000\n",
       "max      650000.000000\n",
       "Name: price, dtype: float64"
      ]
     },
     "execution_count": 53,
     "metadata": {},
     "output_type": "execute_result"
    }
   ],
   "source": [
    "baskets[baskets['sku_id'] == 263].price.describe()"
   ]
  },
  {
   "cell_type": "code",
   "execution_count": 54,
   "id": "59686078-15da-436b-8435-652ec8de87cb",
   "metadata": {},
   "outputs": [
    {
     "data": {
      "text/plain": [
       "<AxesSubplot:>"
      ]
     },
     "execution_count": 54,
     "metadata": {},
     "output_type": "execute_result"
    },
    {
     "data": {
      "image/png": "[encoded data removed]",
      "text/plain": [
       "<Figure size 1080x216 with 1 Axes>"
      ]
     },
     "metadata": {
      "needs_background": "light"
     },
     "output_type": "display_data"
    }
   ],
   "source": [
    "plt.figure(figsize=(15,3)) \n",
    "baskets[baskets['sku_id'] == 263].price.sort_values(ascending = False).reset_index(drop=True).hist(bins=100)"
   ]
  },
  {
   "cell_type": "markdown",
   "id": "904601b4-2492-4a52-afa3-240180009327",
   "metadata": {},
   "source": [
    "There are a number of very low prices, below 100000, while the rest are between 500000 and 700000."
   ]
  },
  {
   "cell_type": "markdown",
   "id": "c3c75502-7caa-46f7-a78b-b5f7102044f5",
   "metadata": {},
   "source": [
    "I list the prices of this SKU. "
   ]
  },
  {
   "cell_type": "code",
   "execution_count": 55,
   "id": "e78f043e-39f1-4072-aa1b-c69b0b9e12c8",
   "metadata": {},
   "outputs": [
    {
     "data": {
      "text/plain": [
       "77"
      ]
     },
     "execution_count": 55,
     "metadata": {},
     "output_type": "execute_result"
    }
   ],
   "source": [
    "baskets[baskets['sku_id'] == 263].price.nunique()"
   ]
  },
  {
   "cell_type": "code",
   "execution_count": 56,
   "id": "44a7930f-0bab-42fd-b6d6-a0617779fa3f",
   "metadata": {},
   "outputs": [
    {
     "data": {
      "text/plain": [
       "0         1200.0\n",
       "1         1200.0\n",
       "2         1200.0\n",
       "3         1200.0\n",
       "4         1200.0\n",
       "          ...   \n",
       "4543    650000.0\n",
       "4544    650000.0\n",
       "4545    650000.0\n",
       "4546    650000.0\n",
       "4547    650000.0\n",
       "Name: price, Length: 4548, dtype: float64"
      ]
     },
     "execution_count": 56,
     "metadata": {},
     "output_type": "execute_result"
    }
   ],
   "source": [
    "baskets[baskets['sku_id'] == 263].price.sort_values(ascending = True).reset_index(drop=True)"
   ]
  },
  {
   "cell_type": "code",
   "execution_count": 58,
   "id": "24dc9874-f00d-4285-945c-99adc530cefe",
   "metadata": {},
   "outputs": [
    {
     "data": {
      "text/html": [
       "<div>\n",
       "<style scoped>\n",
       "    .dataframe tbody tr th:only-of-type {\n",
       "        vertical-align: middle;\n",
       "    }\n",
       "\n",
       "    .dataframe tbody tr th {\n",
       "        vertical-align: top;\n",
       "    }\n",
       "\n",
       "    .dataframe thead th {\n",
       "        text-align: right;\n",
       "    }\n",
       "</style>\n",
       "<table border=\"1\" class=\"dataframe\">\n",
       "  <thead>\n",
       "    <tr style=\"text-align: right;\">\n",
       "      <th></th>\n",
       "      <th>id</th>\n",
       "      <th>order_id</th>\n",
       "      <th>placed_at</th>\n",
       "      <th>merchant_id</th>\n",
       "      <th>sku_id</th>\n",
       "      <th>top_cat_id</th>\n",
       "      <th>sub_cat_id</th>\n",
       "      <th>qty</th>\n",
       "      <th>price</th>\n",
       "      <th>datetime</th>\n",
       "      <th>date</th>\n",
       "      <th>year</th>\n",
       "      <th>month</th>\n",
       "      <th>day</th>\n",
       "      <th>hour</th>\n",
       "      <th>weekday</th>\n",
       "    </tr>\n",
       "  </thead>\n",
       "  <tbody>\n",
       "    <tr>\n",
       "      <th>1178</th>\n",
       "      <td>1169</td>\n",
       "      <td>113</td>\n",
       "      <td>2021-06-21 22:37:22.283</td>\n",
       "      <td>362</td>\n",
       "      <td>263</td>\n",
       "      <td>4.0</td>\n",
       "      <td>21.0</td>\n",
       "      <td>50</td>\n",
       "      <td>10850.0</td>\n",
       "      <td>2021-06-21 22:37:22.283</td>\n",
       "      <td>2021-06-21</td>\n",
       "      <td>2021</td>\n",
       "      <td>6</td>\n",
       "      <td>21</td>\n",
       "      <td>22</td>\n",
       "      <td>0</td>\n",
       "    </tr>\n",
       "    <tr>\n",
       "      <th>47914</th>\n",
       "      <td>47940</td>\n",
       "      <td>5838</td>\n",
       "      <td>2021-10-18 09:31:40.864</td>\n",
       "      <td>1061</td>\n",
       "      <td>263</td>\n",
       "      <td>4.0</td>\n",
       "      <td>21.0</td>\n",
       "      <td>50</td>\n",
       "      <td>12000.0</td>\n",
       "      <td>2021-10-18 09:31:40.864</td>\n",
       "      <td>2021-10-18</td>\n",
       "      <td>2021</td>\n",
       "      <td>10</td>\n",
       "      <td>18</td>\n",
       "      <td>9</td>\n",
       "      <td>0</td>\n",
       "    </tr>\n",
       "    <tr>\n",
       "      <th>53657</th>\n",
       "      <td>53787</td>\n",
       "      <td>6703</td>\n",
       "      <td>2021-10-21 18:49:49.593</td>\n",
       "      <td>325</td>\n",
       "      <td>263</td>\n",
       "      <td>4.0</td>\n",
       "      <td>21.0</td>\n",
       "      <td>50</td>\n",
       "      <td>1200.0</td>\n",
       "      <td>2021-10-21 18:49:49.593</td>\n",
       "      <td>2021-10-21</td>\n",
       "      <td>2021</td>\n",
       "      <td>10</td>\n",
       "      <td>21</td>\n",
       "      <td>18</td>\n",
       "      <td>3</td>\n",
       "    </tr>\n",
       "    <tr>\n",
       "      <th>54288</th>\n",
       "      <td>54420</td>\n",
       "      <td>6810</td>\n",
       "      <td>2021-10-22 11:19:43.390</td>\n",
       "      <td>171</td>\n",
       "      <td>263</td>\n",
       "      <td>4.0</td>\n",
       "      <td>21.0</td>\n",
       "      <td>10</td>\n",
       "      <td>54700.0</td>\n",
       "      <td>2021-10-22 11:19:43.390</td>\n",
       "      <td>2021-10-22</td>\n",
       "      <td>2021</td>\n",
       "      <td>10</td>\n",
       "      <td>22</td>\n",
       "      <td>11</td>\n",
       "      <td>4</td>\n",
       "    </tr>\n",
       "    <tr>\n",
       "      <th>56479</th>\n",
       "      <td>56543</td>\n",
       "      <td>7141</td>\n",
       "      <td>2021-10-23 11:28:47.788</td>\n",
       "      <td>752</td>\n",
       "      <td>263</td>\n",
       "      <td>4.0</td>\n",
       "      <td>21.0</td>\n",
       "      <td>10</td>\n",
       "      <td>1200.0</td>\n",
       "      <td>2021-10-23 11:28:47.788</td>\n",
       "      <td>2021-10-23</td>\n",
       "      <td>2021</td>\n",
       "      <td>10</td>\n",
       "      <td>23</td>\n",
       "      <td>11</td>\n",
       "      <td>5</td>\n",
       "    </tr>\n",
       "    <tr>\n",
       "      <th>...</th>\n",
       "      <td>...</td>\n",
       "      <td>...</td>\n",
       "      <td>...</td>\n",
       "      <td>...</td>\n",
       "      <td>...</td>\n",
       "      <td>...</td>\n",
       "      <td>...</td>\n",
       "      <td>...</td>\n",
       "      <td>...</td>\n",
       "      <td>...</td>\n",
       "      <td>...</td>\n",
       "      <td>...</td>\n",
       "      <td>...</td>\n",
       "      <td>...</td>\n",
       "      <td>...</td>\n",
       "      <td>...</td>\n",
       "    </tr>\n",
       "    <tr>\n",
       "      <th>282004</th>\n",
       "      <td>282137</td>\n",
       "      <td>51776</td>\n",
       "      <td>2022-04-30 09:11:46.817</td>\n",
       "      <td>777</td>\n",
       "      <td>263</td>\n",
       "      <td>4.0</td>\n",
       "      <td>21.0</td>\n",
       "      <td>150</td>\n",
       "      <td>13000.0</td>\n",
       "      <td>2022-04-30 09:11:46.817</td>\n",
       "      <td>2022-04-30</td>\n",
       "      <td>2022</td>\n",
       "      <td>4</td>\n",
       "      <td>30</td>\n",
       "      <td>9</td>\n",
       "      <td>5</td>\n",
       "    </tr>\n",
       "    <tr>\n",
       "      <th>282114</th>\n",
       "      <td>282259</td>\n",
       "      <td>51789</td>\n",
       "      <td>2022-04-30 11:35:04.457</td>\n",
       "      <td>9</td>\n",
       "      <td>263</td>\n",
       "      <td>4.0</td>\n",
       "      <td>21.0</td>\n",
       "      <td>50</td>\n",
       "      <td>13000.0</td>\n",
       "      <td>2022-04-30 11:35:04.457</td>\n",
       "      <td>2022-04-30</td>\n",
       "      <td>2022</td>\n",
       "      <td>4</td>\n",
       "      <td>30</td>\n",
       "      <td>11</td>\n",
       "      <td>5</td>\n",
       "    </tr>\n",
       "    <tr>\n",
       "      <th>282199</th>\n",
       "      <td>282351</td>\n",
       "      <td>51805</td>\n",
       "      <td>2022-04-30 16:13:59.187</td>\n",
       "      <td>679</td>\n",
       "      <td>263</td>\n",
       "      <td>4.0</td>\n",
       "      <td>21.0</td>\n",
       "      <td>50</td>\n",
       "      <td>13000.0</td>\n",
       "      <td>2022-04-30 16:13:59.187</td>\n",
       "      <td>2022-04-30</td>\n",
       "      <td>2022</td>\n",
       "      <td>4</td>\n",
       "      <td>30</td>\n",
       "      <td>16</td>\n",
       "      <td>5</td>\n",
       "    </tr>\n",
       "    <tr>\n",
       "      <th>282226</th>\n",
       "      <td>282378</td>\n",
       "      <td>51813</td>\n",
       "      <td>2022-04-30 17:15:59.367</td>\n",
       "      <td>2086</td>\n",
       "      <td>263</td>\n",
       "      <td>4.0</td>\n",
       "      <td>21.0</td>\n",
       "      <td>100</td>\n",
       "      <td>13000.0</td>\n",
       "      <td>2022-04-30 17:15:59.367</td>\n",
       "      <td>2022-04-30</td>\n",
       "      <td>2022</td>\n",
       "      <td>4</td>\n",
       "      <td>30</td>\n",
       "      <td>17</td>\n",
       "      <td>5</td>\n",
       "    </tr>\n",
       "    <tr>\n",
       "      <th>282265</th>\n",
       "      <td>282417</td>\n",
       "      <td>51817</td>\n",
       "      <td>2022-04-30 20:01:57.924</td>\n",
       "      <td>161</td>\n",
       "      <td>263</td>\n",
       "      <td>4.0</td>\n",
       "      <td>21.0</td>\n",
       "      <td>50</td>\n",
       "      <td>13000.0</td>\n",
       "      <td>2022-04-30 20:01:57.924</td>\n",
       "      <td>2022-04-30</td>\n",
       "      <td>2022</td>\n",
       "      <td>4</td>\n",
       "      <td>30</td>\n",
       "      <td>20</td>\n",
       "      <td>5</td>\n",
       "    </tr>\n",
       "  </tbody>\n",
       "</table>\n",
       "<p>151 rows × 16 columns</p>\n",
       "</div>"
      ],
      "text/plain": [
       "            id  order_id                placed_at  merchant_id  sku_id  \\\n",
       "1178      1169       113  2021-06-21 22:37:22.283          362     263   \n",
       "47914    47940      5838  2021-10-18 09:31:40.864         1061     263   \n",
       "53657    53787      6703  2021-10-21 18:49:49.593          325     263   \n",
       "54288    54420      6810  2021-10-22 11:19:43.390          171     263   \n",
       "56479    56543      7141  2021-10-23 11:28:47.788          752     263   \n",
       "...        ...       ...                      ...          ...     ...   \n",
       "282004  282137     51776  2022-04-30 09:11:46.817          777     263   \n",
       "282114  282259     51789  2022-04-30 11:35:04.457            9     263   \n",
       "282199  282351     51805  2022-04-30 16:13:59.187          679     263   \n",
       "282226  282378     51813  2022-04-30 17:15:59.367         2086     263   \n",
       "282265  282417     51817  2022-04-30 20:01:57.924          161     263   \n",
       "\n",
       "        top_cat_id  sub_cat_id  qty    price                datetime  \\\n",
       "1178           4.0        21.0   50  10850.0 2021-06-21 22:37:22.283   \n",
       "47914          4.0        21.0   50  12000.0 2021-10-18 09:31:40.864   \n",
       "53657          4.0        21.0   50   1200.0 2021-10-21 18:49:49.593   \n",
       "54288          4.0        21.0   10  54700.0 2021-10-22 11:19:43.390   \n",
       "56479          4.0        21.0   10   1200.0 2021-10-23 11:28:47.788   \n",
       "...            ...         ...  ...      ...                     ...   \n",
       "282004         4.0        21.0  150  13000.0 2022-04-30 09:11:46.817   \n",
       "282114         4.0        21.0   50  13000.0 2022-04-30 11:35:04.457   \n",
       "282199         4.0        21.0   50  13000.0 2022-04-30 16:13:59.187   \n",
       "282226         4.0        21.0  100  13000.0 2022-04-30 17:15:59.367   \n",
       "282265         4.0        21.0   50  13000.0 2022-04-30 20:01:57.924   \n",
       "\n",
       "              date  year  month  day  hour  weekday  \n",
       "1178    2021-06-21  2021      6   21    22        0  \n",
       "47914   2021-10-18  2021     10   18     9        0  \n",
       "53657   2021-10-21  2021     10   21    18        3  \n",
       "54288   2021-10-22  2021     10   22    11        4  \n",
       "56479   2021-10-23  2021     10   23    11        5  \n",
       "...            ...   ...    ...  ...   ...      ...  \n",
       "282004  2022-04-30  2022      4   30     9        5  \n",
       "282114  2022-04-30  2022      4   30    11        5  \n",
       "282199  2022-04-30  2022      4   30    16        5  \n",
       "282226  2022-04-30  2022      4   30    17        5  \n",
       "282265  2022-04-30  2022      4   30    20        5  \n",
       "\n",
       "[151 rows x 16 columns]"
      ]
     },
     "execution_count": 58,
     "metadata": {},
     "output_type": "execute_result"
    }
   ],
   "source": [
    "baskets[(baskets['sku_id'] == 263) & (baskets['price'] < 100000)]"
   ]
  },
  {
   "cell_type": "code",
   "execution_count": 59,
   "id": "9f70a84e-8c32-416b-a738-a1f5300b3e9b",
   "metadata": {},
   "outputs": [
    {
     "data": {
      "text/plain": [
       "0      1200.0\n",
       "1      1200.0\n",
       "2      1200.0\n",
       "3      1200.0\n",
       "4      1200.0\n",
       "       ...   \n",
       "95    57500.0\n",
       "96    57500.0\n",
       "97    57500.0\n",
       "98    57500.0\n",
       "99    57500.0\n",
       "Name: price, Length: 100, dtype: float64"
      ]
     },
     "execution_count": 59,
     "metadata": {},
     "output_type": "execute_result"
    }
   ],
   "source": [
    "baskets[baskets['sku_id'] == 263].price.sort_values(ascending = True).reset_index(drop=True).head(100)"
   ]
  },
  {
   "cell_type": "code",
   "execution_count": 60,
   "id": "34f22581-8d8f-4b18-b4b8-7fd7b1a32362",
   "metadata": {},
   "outputs": [
    {
     "data": {
      "text/plain": [
       "57500.000000    28\n",
       "13000.000000    22\n",
       "55900.000000    16\n",
       "1200.000000     10\n",
       "62200.000000     8\n",
       "62000.000000     7\n",
       "63750.000000     6\n",
       "56100.000000     5\n",
       "55250.000000     4\n",
       "82642.857143     3\n",
       "54700.000000     3\n",
       "64250.000000     3\n",
       "59600.000000     3\n",
       "55750.000000     3\n",
       "63500.000000     3\n",
       "57250.000000     2\n",
       "57850.000000     2\n",
       "61250.000000     2\n",
       "64000.000000     2\n",
       "65000.000000     2\n",
       "63100.000000     2\n",
       "31000.000000     1\n",
       "12850.000000     1\n",
       "1255.000000      1\n",
       "1270.000000      1\n",
       "63800.000000     1\n",
       "62750.000000     1\n",
       "10850.000000     1\n",
       "88857.142857     1\n",
       "62500.000000     1\n",
       "12000.000000     1\n",
       "57000.000000     1\n",
       "56500.000000     1\n",
       "56000.000000     1\n",
       "55800.000000     1\n",
       "12636.000000     1\n",
       "Name: price, dtype: int64"
      ]
     },
     "execution_count": 60,
     "metadata": {},
     "output_type": "execute_result"
    }
   ],
   "source": [
    "baskets_263 = baskets[(baskets['sku_id'] == 263) & (baskets['price'] < 100000)]\n",
    "baskets_263['price'].value_counts()"
   ]
  },
  {
   "cell_type": "markdown",
   "id": "a692a964-9806-4bb0-bfc0-46e79089463f",
   "metadata": {},
   "source": [
    "I am noticing some things in this new list of low prices:\n",
    "- Some prices have lengthy decimals, which is surprising. \n",
    "- There is a wide spread of these prices, with many prices only listed once. \n",
    "- There are a significant number that lead with  5 and 6 however, so I suspect that for these values, a 0 was left off of the end of the price. \n",
    "\n",
    "I will remove these values from the list to see if there are any noticeable patterns on the smaller list. \n",
    "\n",
    "I also plan to graph the SKU prices without the small prices listed above. \n",
    "\n",
    "Why would there be so many more 'errors' for this SKU? "
   ]
  },
  {
   "cell_type": "markdown",
   "id": "fb441057-4a38-44e4-9049-e22054b1f005",
   "metadata": {},
   "source": [
    "I notice that there are two common very low prices, 13,000 and 1,200, and several of the other prices are close to these values.\n",
    "\n",
    "I look at the 13,000 price to see if there are trends. "
   ]
  },
  {
   "cell_type": "code",
   "execution_count": 63,
   "id": "0fc5cb1f-1cd9-4bd8-bf8b-a86f826c19b4",
   "metadata": {},
   "outputs": [
    {
     "data": {
      "text/html": [
       "<div>\n",
       "<style scoped>\n",
       "    .dataframe tbody tr th:only-of-type {\n",
       "        vertical-align: middle;\n",
       "    }\n",
       "\n",
       "    .dataframe tbody tr th {\n",
       "        vertical-align: top;\n",
       "    }\n",
       "\n",
       "    .dataframe thead th {\n",
       "        text-align: right;\n",
       "    }\n",
       "</style>\n",
       "<table border=\"1\" class=\"dataframe\">\n",
       "  <thead>\n",
       "    <tr style=\"text-align: right;\">\n",
       "      <th></th>\n",
       "      <th>id</th>\n",
       "      <th>order_id</th>\n",
       "      <th>placed_at</th>\n",
       "      <th>merchant_id</th>\n",
       "      <th>sku_id</th>\n",
       "      <th>top_cat_id</th>\n",
       "      <th>sub_cat_id</th>\n",
       "      <th>qty</th>\n",
       "      <th>price</th>\n",
       "      <th>datetime</th>\n",
       "      <th>date</th>\n",
       "      <th>year</th>\n",
       "      <th>month</th>\n",
       "      <th>day</th>\n",
       "      <th>hour</th>\n",
       "      <th>weekday</th>\n",
       "    </tr>\n",
       "  </thead>\n",
       "  <tbody>\n",
       "    <tr>\n",
       "      <th>277047</th>\n",
       "      <td>277204</td>\n",
       "      <td>51007</td>\n",
       "      <td>2022-04-25 15:36:07.310</td>\n",
       "      <td>1809</td>\n",
       "      <td>263</td>\n",
       "      <td>4.0</td>\n",
       "      <td>21.0</td>\n",
       "      <td>50</td>\n",
       "      <td>13000.0</td>\n",
       "      <td>2022-04-25 15:36:07.310</td>\n",
       "      <td>2022-04-25</td>\n",
       "      <td>2022</td>\n",
       "      <td>4</td>\n",
       "      <td>25</td>\n",
       "      <td>15</td>\n",
       "      <td>0</td>\n",
       "    </tr>\n",
       "    <tr>\n",
       "      <th>277125</th>\n",
       "      <td>277249</td>\n",
       "      <td>51014</td>\n",
       "      <td>2022-04-25 15:51:10.263</td>\n",
       "      <td>1100</td>\n",
       "      <td>263</td>\n",
       "      <td>4.0</td>\n",
       "      <td>21.0</td>\n",
       "      <td>50</td>\n",
       "      <td>13000.0</td>\n",
       "      <td>2022-04-25 15:51:10.263</td>\n",
       "      <td>2022-04-25</td>\n",
       "      <td>2022</td>\n",
       "      <td>4</td>\n",
       "      <td>25</td>\n",
       "      <td>15</td>\n",
       "      <td>0</td>\n",
       "    </tr>\n",
       "    <tr>\n",
       "      <th>277157</th>\n",
       "      <td>277281</td>\n",
       "      <td>51020</td>\n",
       "      <td>2022-04-25 15:56:28.057</td>\n",
       "      <td>2033</td>\n",
       "      <td>263</td>\n",
       "      <td>4.0</td>\n",
       "      <td>21.0</td>\n",
       "      <td>100</td>\n",
       "      <td>13000.0</td>\n",
       "      <td>2022-04-25 15:56:28.057</td>\n",
       "      <td>2022-04-25</td>\n",
       "      <td>2022</td>\n",
       "      <td>4</td>\n",
       "      <td>25</td>\n",
       "      <td>15</td>\n",
       "      <td>0</td>\n",
       "    </tr>\n",
       "    <tr>\n",
       "      <th>277360</th>\n",
       "      <td>277518</td>\n",
       "      <td>51055</td>\n",
       "      <td>2022-04-25 19:26:40.430</td>\n",
       "      <td>1509</td>\n",
       "      <td>263</td>\n",
       "      <td>4.0</td>\n",
       "      <td>21.0</td>\n",
       "      <td>100</td>\n",
       "      <td>13000.0</td>\n",
       "      <td>2022-04-25 19:26:40.430</td>\n",
       "      <td>2022-04-25</td>\n",
       "      <td>2022</td>\n",
       "      <td>4</td>\n",
       "      <td>25</td>\n",
       "      <td>19</td>\n",
       "      <td>0</td>\n",
       "    </tr>\n",
       "    <tr>\n",
       "      <th>277440</th>\n",
       "      <td>277609</td>\n",
       "      <td>51068</td>\n",
       "      <td>2022-04-25 19:54:04.453</td>\n",
       "      <td>2019</td>\n",
       "      <td>263</td>\n",
       "      <td>4.0</td>\n",
       "      <td>21.0</td>\n",
       "      <td>50</td>\n",
       "      <td>13000.0</td>\n",
       "      <td>2022-04-25 19:54:04.453</td>\n",
       "      <td>2022-04-25</td>\n",
       "      <td>2022</td>\n",
       "      <td>4</td>\n",
       "      <td>25</td>\n",
       "      <td>19</td>\n",
       "      <td>0</td>\n",
       "    </tr>\n",
       "    <tr>\n",
       "      <th>277582</th>\n",
       "      <td>277747</td>\n",
       "      <td>51086</td>\n",
       "      <td>2022-04-25 20:26:03.329</td>\n",
       "      <td>882</td>\n",
       "      <td>263</td>\n",
       "      <td>4.0</td>\n",
       "      <td>21.0</td>\n",
       "      <td>50</td>\n",
       "      <td>13000.0</td>\n",
       "      <td>2022-04-25 20:26:03.329</td>\n",
       "      <td>2022-04-25</td>\n",
       "      <td>2022</td>\n",
       "      <td>4</td>\n",
       "      <td>25</td>\n",
       "      <td>20</td>\n",
       "      <td>0</td>\n",
       "    </tr>\n",
       "    <tr>\n",
       "      <th>278345</th>\n",
       "      <td>278481</td>\n",
       "      <td>51212</td>\n",
       "      <td>2022-04-26 11:20:24.033</td>\n",
       "      <td>2068</td>\n",
       "      <td>263</td>\n",
       "      <td>4.0</td>\n",
       "      <td>21.0</td>\n",
       "      <td>250</td>\n",
       "      <td>13000.0</td>\n",
       "      <td>2022-04-26 11:20:24.033</td>\n",
       "      <td>2022-04-26</td>\n",
       "      <td>2022</td>\n",
       "      <td>4</td>\n",
       "      <td>26</td>\n",
       "      <td>11</td>\n",
       "      <td>1</td>\n",
       "    </tr>\n",
       "    <tr>\n",
       "      <th>279460</th>\n",
       "      <td>279593</td>\n",
       "      <td>51373</td>\n",
       "      <td>2022-04-27 09:20:16.166</td>\n",
       "      <td>2074</td>\n",
       "      <td>263</td>\n",
       "      <td>4.0</td>\n",
       "      <td>21.0</td>\n",
       "      <td>100</td>\n",
       "      <td>13000.0</td>\n",
       "      <td>2022-04-27 09:20:16.166</td>\n",
       "      <td>2022-04-27</td>\n",
       "      <td>2022</td>\n",
       "      <td>4</td>\n",
       "      <td>27</td>\n",
       "      <td>9</td>\n",
       "      <td>2</td>\n",
       "    </tr>\n",
       "    <tr>\n",
       "      <th>280474</th>\n",
       "      <td>280587</td>\n",
       "      <td>51501</td>\n",
       "      <td>2022-04-28 09:02:35.392</td>\n",
       "      <td>578</td>\n",
       "      <td>263</td>\n",
       "      <td>4.0</td>\n",
       "      <td>21.0</td>\n",
       "      <td>50</td>\n",
       "      <td>13000.0</td>\n",
       "      <td>2022-04-28 09:02:35.392</td>\n",
       "      <td>2022-04-28</td>\n",
       "      <td>2022</td>\n",
       "      <td>4</td>\n",
       "      <td>28</td>\n",
       "      <td>9</td>\n",
       "      <td>3</td>\n",
       "    </tr>\n",
       "    <tr>\n",
       "      <th>280602</th>\n",
       "      <td>280734</td>\n",
       "      <td>51523</td>\n",
       "      <td>2022-04-28 10:41:24.628</td>\n",
       "      <td>105</td>\n",
       "      <td>263</td>\n",
       "      <td>4.0</td>\n",
       "      <td>21.0</td>\n",
       "      <td>50</td>\n",
       "      <td>13000.0</td>\n",
       "      <td>2022-04-28 10:41:24.628</td>\n",
       "      <td>2022-04-28</td>\n",
       "      <td>2022</td>\n",
       "      <td>4</td>\n",
       "      <td>28</td>\n",
       "      <td>10</td>\n",
       "      <td>3</td>\n",
       "    </tr>\n",
       "    <tr>\n",
       "      <th>280606</th>\n",
       "      <td>280738</td>\n",
       "      <td>51524</td>\n",
       "      <td>2022-04-28 10:44:04.353</td>\n",
       "      <td>894</td>\n",
       "      <td>263</td>\n",
       "      <td>4.0</td>\n",
       "      <td>21.0</td>\n",
       "      <td>1500</td>\n",
       "      <td>13000.0</td>\n",
       "      <td>2022-04-28 10:44:04.353</td>\n",
       "      <td>2022-04-28</td>\n",
       "      <td>2022</td>\n",
       "      <td>4</td>\n",
       "      <td>28</td>\n",
       "      <td>10</td>\n",
       "      <td>3</td>\n",
       "    </tr>\n",
       "    <tr>\n",
       "      <th>280795</th>\n",
       "      <td>280931</td>\n",
       "      <td>51544</td>\n",
       "      <td>2022-04-28 11:48:44.752</td>\n",
       "      <td>983</td>\n",
       "      <td>263</td>\n",
       "      <td>4.0</td>\n",
       "      <td>21.0</td>\n",
       "      <td>50</td>\n",
       "      <td>13000.0</td>\n",
       "      <td>2022-04-28 11:48:44.752</td>\n",
       "      <td>2022-04-28</td>\n",
       "      <td>2022</td>\n",
       "      <td>4</td>\n",
       "      <td>28</td>\n",
       "      <td>11</td>\n",
       "      <td>3</td>\n",
       "    </tr>\n",
       "    <tr>\n",
       "      <th>281173</th>\n",
       "      <td>281340</td>\n",
       "      <td>51627</td>\n",
       "      <td>2022-04-28 20:39:12.167</td>\n",
       "      <td>868</td>\n",
       "      <td>263</td>\n",
       "      <td>4.0</td>\n",
       "      <td>21.0</td>\n",
       "      <td>100</td>\n",
       "      <td>13000.0</td>\n",
       "      <td>2022-04-28 20:39:12.167</td>\n",
       "      <td>2022-04-28</td>\n",
       "      <td>2022</td>\n",
       "      <td>4</td>\n",
       "      <td>28</td>\n",
       "      <td>20</td>\n",
       "      <td>3</td>\n",
       "    </tr>\n",
       "    <tr>\n",
       "      <th>281193</th>\n",
       "      <td>281361</td>\n",
       "      <td>51628</td>\n",
       "      <td>2022-04-28 20:40:23.772</td>\n",
       "      <td>927</td>\n",
       "      <td>263</td>\n",
       "      <td>4.0</td>\n",
       "      <td>21.0</td>\n",
       "      <td>50</td>\n",
       "      <td>13000.0</td>\n",
       "      <td>2022-04-28 20:40:23.772</td>\n",
       "      <td>2022-04-28</td>\n",
       "      <td>2022</td>\n",
       "      <td>4</td>\n",
       "      <td>28</td>\n",
       "      <td>20</td>\n",
       "      <td>3</td>\n",
       "    </tr>\n",
       "    <tr>\n",
       "      <th>281505</th>\n",
       "      <td>281651</td>\n",
       "      <td>51677</td>\n",
       "      <td>2022-04-29 10:12:45.469</td>\n",
       "      <td>1053</td>\n",
       "      <td>263</td>\n",
       "      <td>4.0</td>\n",
       "      <td>21.0</td>\n",
       "      <td>50</td>\n",
       "      <td>13000.0</td>\n",
       "      <td>2022-04-29 10:12:45.469</td>\n",
       "      <td>2022-04-29</td>\n",
       "      <td>2022</td>\n",
       "      <td>4</td>\n",
       "      <td>29</td>\n",
       "      <td>10</td>\n",
       "      <td>4</td>\n",
       "    </tr>\n",
       "    <tr>\n",
       "      <th>281791</th>\n",
       "      <td>281903</td>\n",
       "      <td>51726</td>\n",
       "      <td>2022-04-29 14:43:17.018</td>\n",
       "      <td>1049</td>\n",
       "      <td>263</td>\n",
       "      <td>4.0</td>\n",
       "      <td>21.0</td>\n",
       "      <td>50</td>\n",
       "      <td>13000.0</td>\n",
       "      <td>2022-04-29 14:43:17.018</td>\n",
       "      <td>2022-04-29</td>\n",
       "      <td>2022</td>\n",
       "      <td>4</td>\n",
       "      <td>29</td>\n",
       "      <td>14</td>\n",
       "      <td>4</td>\n",
       "    </tr>\n",
       "    <tr>\n",
       "      <th>281957</th>\n",
       "      <td>282085</td>\n",
       "      <td>51756</td>\n",
       "      <td>2022-04-29 20:42:06.201</td>\n",
       "      <td>593</td>\n",
       "      <td>263</td>\n",
       "      <td>4.0</td>\n",
       "      <td>21.0</td>\n",
       "      <td>250</td>\n",
       "      <td>13000.0</td>\n",
       "      <td>2022-04-29 20:42:06.201</td>\n",
       "      <td>2022-04-29</td>\n",
       "      <td>2022</td>\n",
       "      <td>4</td>\n",
       "      <td>29</td>\n",
       "      <td>20</td>\n",
       "      <td>4</td>\n",
       "    </tr>\n",
       "    <tr>\n",
       "      <th>282004</th>\n",
       "      <td>282137</td>\n",
       "      <td>51776</td>\n",
       "      <td>2022-04-30 09:11:46.817</td>\n",
       "      <td>777</td>\n",
       "      <td>263</td>\n",
       "      <td>4.0</td>\n",
       "      <td>21.0</td>\n",
       "      <td>150</td>\n",
       "      <td>13000.0</td>\n",
       "      <td>2022-04-30 09:11:46.817</td>\n",
       "      <td>2022-04-30</td>\n",
       "      <td>2022</td>\n",
       "      <td>4</td>\n",
       "      <td>30</td>\n",
       "      <td>9</td>\n",
       "      <td>5</td>\n",
       "    </tr>\n",
       "    <tr>\n",
       "      <th>282114</th>\n",
       "      <td>282259</td>\n",
       "      <td>51789</td>\n",
       "      <td>2022-04-30 11:35:04.457</td>\n",
       "      <td>9</td>\n",
       "      <td>263</td>\n",
       "      <td>4.0</td>\n",
       "      <td>21.0</td>\n",
       "      <td>50</td>\n",
       "      <td>13000.0</td>\n",
       "      <td>2022-04-30 11:35:04.457</td>\n",
       "      <td>2022-04-30</td>\n",
       "      <td>2022</td>\n",
       "      <td>4</td>\n",
       "      <td>30</td>\n",
       "      <td>11</td>\n",
       "      <td>5</td>\n",
       "    </tr>\n",
       "    <tr>\n",
       "      <th>282199</th>\n",
       "      <td>282351</td>\n",
       "      <td>51805</td>\n",
       "      <td>2022-04-30 16:13:59.187</td>\n",
       "      <td>679</td>\n",
       "      <td>263</td>\n",
       "      <td>4.0</td>\n",
       "      <td>21.0</td>\n",
       "      <td>50</td>\n",
       "      <td>13000.0</td>\n",
       "      <td>2022-04-30 16:13:59.187</td>\n",
       "      <td>2022-04-30</td>\n",
       "      <td>2022</td>\n",
       "      <td>4</td>\n",
       "      <td>30</td>\n",
       "      <td>16</td>\n",
       "      <td>5</td>\n",
       "    </tr>\n",
       "    <tr>\n",
       "      <th>282226</th>\n",
       "      <td>282378</td>\n",
       "      <td>51813</td>\n",
       "      <td>2022-04-30 17:15:59.367</td>\n",
       "      <td>2086</td>\n",
       "      <td>263</td>\n",
       "      <td>4.0</td>\n",
       "      <td>21.0</td>\n",
       "      <td>100</td>\n",
       "      <td>13000.0</td>\n",
       "      <td>2022-04-30 17:15:59.367</td>\n",
       "      <td>2022-04-30</td>\n",
       "      <td>2022</td>\n",
       "      <td>4</td>\n",
       "      <td>30</td>\n",
       "      <td>17</td>\n",
       "      <td>5</td>\n",
       "    </tr>\n",
       "    <tr>\n",
       "      <th>282265</th>\n",
       "      <td>282417</td>\n",
       "      <td>51817</td>\n",
       "      <td>2022-04-30 20:01:57.924</td>\n",
       "      <td>161</td>\n",
       "      <td>263</td>\n",
       "      <td>4.0</td>\n",
       "      <td>21.0</td>\n",
       "      <td>50</td>\n",
       "      <td>13000.0</td>\n",
       "      <td>2022-04-30 20:01:57.924</td>\n",
       "      <td>2022-04-30</td>\n",
       "      <td>2022</td>\n",
       "      <td>4</td>\n",
       "      <td>30</td>\n",
       "      <td>20</td>\n",
       "      <td>5</td>\n",
       "    </tr>\n",
       "  </tbody>\n",
       "</table>\n",
       "</div>"
      ],
      "text/plain": [
       "            id  order_id                placed_at  merchant_id  sku_id  \\\n",
       "277047  277204     51007  2022-04-25 15:36:07.310         1809     263   \n",
       "277125  277249     51014  2022-04-25 15:51:10.263         1100     263   \n",
       "277157  277281     51020  2022-04-25 15:56:28.057         2033     263   \n",
       "277360  277518     51055  2022-04-25 19:26:40.430         1509     263   \n",
       "277440  277609     51068  2022-04-25 19:54:04.453         2019     263   \n",
       "277582  277747     51086  2022-04-25 20:26:03.329          882     263   \n",
       "278345  278481     51212  2022-04-26 11:20:24.033         2068     263   \n",
       "279460  279593     51373  2022-04-27 09:20:16.166         2074     263   \n",
       "280474  280587     51501  2022-04-28 09:02:35.392          578     263   \n",
       "280602  280734     51523  2022-04-28 10:41:24.628          105     263   \n",
       "280606  280738     51524  2022-04-28 10:44:04.353          894     263   \n",
       "280795  280931     51544  2022-04-28 11:48:44.752          983     263   \n",
       "281173  281340     51627  2022-04-28 20:39:12.167          868     263   \n",
       "281193  281361     51628  2022-04-28 20:40:23.772          927     263   \n",
       "281505  281651     51677  2022-04-29 10:12:45.469         1053     263   \n",
       "281791  281903     51726  2022-04-29 14:43:17.018         1049     263   \n",
       "281957  282085     51756  2022-04-29 20:42:06.201          593     263   \n",
       "282004  282137     51776  2022-04-30 09:11:46.817          777     263   \n",
       "282114  282259     51789  2022-04-30 11:35:04.457            9     263   \n",
       "282199  282351     51805  2022-04-30 16:13:59.187          679     263   \n",
       "282226  282378     51813  2022-04-30 17:15:59.367         2086     263   \n",
       "282265  282417     51817  2022-04-30 20:01:57.924          161     263   \n",
       "\n",
       "        top_cat_id  sub_cat_id   qty    price                datetime  \\\n",
       "277047         4.0        21.0    50  13000.0 2022-04-25 15:36:07.310   \n",
       "277125         4.0        21.0    50  13000.0 2022-04-25 15:51:10.263   \n",
       "277157         4.0        21.0   100  13000.0 2022-04-25 15:56:28.057   \n",
       "277360         4.0        21.0   100  13000.0 2022-04-25 19:26:40.430   \n",
       "277440         4.0        21.0    50  13000.0 2022-04-25 19:54:04.453   \n",
       "277582         4.0        21.0    50  13000.0 2022-04-25 20:26:03.329   \n",
       "278345         4.0        21.0   250  13000.0 2022-04-26 11:20:24.033   \n",
       "279460         4.0        21.0   100  13000.0 2022-04-27 09:20:16.166   \n",
       "280474         4.0        21.0    50  13000.0 2022-04-28 09:02:35.392   \n",
       "280602         4.0        21.0    50  13000.0 2022-04-28 10:41:24.628   \n",
       "280606         4.0        21.0  1500  13000.0 2022-04-28 10:44:04.353   \n",
       "280795         4.0        21.0    50  13000.0 2022-04-28 11:48:44.752   \n",
       "281173         4.0        21.0   100  13000.0 2022-04-28 20:39:12.167   \n",
       "281193         4.0        21.0    50  13000.0 2022-04-28 20:40:23.772   \n",
       "281505         4.0        21.0    50  13000.0 2022-04-29 10:12:45.469   \n",
       "281791         4.0        21.0    50  13000.0 2022-04-29 14:43:17.018   \n",
       "281957         4.0        21.0   250  13000.0 2022-04-29 20:42:06.201   \n",
       "282004         4.0        21.0   150  13000.0 2022-04-30 09:11:46.817   \n",
       "282114         4.0        21.0    50  13000.0 2022-04-30 11:35:04.457   \n",
       "282199         4.0        21.0    50  13000.0 2022-04-30 16:13:59.187   \n",
       "282226         4.0        21.0   100  13000.0 2022-04-30 17:15:59.367   \n",
       "282265         4.0        21.0    50  13000.0 2022-04-30 20:01:57.924   \n",
       "\n",
       "              date  year  month  day  hour  weekday  \n",
       "277047  2022-04-25  2022      4   25    15        0  \n",
       "277125  2022-04-25  2022      4   25    15        0  \n",
       "277157  2022-04-25  2022      4   25    15        0  \n",
       "277360  2022-04-25  2022      4   25    19        0  \n",
       "277440  2022-04-25  2022      4   25    19        0  \n",
       "277582  2022-04-25  2022      4   25    20        0  \n",
       "278345  2022-04-26  2022      4   26    11        1  \n",
       "279460  2022-04-27  2022      4   27     9        2  \n",
       "280474  2022-04-28  2022      4   28     9        3  \n",
       "280602  2022-04-28  2022      4   28    10        3  \n",
       "280606  2022-04-28  2022      4   28    10        3  \n",
       "280795  2022-04-28  2022      4   28    11        3  \n",
       "281173  2022-04-28  2022      4   28    20        3  \n",
       "281193  2022-04-28  2022      4   28    20        3  \n",
       "281505  2022-04-29  2022      4   29    10        4  \n",
       "281791  2022-04-29  2022      4   29    14        4  \n",
       "281957  2022-04-29  2022      4   29    20        4  \n",
       "282004  2022-04-30  2022      4   30     9        5  \n",
       "282114  2022-04-30  2022      4   30    11        5  \n",
       "282199  2022-04-30  2022      4   30    16        5  \n",
       "282226  2022-04-30  2022      4   30    17        5  \n",
       "282265  2022-04-30  2022      4   30    20        5  "
      ]
     },
     "execution_count": 63,
     "metadata": {},
     "output_type": "execute_result"
    }
   ],
   "source": [
    "baskets[(baskets['sku_id'] == 263) & (baskets['price'] == 13000)]"
   ]
  },
  {
   "cell_type": "markdown",
   "id": "e8502300-9375-4198-81ee-62793e83947c",
   "metadata": {},
   "source": [
    "I am interested to discover that all of the orders of SKU 263 with price 13,000 are made from April 25 to April 30. Now I am curious to see when other errors are made, and if they are made during similar time frames.\n",
    "I look back on previously made charts of price over time, to see if there are any similar patterns. "
   ]
  },
  {
   "cell_type": "markdown",
   "id": "6ecc6bc2-6821-4e1e-98eb-77ea907c205f",
   "metadata": {},
   "source": [
    "Looking back at the plot of SKU 263, I note that this same discovery could have been made by looking at the plot. I wonder what the other price(s) were for SKU 263 during that time period. "
   ]
  },
  {
   "cell_type": "code",
   "execution_count": 64,
   "id": "86098d7b-74ab-4a36-896d-4d9ec7dc22db",
   "metadata": {},
   "outputs": [
    {
     "data": {
      "text/plain": [
       "<AxesSubplot:xlabel='date'>"
      ]
     },
     "execution_count": 64,
     "metadata": {},
     "output_type": "execute_result"
    },
    {
     "data": {
      "image/png": "[encoded data removed]",
      "text/plain": [
       "<Figure size 432x288 with 1 Axes>"
      ]
     },
     "metadata": {
      "needs_background": "light"
     },
     "output_type": "display_data"
    }
   ],
   "source": [
    "baskets[baskets['sku_id'] == 276].plot(x = 'date', y = 'price')"
   ]
  },
  {
   "cell_type": "markdown",
   "id": "1066287e-2cba-4c8e-b06f-6a4019d38728",
   "metadata": {},
   "source": [
    "It appears as though SKU 276 has a similar outlying cluster of prices at the end of April. Maybe these SKUs are of the same category?"
   ]
  },
  {
   "cell_type": "code",
   "execution_count": 65,
   "id": "9282d488-253b-4b3f-8970-fa189e43750c",
   "metadata": {},
   "outputs": [
    {
     "data": {
      "text/html": [
       "<div>\n",
       "<style scoped>\n",
       "    .dataframe tbody tr th:only-of-type {\n",
       "        vertical-align: middle;\n",
       "    }\n",
       "\n",
       "    .dataframe tbody tr th {\n",
       "        vertical-align: top;\n",
       "    }\n",
       "\n",
       "    .dataframe thead th {\n",
       "        text-align: right;\n",
       "    }\n",
       "</style>\n",
       "<table border=\"1\" class=\"dataframe\">\n",
       "  <thead>\n",
       "    <tr style=\"text-align: right;\">\n",
       "      <th></th>\n",
       "      <th>id</th>\n",
       "      <th>order_id</th>\n",
       "      <th>merchant_id</th>\n",
       "      <th>sku_id</th>\n",
       "      <th>top_cat_id</th>\n",
       "      <th>sub_cat_id</th>\n",
       "      <th>qty</th>\n",
       "      <th>price</th>\n",
       "      <th>year</th>\n",
       "      <th>month</th>\n",
       "      <th>day</th>\n",
       "      <th>hour</th>\n",
       "      <th>weekday</th>\n",
       "    </tr>\n",
       "  </thead>\n",
       "  <tbody>\n",
       "    <tr>\n",
       "      <th>count</th>\n",
       "      <td>4548.000000</td>\n",
       "      <td>4548.000000</td>\n",
       "      <td>4548.000000</td>\n",
       "      <td>4548.0</td>\n",
       "      <td>4548.0</td>\n",
       "      <td>4548.0</td>\n",
       "      <td>4548.000000</td>\n",
       "      <td>4548.000000</td>\n",
       "      <td>4548.000000</td>\n",
       "      <td>4548.000000</td>\n",
       "      <td>4548.000000</td>\n",
       "      <td>4548.000000</td>\n",
       "      <td>4548.000000</td>\n",
       "    </tr>\n",
       "    <tr>\n",
       "      <th>mean</th>\n",
       "      <td>148846.138962</td>\n",
       "      <td>25235.666227</td>\n",
       "      <td>730.091029</td>\n",
       "      <td>263.0</td>\n",
       "      <td>4.0</td>\n",
       "      <td>21.0</td>\n",
       "      <td>7.285840</td>\n",
       "      <td>568506.881424</td>\n",
       "      <td>2021.423043</td>\n",
       "      <td>7.530783</td>\n",
       "      <td>15.685796</td>\n",
       "      <td>12.606201</td>\n",
       "      <td>2.538039</td>\n",
       "    </tr>\n",
       "    <tr>\n",
       "      <th>std</th>\n",
       "      <td>95151.672154</td>\n",
       "      <td>18478.694457</td>\n",
       "      <td>499.153045</td>\n",
       "      <td>0.0</td>\n",
       "      <td>0.0</td>\n",
       "      <td>0.0</td>\n",
       "      <td>42.716877</td>\n",
       "      <td>103016.520533</td>\n",
       "      <td>0.494096</td>\n",
       "      <td>3.912972</td>\n",
       "      <td>8.680280</td>\n",
       "      <td>3.917045</td>\n",
       "      <td>1.805011</td>\n",
       "    </tr>\n",
       "    <tr>\n",
       "      <th>min</th>\n",
       "      <td>853.000000</td>\n",
       "      <td>62.000000</td>\n",
       "      <td>1.000000</td>\n",
       "      <td>263.0</td>\n",
       "      <td>4.0</td>\n",
       "      <td>21.0</td>\n",
       "      <td>1.000000</td>\n",
       "      <td>1200.000000</td>\n",
       "      <td>2021.000000</td>\n",
       "      <td>1.000000</td>\n",
       "      <td>1.000000</td>\n",
       "      <td>0.000000</td>\n",
       "      <td>0.000000</td>\n",
       "    </tr>\n",
       "    <tr>\n",
       "      <th>25%</th>\n",
       "      <td>70011.250000</td>\n",
       "      <td>9100.250000</td>\n",
       "      <td>343.000000</td>\n",
       "      <td>263.0</td>\n",
       "      <td>4.0</td>\n",
       "      <td>21.0</td>\n",
       "      <td>1.000000</td>\n",
       "      <td>557500.000000</td>\n",
       "      <td>2021.000000</td>\n",
       "      <td>4.000000</td>\n",
       "      <td>8.000000</td>\n",
       "      <td>10.000000</td>\n",
       "      <td>1.000000</td>\n",
       "    </tr>\n",
       "    <tr>\n",
       "      <th>50%</th>\n",
       "      <td>136824.500000</td>\n",
       "      <td>21928.500000</td>\n",
       "      <td>650.000000</td>\n",
       "      <td>263.0</td>\n",
       "      <td>4.0</td>\n",
       "      <td>21.0</td>\n",
       "      <td>1.000000</td>\n",
       "      <td>575000.000000</td>\n",
       "      <td>2021.000000</td>\n",
       "      <td>9.000000</td>\n",
       "      <td>15.000000</td>\n",
       "      <td>12.000000</td>\n",
       "      <td>2.000000</td>\n",
       "    </tr>\n",
       "    <tr>\n",
       "      <th>75%</th>\n",
       "      <td>217963.500000</td>\n",
       "      <td>39368.250000</td>\n",
       "      <td>1062.000000</td>\n",
       "      <td>263.0</td>\n",
       "      <td>4.0</td>\n",
       "      <td>21.0</td>\n",
       "      <td>2.000000</td>\n",
       "      <td>620000.000000</td>\n",
       "      <td>2022.000000</td>\n",
       "      <td>11.000000</td>\n",
       "      <td>23.000000</td>\n",
       "      <td>15.000000</td>\n",
       "      <td>4.000000</td>\n",
       "    </tr>\n",
       "    <tr>\n",
       "      <th>max</th>\n",
       "      <td>336470.000000</td>\n",
       "      <td>62035.000000</td>\n",
       "      <td>2127.000000</td>\n",
       "      <td>263.0</td>\n",
       "      <td>4.0</td>\n",
       "      <td>21.0</td>\n",
       "      <td>1500.000000</td>\n",
       "      <td>650000.000000</td>\n",
       "      <td>2022.000000</td>\n",
       "      <td>12.000000</td>\n",
       "      <td>31.000000</td>\n",
       "      <td>23.000000</td>\n",
       "      <td>6.000000</td>\n",
       "    </tr>\n",
       "  </tbody>\n",
       "</table>\n",
       "</div>"
      ],
      "text/plain": [
       "                  id      order_id  merchant_id  sku_id  top_cat_id  \\\n",
       "count    4548.000000   4548.000000  4548.000000  4548.0      4548.0   \n",
       "mean   148846.138962  25235.666227   730.091029   263.0         4.0   \n",
       "std     95151.672154  18478.694457   499.153045     0.0         0.0   \n",
       "min       853.000000     62.000000     1.000000   263.0         4.0   \n",
       "25%     70011.250000   9100.250000   343.000000   263.0         4.0   \n",
       "50%    136824.500000  21928.500000   650.000000   263.0         4.0   \n",
       "75%    217963.500000  39368.250000  1062.000000   263.0         4.0   \n",
       "max    336470.000000  62035.000000  2127.000000   263.0         4.0   \n",
       "\n",
       "       sub_cat_id          qty          price         year        month  \\\n",
       "count      4548.0  4548.000000    4548.000000  4548.000000  4548.000000   \n",
       "mean         21.0     7.285840  568506.881424  2021.423043     7.530783   \n",
       "std           0.0    42.716877  103016.520533     0.494096     3.912972   \n",
       "min          21.0     1.000000    1200.000000  2021.000000     1.000000   \n",
       "25%          21.0     1.000000  557500.000000  2021.000000     4.000000   \n",
       "50%          21.0     1.000000  575000.000000  2021.000000     9.000000   \n",
       "75%          21.0     2.000000  620000.000000  2022.000000    11.000000   \n",
       "max          21.0  1500.000000  650000.000000  2022.000000    12.000000   \n",
       "\n",
       "               day         hour      weekday  \n",
       "count  4548.000000  4548.000000  4548.000000  \n",
       "mean     15.685796    12.606201     2.538039  \n",
       "std       8.680280     3.917045     1.805011  \n",
       "min       1.000000     0.000000     0.000000  \n",
       "25%       8.000000    10.000000     1.000000  \n",
       "50%      15.000000    12.000000     2.000000  \n",
       "75%      23.000000    15.000000     4.000000  \n",
       "max      31.000000    23.000000     6.000000  "
      ]
     },
     "execution_count": 65,
     "metadata": {},
     "output_type": "execute_result"
    }
   ],
   "source": [
    "baskets[baskets['sku_id'] == 263].describe()"
   ]
  },
  {
   "cell_type": "code",
   "execution_count": 66,
   "id": "753992a1-bb48-4dc4-9fbc-0d4debcadfe2",
   "metadata": {},
   "outputs": [
    {
     "data": {
      "text/html": [
       "<div>\n",
       "<style scoped>\n",
       "    .dataframe tbody tr th:only-of-type {\n",
       "        vertical-align: middle;\n",
       "    }\n",
       "\n",
       "    .dataframe tbody tr th {\n",
       "        vertical-align: top;\n",
       "    }\n",
       "\n",
       "    .dataframe thead th {\n",
       "        text-align: right;\n",
       "    }\n",
       "</style>\n",
       "<table border=\"1\" class=\"dataframe\">\n",
       "  <thead>\n",
       "    <tr style=\"text-align: right;\">\n",
       "      <th></th>\n",
       "      <th>id</th>\n",
       "      <th>order_id</th>\n",
       "      <th>merchant_id</th>\n",
       "      <th>sku_id</th>\n",
       "      <th>top_cat_id</th>\n",
       "      <th>sub_cat_id</th>\n",
       "      <th>qty</th>\n",
       "      <th>price</th>\n",
       "      <th>year</th>\n",
       "      <th>month</th>\n",
       "      <th>day</th>\n",
       "      <th>hour</th>\n",
       "      <th>weekday</th>\n",
       "    </tr>\n",
       "  </thead>\n",
       "  <tbody>\n",
       "    <tr>\n",
       "      <th>count</th>\n",
       "      <td>3718.000000</td>\n",
       "      <td>3718.000000</td>\n",
       "      <td>3718.000000</td>\n",
       "      <td>3718.0</td>\n",
       "      <td>3718.0</td>\n",
       "      <td>3718.0</td>\n",
       "      <td>3718.000000</td>\n",
       "      <td>3718.000000</td>\n",
       "      <td>3718.000000</td>\n",
       "      <td>3718.000000</td>\n",
       "      <td>3718.000000</td>\n",
       "      <td>3718.000000</td>\n",
       "      <td>3718.000000</td>\n",
       "    </tr>\n",
       "    <tr>\n",
       "      <th>mean</th>\n",
       "      <td>167273.556751</td>\n",
       "      <td>28916.297203</td>\n",
       "      <td>840.370360</td>\n",
       "      <td>276.0</td>\n",
       "      <td>8.0</td>\n",
       "      <td>43.0</td>\n",
       "      <td>11.439215</td>\n",
       "      <td>93395.178187</td>\n",
       "      <td>2021.533351</td>\n",
       "      <td>6.692039</td>\n",
       "      <td>16.274072</td>\n",
       "      <td>12.514793</td>\n",
       "      <td>2.538462</td>\n",
       "    </tr>\n",
       "    <tr>\n",
       "      <th>std</th>\n",
       "      <td>97321.102608</td>\n",
       "      <td>18953.104147</td>\n",
       "      <td>566.649939</td>\n",
       "      <td>0.0</td>\n",
       "      <td>0.0</td>\n",
       "      <td>0.0</td>\n",
       "      <td>115.025837</td>\n",
       "      <td>9811.233017</td>\n",
       "      <td>0.498954</td>\n",
       "      <td>3.887522</td>\n",
       "      <td>8.633601</td>\n",
       "      <td>4.287323</td>\n",
       "      <td>1.843194</td>\n",
       "    </tr>\n",
       "    <tr>\n",
       "      <th>min</th>\n",
       "      <td>890.000000</td>\n",
       "      <td>1.000000</td>\n",
       "      <td>1.000000</td>\n",
       "      <td>276.0</td>\n",
       "      <td>8.0</td>\n",
       "      <td>43.0</td>\n",
       "      <td>1.000000</td>\n",
       "      <td>233.800000</td>\n",
       "      <td>2021.000000</td>\n",
       "      <td>1.000000</td>\n",
       "      <td>1.000000</td>\n",
       "      <td>0.000000</td>\n",
       "      <td>0.000000</td>\n",
       "    </tr>\n",
       "    <tr>\n",
       "      <th>25%</th>\n",
       "      <td>83180.750000</td>\n",
       "      <td>11343.250000</td>\n",
       "      <td>366.000000</td>\n",
       "      <td>276.0</td>\n",
       "      <td>8.0</td>\n",
       "      <td>43.0</td>\n",
       "      <td>1.000000</td>\n",
       "      <td>90500.000000</td>\n",
       "      <td>2021.000000</td>\n",
       "      <td>3.000000</td>\n",
       "      <td>9.000000</td>\n",
       "      <td>9.000000</td>\n",
       "      <td>1.000000</td>\n",
       "    </tr>\n",
       "    <tr>\n",
       "      <th>50%</th>\n",
       "      <td>170200.000000</td>\n",
       "      <td>29037.000000</td>\n",
       "      <td>664.000000</td>\n",
       "      <td>276.0</td>\n",
       "      <td>8.0</td>\n",
       "      <td>43.0</td>\n",
       "      <td>2.000000</td>\n",
       "      <td>93500.000000</td>\n",
       "      <td>2022.000000</td>\n",
       "      <td>7.000000</td>\n",
       "      <td>17.000000</td>\n",
       "      <td>12.000000</td>\n",
       "      <td>2.000000</td>\n",
       "    </tr>\n",
       "    <tr>\n",
       "      <th>75%</th>\n",
       "      <td>248635.000000</td>\n",
       "      <td>45373.000000</td>\n",
       "      <td>1288.750000</td>\n",
       "      <td>276.0</td>\n",
       "      <td>8.0</td>\n",
       "      <td>43.0</td>\n",
       "      <td>5.000000</td>\n",
       "      <td>95000.000000</td>\n",
       "      <td>2022.000000</td>\n",
       "      <td>11.000000</td>\n",
       "      <td>24.000000</td>\n",
       "      <td>15.000000</td>\n",
       "      <td>4.000000</td>\n",
       "    </tr>\n",
       "    <tr>\n",
       "      <th>max</th>\n",
       "      <td>336298.000000</td>\n",
       "      <td>62014.000000</td>\n",
       "      <td>2137.000000</td>\n",
       "      <td>276.0</td>\n",
       "      <td>8.0</td>\n",
       "      <td>43.0</td>\n",
       "      <td>4000.000000</td>\n",
       "      <td>165000.000000</td>\n",
       "      <td>2022.000000</td>\n",
       "      <td>12.000000</td>\n",
       "      <td>31.000000</td>\n",
       "      <td>23.000000</td>\n",
       "      <td>6.000000</td>\n",
       "    </tr>\n",
       "  </tbody>\n",
       "</table>\n",
       "</div>"
      ],
      "text/plain": [
       "                  id      order_id  merchant_id  sku_id  top_cat_id  \\\n",
       "count    3718.000000   3718.000000  3718.000000  3718.0      3718.0   \n",
       "mean   167273.556751  28916.297203   840.370360   276.0         8.0   \n",
       "std     97321.102608  18953.104147   566.649939     0.0         0.0   \n",
       "min       890.000000      1.000000     1.000000   276.0         8.0   \n",
       "25%     83180.750000  11343.250000   366.000000   276.0         8.0   \n",
       "50%    170200.000000  29037.000000   664.000000   276.0         8.0   \n",
       "75%    248635.000000  45373.000000  1288.750000   276.0         8.0   \n",
       "max    336298.000000  62014.000000  2137.000000   276.0         8.0   \n",
       "\n",
       "       sub_cat_id          qty          price         year        month  \\\n",
       "count      3718.0  3718.000000    3718.000000  3718.000000  3718.000000   \n",
       "mean         43.0    11.439215   93395.178187  2021.533351     6.692039   \n",
       "std           0.0   115.025837    9811.233017     0.498954     3.887522   \n",
       "min          43.0     1.000000     233.800000  2021.000000     1.000000   \n",
       "25%          43.0     1.000000   90500.000000  2021.000000     3.000000   \n",
       "50%          43.0     2.000000   93500.000000  2022.000000     7.000000   \n",
       "75%          43.0     5.000000   95000.000000  2022.000000    11.000000   \n",
       "max          43.0  4000.000000  165000.000000  2022.000000    12.000000   \n",
       "\n",
       "               day         hour      weekday  \n",
       "count  3718.000000  3718.000000  3718.000000  \n",
       "mean     16.274072    12.514793     2.538462  \n",
       "std       8.633601     4.287323     1.843194  \n",
       "min       1.000000     0.000000     0.000000  \n",
       "25%       9.000000     9.000000     1.000000  \n",
       "50%      17.000000    12.000000     2.000000  \n",
       "75%      24.000000    15.000000     4.000000  \n",
       "max      31.000000    23.000000     6.000000  "
      ]
     },
     "execution_count": 66,
     "metadata": {},
     "output_type": "execute_result"
    }
   ],
   "source": [
    "baskets[baskets['sku_id'] == 276].describe()"
   ]
  },
  {
   "cell_type": "markdown",
   "id": "5af17380-082d-448c-a16c-de9fccfdb555",
   "metadata": {},
   "source": [
    "These baskets are not of the same category. I will look into SKU 276."
   ]
  },
  {
   "cell_type": "code",
   "execution_count": 99,
   "id": "d848bfab-5ce6-442a-8c48-64363290b5a4",
   "metadata": {},
   "outputs": [
    {
     "data": {
      "text/plain": [
       "90500.0     1326\n",
       "93500.0      497\n",
       "95000.0      451\n",
       "99000.0      360\n",
       "94000.0      280\n",
       "93000.0      215\n",
       "94500.0      215\n",
       "107000.0     153\n",
       "104500.0     100\n",
       "101500.0      47\n",
       "2363.0        18\n",
       "101000.0      17\n",
       "96500.0       15\n",
       "2362.0         7\n",
       "233.8          4\n",
       "95500.0        2\n",
       "2413.0         2\n",
       "91500.0        2\n",
       "235.3          1\n",
       "90000.0        1\n",
       "2412.0         1\n",
       "96000.0        1\n",
       "2296.0         1\n",
       "165000.0       1\n",
       "102500.0       1\n",
       "Name: price, dtype: int64"
      ]
     },
     "execution_count": 99,
     "metadata": {},
     "output_type": "execute_result"
    }
   ],
   "source": [
    "baskets_276_outliers = baskets[(baskets['sku_id'] == 276)]\n",
    "baskets_276_outliers['price'].value_counts()"
   ]
  },
  {
   "cell_type": "markdown",
   "id": "bf5e96dc-5e77-4703-8102-c0716aeedf0a",
   "metadata": {},
   "source": [
    "The outstanding values almost all begin with 2. I wonder if there is another issue with multiplication. "
   ]
  },
  {
   "cell_type": "code",
   "execution_count": 68,
   "id": "d999745f-3154-410e-a515-c7141d671e27",
   "metadata": {},
   "outputs": [
    {
     "data": {
      "text/html": [
       "<div>\n",
       "<style scoped>\n",
       "    .dataframe tbody tr th:only-of-type {\n",
       "        vertical-align: middle;\n",
       "    }\n",
       "\n",
       "    .dataframe tbody tr th {\n",
       "        vertical-align: top;\n",
       "    }\n",
       "\n",
       "    .dataframe thead th {\n",
       "        text-align: right;\n",
       "    }\n",
       "</style>\n",
       "<table border=\"1\" class=\"dataframe\">\n",
       "  <thead>\n",
       "    <tr style=\"text-align: right;\">\n",
       "      <th></th>\n",
       "      <th>id</th>\n",
       "      <th>order_id</th>\n",
       "      <th>placed_at</th>\n",
       "      <th>merchant_id</th>\n",
       "      <th>sku_id</th>\n",
       "      <th>top_cat_id</th>\n",
       "      <th>sub_cat_id</th>\n",
       "      <th>qty</th>\n",
       "      <th>price</th>\n",
       "      <th>datetime</th>\n",
       "      <th>date</th>\n",
       "      <th>year</th>\n",
       "      <th>month</th>\n",
       "      <th>day</th>\n",
       "      <th>hour</th>\n",
       "      <th>weekday</th>\n",
       "    </tr>\n",
       "  </thead>\n",
       "  <tbody>\n",
       "    <tr>\n",
       "      <th>261049</th>\n",
       "      <td>261221</td>\n",
       "      <td>48233</td>\n",
       "      <td>2022-03-30 13:54:47.102</td>\n",
       "      <td>304</td>\n",
       "      <td>276</td>\n",
       "      <td>8.0</td>\n",
       "      <td>43.0</td>\n",
       "      <td>30</td>\n",
       "      <td>233.8</td>\n",
       "      <td>2022-03-30 13:54:47.102</td>\n",
       "      <td>2022-03-30</td>\n",
       "      <td>2022</td>\n",
       "      <td>3</td>\n",
       "      <td>30</td>\n",
       "      <td>13</td>\n",
       "      <td>2</td>\n",
       "    </tr>\n",
       "    <tr>\n",
       "      <th>262532</th>\n",
       "      <td>262708</td>\n",
       "      <td>48621</td>\n",
       "      <td>2022-03-31 14:43:24.689</td>\n",
       "      <td>1470</td>\n",
       "      <td>276</td>\n",
       "      <td>8.0</td>\n",
       "      <td>43.0</td>\n",
       "      <td>3200</td>\n",
       "      <td>235.3</td>\n",
       "      <td>2022-03-31 14:43:24.689</td>\n",
       "      <td>2022-03-31</td>\n",
       "      <td>2022</td>\n",
       "      <td>3</td>\n",
       "      <td>31</td>\n",
       "      <td>14</td>\n",
       "      <td>3</td>\n",
       "    </tr>\n",
       "    <tr>\n",
       "      <th>262679</th>\n",
       "      <td>262852</td>\n",
       "      <td>48650</td>\n",
       "      <td>2022-03-31 17:42:46.016</td>\n",
       "      <td>2043</td>\n",
       "      <td>276</td>\n",
       "      <td>8.0</td>\n",
       "      <td>43.0</td>\n",
       "      <td>4000</td>\n",
       "      <td>233.8</td>\n",
       "      <td>2022-03-31 17:42:46.016</td>\n",
       "      <td>2022-03-31</td>\n",
       "      <td>2022</td>\n",
       "      <td>3</td>\n",
       "      <td>31</td>\n",
       "      <td>17</td>\n",
       "      <td>3</td>\n",
       "    </tr>\n",
       "    <tr>\n",
       "      <th>263277</th>\n",
       "      <td>263375</td>\n",
       "      <td>48684</td>\n",
       "      <td>2022-03-31 22:03:54.687</td>\n",
       "      <td>1466</td>\n",
       "      <td>276</td>\n",
       "      <td>8.0</td>\n",
       "      <td>43.0</td>\n",
       "      <td>3600</td>\n",
       "      <td>233.8</td>\n",
       "      <td>2022-03-31 22:03:54.687</td>\n",
       "      <td>2022-03-31</td>\n",
       "      <td>2022</td>\n",
       "      <td>3</td>\n",
       "      <td>31</td>\n",
       "      <td>22</td>\n",
       "      <td>3</td>\n",
       "    </tr>\n",
       "    <tr>\n",
       "      <th>263396</th>\n",
       "      <td>263495</td>\n",
       "      <td>48687</td>\n",
       "      <td>2022-03-31 22:20:45.051</td>\n",
       "      <td>1995</td>\n",
       "      <td>276</td>\n",
       "      <td>8.0</td>\n",
       "      <td>43.0</td>\n",
       "      <td>2000</td>\n",
       "      <td>233.8</td>\n",
       "      <td>2022-03-31 22:20:45.051</td>\n",
       "      <td>2022-03-31</td>\n",
       "      <td>2022</td>\n",
       "      <td>3</td>\n",
       "      <td>31</td>\n",
       "      <td>22</td>\n",
       "      <td>3</td>\n",
       "    </tr>\n",
       "    <tr>\n",
       "      <th>277112</th>\n",
       "      <td>277236</td>\n",
       "      <td>51012</td>\n",
       "      <td>2022-04-25 15:48:36.505</td>\n",
       "      <td>583</td>\n",
       "      <td>276</td>\n",
       "      <td>8.0</td>\n",
       "      <td>43.0</td>\n",
       "      <td>200</td>\n",
       "      <td>2412.0</td>\n",
       "      <td>2022-04-25 15:48:36.505</td>\n",
       "      <td>2022-04-25</td>\n",
       "      <td>2022</td>\n",
       "      <td>4</td>\n",
       "      <td>25</td>\n",
       "      <td>15</td>\n",
       "      <td>0</td>\n",
       "    </tr>\n",
       "    <tr>\n",
       "      <th>277453</th>\n",
       "      <td>277622</td>\n",
       "      <td>51071</td>\n",
       "      <td>2022-04-25 19:58:02.120</td>\n",
       "      <td>2035</td>\n",
       "      <td>276</td>\n",
       "      <td>8.0</td>\n",
       "      <td>43.0</td>\n",
       "      <td>1000</td>\n",
       "      <td>2363.0</td>\n",
       "      <td>2022-04-25 19:58:02.120</td>\n",
       "      <td>2022-04-25</td>\n",
       "      <td>2022</td>\n",
       "      <td>4</td>\n",
       "      <td>25</td>\n",
       "      <td>19</td>\n",
       "      <td>0</td>\n",
       "    </tr>\n",
       "    <tr>\n",
       "      <th>277514</th>\n",
       "      <td>277697</td>\n",
       "      <td>51078</td>\n",
       "      <td>2022-04-25 20:13:15.689</td>\n",
       "      <td>1466</td>\n",
       "      <td>276</td>\n",
       "      <td>8.0</td>\n",
       "      <td>43.0</td>\n",
       "      <td>80</td>\n",
       "      <td>2363.0</td>\n",
       "      <td>2022-04-25 20:13:15.689</td>\n",
       "      <td>2022-04-25</td>\n",
       "      <td>2022</td>\n",
       "      <td>4</td>\n",
       "      <td>25</td>\n",
       "      <td>20</td>\n",
       "      <td>0</td>\n",
       "    </tr>\n",
       "    <tr>\n",
       "      <th>277659</th>\n",
       "      <td>277815</td>\n",
       "      <td>51103</td>\n",
       "      <td>2022-04-25 21:02:26.567</td>\n",
       "      <td>1737</td>\n",
       "      <td>276</td>\n",
       "      <td>8.0</td>\n",
       "      <td>43.0</td>\n",
       "      <td>80</td>\n",
       "      <td>2363.0</td>\n",
       "      <td>2022-04-25 21:02:26.567</td>\n",
       "      <td>2022-04-25</td>\n",
       "      <td>2022</td>\n",
       "      <td>4</td>\n",
       "      <td>25</td>\n",
       "      <td>21</td>\n",
       "      <td>0</td>\n",
       "    </tr>\n",
       "    <tr>\n",
       "      <th>277675</th>\n",
       "      <td>277841</td>\n",
       "      <td>51105</td>\n",
       "      <td>2022-04-25 21:17:33.438</td>\n",
       "      <td>2062</td>\n",
       "      <td>276</td>\n",
       "      <td>8.0</td>\n",
       "      <td>43.0</td>\n",
       "      <td>200</td>\n",
       "      <td>2362.0</td>\n",
       "      <td>2022-04-25 21:17:33.438</td>\n",
       "      <td>2022-04-25</td>\n",
       "      <td>2022</td>\n",
       "      <td>4</td>\n",
       "      <td>25</td>\n",
       "      <td>21</td>\n",
       "      <td>0</td>\n",
       "    </tr>\n",
       "    <tr>\n",
       "      <th>278961</th>\n",
       "      <td>279083</td>\n",
       "      <td>51307</td>\n",
       "      <td>2022-04-26 19:10:35.531</td>\n",
       "      <td>2024</td>\n",
       "      <td>276</td>\n",
       "      <td>8.0</td>\n",
       "      <td>43.0</td>\n",
       "      <td>400</td>\n",
       "      <td>2362.0</td>\n",
       "      <td>2022-04-26 19:10:35.531</td>\n",
       "      <td>2022-04-26</td>\n",
       "      <td>2022</td>\n",
       "      <td>4</td>\n",
       "      <td>26</td>\n",
       "      <td>19</td>\n",
       "      <td>1</td>\n",
       "    </tr>\n",
       "    <tr>\n",
       "      <th>279170</th>\n",
       "      <td>279298</td>\n",
       "      <td>51326</td>\n",
       "      <td>2022-04-26 20:38:08.571</td>\n",
       "      <td>1407</td>\n",
       "      <td>276</td>\n",
       "      <td>8.0</td>\n",
       "      <td>43.0</td>\n",
       "      <td>80</td>\n",
       "      <td>2362.0</td>\n",
       "      <td>2022-04-26 20:38:08.571</td>\n",
       "      <td>2022-04-26</td>\n",
       "      <td>2022</td>\n",
       "      <td>4</td>\n",
       "      <td>26</td>\n",
       "      <td>20</td>\n",
       "      <td>1</td>\n",
       "    </tr>\n",
       "    <tr>\n",
       "      <th>279794</th>\n",
       "      <td>279947</td>\n",
       "      <td>51416</td>\n",
       "      <td>2022-04-27 11:43:12.570</td>\n",
       "      <td>1098</td>\n",
       "      <td>276</td>\n",
       "      <td>8.0</td>\n",
       "      <td>43.0</td>\n",
       "      <td>40</td>\n",
       "      <td>2363.0</td>\n",
       "      <td>2022-04-27 11:43:12.570</td>\n",
       "      <td>2022-04-27</td>\n",
       "      <td>2022</td>\n",
       "      <td>4</td>\n",
       "      <td>27</td>\n",
       "      <td>11</td>\n",
       "      <td>2</td>\n",
       "    </tr>\n",
       "    <tr>\n",
       "      <th>280153</th>\n",
       "      <td>280271</td>\n",
       "      <td>51461</td>\n",
       "      <td>2022-04-27 15:36:30.937</td>\n",
       "      <td>2084</td>\n",
       "      <td>276</td>\n",
       "      <td>8.0</td>\n",
       "      <td>43.0</td>\n",
       "      <td>400</td>\n",
       "      <td>2363.0</td>\n",
       "      <td>2022-04-27 15:36:30.937</td>\n",
       "      <td>2022-04-27</td>\n",
       "      <td>2022</td>\n",
       "      <td>4</td>\n",
       "      <td>27</td>\n",
       "      <td>15</td>\n",
       "      <td>2</td>\n",
       "    </tr>\n",
       "    <tr>\n",
       "      <th>280467</th>\n",
       "      <td>280580</td>\n",
       "      <td>51500</td>\n",
       "      <td>2022-04-28 08:53:38.273</td>\n",
       "      <td>397</td>\n",
       "      <td>276</td>\n",
       "      <td>8.0</td>\n",
       "      <td>43.0</td>\n",
       "      <td>1600</td>\n",
       "      <td>2362.0</td>\n",
       "      <td>2022-04-28 08:53:38.273</td>\n",
       "      <td>2022-04-28</td>\n",
       "      <td>2022</td>\n",
       "      <td>4</td>\n",
       "      <td>28</td>\n",
       "      <td>8</td>\n",
       "      <td>3</td>\n",
       "    </tr>\n",
       "    <tr>\n",
       "      <th>280495</th>\n",
       "      <td>280610</td>\n",
       "      <td>51503</td>\n",
       "      <td>2022-04-28 09:12:21.040</td>\n",
       "      <td>1061</td>\n",
       "      <td>276</td>\n",
       "      <td>8.0</td>\n",
       "      <td>43.0</td>\n",
       "      <td>200</td>\n",
       "      <td>2362.0</td>\n",
       "      <td>2022-04-28 09:12:21.040</td>\n",
       "      <td>2022-04-28</td>\n",
       "      <td>2022</td>\n",
       "      <td>4</td>\n",
       "      <td>28</td>\n",
       "      <td>9</td>\n",
       "      <td>3</td>\n",
       "    </tr>\n",
       "    <tr>\n",
       "      <th>280571</th>\n",
       "      <td>280703</td>\n",
       "      <td>51520</td>\n",
       "      <td>2022-04-28 10:22:44.214</td>\n",
       "      <td>161</td>\n",
       "      <td>276</td>\n",
       "      <td>8.0</td>\n",
       "      <td>43.0</td>\n",
       "      <td>400</td>\n",
       "      <td>2362.0</td>\n",
       "      <td>2022-04-28 10:22:44.214</td>\n",
       "      <td>2022-04-28</td>\n",
       "      <td>2022</td>\n",
       "      <td>4</td>\n",
       "      <td>28</td>\n",
       "      <td>10</td>\n",
       "      <td>3</td>\n",
       "    </tr>\n",
       "    <tr>\n",
       "      <th>280815</th>\n",
       "      <td>280947</td>\n",
       "      <td>51545</td>\n",
       "      <td>2022-04-28 11:59:58.954</td>\n",
       "      <td>1173</td>\n",
       "      <td>276</td>\n",
       "      <td>8.0</td>\n",
       "      <td>43.0</td>\n",
       "      <td>400</td>\n",
       "      <td>2363.0</td>\n",
       "      <td>2022-04-28 11:59:58.954</td>\n",
       "      <td>2022-04-28</td>\n",
       "      <td>2022</td>\n",
       "      <td>4</td>\n",
       "      <td>28</td>\n",
       "      <td>11</td>\n",
       "      <td>3</td>\n",
       "    </tr>\n",
       "    <tr>\n",
       "      <th>280872</th>\n",
       "      <td>281005</td>\n",
       "      <td>51554</td>\n",
       "      <td>2022-04-28 13:17:24.637</td>\n",
       "      <td>238</td>\n",
       "      <td>276</td>\n",
       "      <td>8.0</td>\n",
       "      <td>43.0</td>\n",
       "      <td>200</td>\n",
       "      <td>2363.0</td>\n",
       "      <td>2022-04-28 13:17:24.637</td>\n",
       "      <td>2022-04-28</td>\n",
       "      <td>2022</td>\n",
       "      <td>4</td>\n",
       "      <td>28</td>\n",
       "      <td>13</td>\n",
       "      <td>3</td>\n",
       "    </tr>\n",
       "    <tr>\n",
       "      <th>280904</th>\n",
       "      <td>281035</td>\n",
       "      <td>51564</td>\n",
       "      <td>2022-04-28 14:00:14.393</td>\n",
       "      <td>171</td>\n",
       "      <td>276</td>\n",
       "      <td>8.0</td>\n",
       "      <td>43.0</td>\n",
       "      <td>200</td>\n",
       "      <td>2363.0</td>\n",
       "      <td>2022-04-28 14:00:14.393</td>\n",
       "      <td>2022-04-28</td>\n",
       "      <td>2022</td>\n",
       "      <td>4</td>\n",
       "      <td>28</td>\n",
       "      <td>14</td>\n",
       "      <td>3</td>\n",
       "    </tr>\n",
       "    <tr>\n",
       "      <th>280976</th>\n",
       "      <td>281103</td>\n",
       "      <td>51577</td>\n",
       "      <td>2022-04-28 14:35:18.710</td>\n",
       "      <td>2005</td>\n",
       "      <td>276</td>\n",
       "      <td>8.0</td>\n",
       "      <td>43.0</td>\n",
       "      <td>200</td>\n",
       "      <td>2363.0</td>\n",
       "      <td>2022-04-28 14:35:18.710</td>\n",
       "      <td>2022-04-28</td>\n",
       "      <td>2022</td>\n",
       "      <td>4</td>\n",
       "      <td>28</td>\n",
       "      <td>14</td>\n",
       "      <td>3</td>\n",
       "    </tr>\n",
       "    <tr>\n",
       "      <th>281013</th>\n",
       "      <td>281131</td>\n",
       "      <td>51582</td>\n",
       "      <td>2022-04-28 14:46:44.290</td>\n",
       "      <td>844</td>\n",
       "      <td>276</td>\n",
       "      <td>8.0</td>\n",
       "      <td>43.0</td>\n",
       "      <td>80</td>\n",
       "      <td>2363.0</td>\n",
       "      <td>2022-04-28 14:46:44.290</td>\n",
       "      <td>2022-04-28</td>\n",
       "      <td>2022</td>\n",
       "      <td>4</td>\n",
       "      <td>28</td>\n",
       "      <td>14</td>\n",
       "      <td>3</td>\n",
       "    </tr>\n",
       "    <tr>\n",
       "      <th>281412</th>\n",
       "      <td>281547</td>\n",
       "      <td>51664</td>\n",
       "      <td>2022-04-29 09:08:12.426</td>\n",
       "      <td>1324</td>\n",
       "      <td>276</td>\n",
       "      <td>8.0</td>\n",
       "      <td>43.0</td>\n",
       "      <td>120</td>\n",
       "      <td>2363.0</td>\n",
       "      <td>2022-04-29 09:08:12.426</td>\n",
       "      <td>2022-04-29</td>\n",
       "      <td>2022</td>\n",
       "      <td>4</td>\n",
       "      <td>29</td>\n",
       "      <td>9</td>\n",
       "      <td>4</td>\n",
       "    </tr>\n",
       "    <tr>\n",
       "      <th>281447</th>\n",
       "      <td>281595</td>\n",
       "      <td>51669</td>\n",
       "      <td>2022-04-29 09:27:32.398</td>\n",
       "      <td>739</td>\n",
       "      <td>276</td>\n",
       "      <td>8.0</td>\n",
       "      <td>43.0</td>\n",
       "      <td>400</td>\n",
       "      <td>2296.0</td>\n",
       "      <td>2022-04-29 09:27:32.398</td>\n",
       "      <td>2022-04-29</td>\n",
       "      <td>2022</td>\n",
       "      <td>4</td>\n",
       "      <td>29</td>\n",
       "      <td>9</td>\n",
       "      <td>4</td>\n",
       "    </tr>\n",
       "    <tr>\n",
       "      <th>281787</th>\n",
       "      <td>281899</td>\n",
       "      <td>51726</td>\n",
       "      <td>2022-04-29 14:43:17.018</td>\n",
       "      <td>1049</td>\n",
       "      <td>276</td>\n",
       "      <td>8.0</td>\n",
       "      <td>43.0</td>\n",
       "      <td>200</td>\n",
       "      <td>2363.0</td>\n",
       "      <td>2022-04-29 14:43:17.018</td>\n",
       "      <td>2022-04-29</td>\n",
       "      <td>2022</td>\n",
       "      <td>4</td>\n",
       "      <td>29</td>\n",
       "      <td>14</td>\n",
       "      <td>4</td>\n",
       "    </tr>\n",
       "    <tr>\n",
       "      <th>281863</th>\n",
       "      <td>281966</td>\n",
       "      <td>51734</td>\n",
       "      <td>2022-04-29 16:30:17.752</td>\n",
       "      <td>384</td>\n",
       "      <td>276</td>\n",
       "      <td>8.0</td>\n",
       "      <td>43.0</td>\n",
       "      <td>400</td>\n",
       "      <td>2363.0</td>\n",
       "      <td>2022-04-29 16:30:17.752</td>\n",
       "      <td>2022-04-29</td>\n",
       "      <td>2022</td>\n",
       "      <td>4</td>\n",
       "      <td>29</td>\n",
       "      <td>16</td>\n",
       "      <td>4</td>\n",
       "    </tr>\n",
       "    <tr>\n",
       "      <th>281902</th>\n",
       "      <td>282025</td>\n",
       "      <td>51746</td>\n",
       "      <td>2022-04-29 19:02:11.624</td>\n",
       "      <td>1023</td>\n",
       "      <td>276</td>\n",
       "      <td>8.0</td>\n",
       "      <td>43.0</td>\n",
       "      <td>40</td>\n",
       "      <td>2363.0</td>\n",
       "      <td>2022-04-29 19:02:11.624</td>\n",
       "      <td>2022-04-29</td>\n",
       "      <td>2022</td>\n",
       "      <td>4</td>\n",
       "      <td>29</td>\n",
       "      <td>19</td>\n",
       "      <td>4</td>\n",
       "    </tr>\n",
       "    <tr>\n",
       "      <th>282024</th>\n",
       "      <td>282159</td>\n",
       "      <td>51780</td>\n",
       "      <td>2022-04-30 09:44:00.938</td>\n",
       "      <td>1502</td>\n",
       "      <td>276</td>\n",
       "      <td>8.0</td>\n",
       "      <td>43.0</td>\n",
       "      <td>80</td>\n",
       "      <td>2363.0</td>\n",
       "      <td>2022-04-30 09:44:00.938</td>\n",
       "      <td>2022-04-30</td>\n",
       "      <td>2022</td>\n",
       "      <td>4</td>\n",
       "      <td>30</td>\n",
       "      <td>9</td>\n",
       "      <td>5</td>\n",
       "    </tr>\n",
       "    <tr>\n",
       "      <th>282106</th>\n",
       "      <td>282251</td>\n",
       "      <td>51789</td>\n",
       "      <td>2022-04-30 11:35:04.457</td>\n",
       "      <td>9</td>\n",
       "      <td>276</td>\n",
       "      <td>8.0</td>\n",
       "      <td>43.0</td>\n",
       "      <td>200</td>\n",
       "      <td>2363.0</td>\n",
       "      <td>2022-04-30 11:35:04.457</td>\n",
       "      <td>2022-04-30</td>\n",
       "      <td>2022</td>\n",
       "      <td>4</td>\n",
       "      <td>30</td>\n",
       "      <td>11</td>\n",
       "      <td>5</td>\n",
       "    </tr>\n",
       "    <tr>\n",
       "      <th>282150</th>\n",
       "      <td>282296</td>\n",
       "      <td>51794</td>\n",
       "      <td>2022-04-30 13:11:14.722</td>\n",
       "      <td>667</td>\n",
       "      <td>276</td>\n",
       "      <td>8.0</td>\n",
       "      <td>43.0</td>\n",
       "      <td>120</td>\n",
       "      <td>2363.0</td>\n",
       "      <td>2022-04-30 13:11:14.722</td>\n",
       "      <td>2022-04-30</td>\n",
       "      <td>2022</td>\n",
       "      <td>4</td>\n",
       "      <td>30</td>\n",
       "      <td>13</td>\n",
       "      <td>5</td>\n",
       "    </tr>\n",
       "    <tr>\n",
       "      <th>282159</th>\n",
       "      <td>282305</td>\n",
       "      <td>51796</td>\n",
       "      <td>2022-04-30 13:24:02.606</td>\n",
       "      <td>1348</td>\n",
       "      <td>276</td>\n",
       "      <td>8.0</td>\n",
       "      <td>43.0</td>\n",
       "      <td>400</td>\n",
       "      <td>2362.0</td>\n",
       "      <td>2022-04-30 13:24:02.606</td>\n",
       "      <td>2022-04-30</td>\n",
       "      <td>2022</td>\n",
       "      <td>4</td>\n",
       "      <td>30</td>\n",
       "      <td>13</td>\n",
       "      <td>5</td>\n",
       "    </tr>\n",
       "    <tr>\n",
       "      <th>282166</th>\n",
       "      <td>282312</td>\n",
       "      <td>51798</td>\n",
       "      <td>2022-04-30 13:24:56.354</td>\n",
       "      <td>1895</td>\n",
       "      <td>276</td>\n",
       "      <td>8.0</td>\n",
       "      <td>43.0</td>\n",
       "      <td>40</td>\n",
       "      <td>2363.0</td>\n",
       "      <td>2022-04-30 13:24:56.354</td>\n",
       "      <td>2022-04-30</td>\n",
       "      <td>2022</td>\n",
       "      <td>4</td>\n",
       "      <td>30</td>\n",
       "      <td>13</td>\n",
       "      <td>5</td>\n",
       "    </tr>\n",
       "    <tr>\n",
       "      <th>282207</th>\n",
       "      <td>282359</td>\n",
       "      <td>51806</td>\n",
       "      <td>2022-04-30 16:37:33.295</td>\n",
       "      <td>1246</td>\n",
       "      <td>276</td>\n",
       "      <td>8.0</td>\n",
       "      <td>43.0</td>\n",
       "      <td>120</td>\n",
       "      <td>2413.0</td>\n",
       "      <td>2022-04-30 16:37:33.295</td>\n",
       "      <td>2022-04-30</td>\n",
       "      <td>2022</td>\n",
       "      <td>4</td>\n",
       "      <td>30</td>\n",
       "      <td>16</td>\n",
       "      <td>5</td>\n",
       "    </tr>\n",
       "    <tr>\n",
       "      <th>282240</th>\n",
       "      <td>282392</td>\n",
       "      <td>51816</td>\n",
       "      <td>2022-04-30 19:24:22.137</td>\n",
       "      <td>848</td>\n",
       "      <td>276</td>\n",
       "      <td>8.0</td>\n",
       "      <td>43.0</td>\n",
       "      <td>200</td>\n",
       "      <td>2413.0</td>\n",
       "      <td>2022-04-30 19:24:22.137</td>\n",
       "      <td>2022-04-30</td>\n",
       "      <td>2022</td>\n",
       "      <td>4</td>\n",
       "      <td>30</td>\n",
       "      <td>19</td>\n",
       "      <td>5</td>\n",
       "    </tr>\n",
       "  </tbody>\n",
       "</table>\n",
       "</div>"
      ],
      "text/plain": [
       "            id  order_id                placed_at  merchant_id  sku_id  \\\n",
       "261049  261221     48233  2022-03-30 13:54:47.102          304     276   \n",
       "262532  262708     48621  2022-03-31 14:43:24.689         1470     276   \n",
       "262679  262852     48650  2022-03-31 17:42:46.016         2043     276   \n",
       "263277  263375     48684  2022-03-31 22:03:54.687         1466     276   \n",
       "263396  263495     48687  2022-03-31 22:20:45.051         1995     276   \n",
       "277112  277236     51012  2022-04-25 15:48:36.505          583     276   \n",
       "277453  277622     51071  2022-04-25 19:58:02.120         2035     276   \n",
       "277514  277697     51078  2022-04-25 20:13:15.689         1466     276   \n",
       "277659  277815     51103  2022-04-25 21:02:26.567         1737     276   \n",
       "277675  277841     51105  2022-04-25 21:17:33.438         2062     276   \n",
       "278961  279083     51307  2022-04-26 19:10:35.531         2024     276   \n",
       "279170  279298     51326  2022-04-26 20:38:08.571         1407     276   \n",
       "279794  279947     51416  2022-04-27 11:43:12.570         1098     276   \n",
       "280153  280271     51461  2022-04-27 15:36:30.937         2084     276   \n",
       "280467  280580     51500  2022-04-28 08:53:38.273          397     276   \n",
       "280495  280610     51503  2022-04-28 09:12:21.040         1061     276   \n",
       "280571  280703     51520  2022-04-28 10:22:44.214          161     276   \n",
       "280815  280947     51545  2022-04-28 11:59:58.954         1173     276   \n",
       "280872  281005     51554  2022-04-28 13:17:24.637          238     276   \n",
       "280904  281035     51564  2022-04-28 14:00:14.393          171     276   \n",
       "280976  281103     51577  2022-04-28 14:35:18.710         2005     276   \n",
       "281013  281131     51582  2022-04-28 14:46:44.290          844     276   \n",
       "281412  281547     51664  2022-04-29 09:08:12.426         1324     276   \n",
       "281447  281595     51669  2022-04-29 09:27:32.398          739     276   \n",
       "281787  281899     51726  2022-04-29 14:43:17.018         1049     276   \n",
       "281863  281966     51734  2022-04-29 16:30:17.752          384     276   \n",
       "281902  282025     51746  2022-04-29 19:02:11.624         1023     276   \n",
       "282024  282159     51780  2022-04-30 09:44:00.938         1502     276   \n",
       "282106  282251     51789  2022-04-30 11:35:04.457            9     276   \n",
       "282150  282296     51794  2022-04-30 13:11:14.722          667     276   \n",
       "282159  282305     51796  2022-04-30 13:24:02.606         1348     276   \n",
       "282166  282312     51798  2022-04-30 13:24:56.354         1895     276   \n",
       "282207  282359     51806  2022-04-30 16:37:33.295         1246     276   \n",
       "282240  282392     51816  2022-04-30 19:24:22.137          848     276   \n",
       "\n",
       "        top_cat_id  sub_cat_id   qty   price                datetime  \\\n",
       "261049         8.0        43.0    30   233.8 2022-03-30 13:54:47.102   \n",
       "262532         8.0        43.0  3200   235.3 2022-03-31 14:43:24.689   \n",
       "262679         8.0        43.0  4000   233.8 2022-03-31 17:42:46.016   \n",
       "263277         8.0        43.0  3600   233.8 2022-03-31 22:03:54.687   \n",
       "263396         8.0        43.0  2000   233.8 2022-03-31 22:20:45.051   \n",
       "277112         8.0        43.0   200  2412.0 2022-04-25 15:48:36.505   \n",
       "277453         8.0        43.0  1000  2363.0 2022-04-25 19:58:02.120   \n",
       "277514         8.0        43.0    80  2363.0 2022-04-25 20:13:15.689   \n",
       "277659         8.0        43.0    80  2363.0 2022-04-25 21:02:26.567   \n",
       "277675         8.0        43.0   200  2362.0 2022-04-25 21:17:33.438   \n",
       "278961         8.0        43.0   400  2362.0 2022-04-26 19:10:35.531   \n",
       "279170         8.0        43.0    80  2362.0 2022-04-26 20:38:08.571   \n",
       "279794         8.0        43.0    40  2363.0 2022-04-27 11:43:12.570   \n",
       "280153         8.0        43.0   400  2363.0 2022-04-27 15:36:30.937   \n",
       "280467         8.0        43.0  1600  2362.0 2022-04-28 08:53:38.273   \n",
       "280495         8.0        43.0   200  2362.0 2022-04-28 09:12:21.040   \n",
       "280571         8.0        43.0   400  2362.0 2022-04-28 10:22:44.214   \n",
       "280815         8.0        43.0   400  2363.0 2022-04-28 11:59:58.954   \n",
       "280872         8.0        43.0   200  2363.0 2022-04-28 13:17:24.637   \n",
       "280904         8.0        43.0   200  2363.0 2022-04-28 14:00:14.393   \n",
       "280976         8.0        43.0   200  2363.0 2022-04-28 14:35:18.710   \n",
       "281013         8.0        43.0    80  2363.0 2022-04-28 14:46:44.290   \n",
       "281412         8.0        43.0   120  2363.0 2022-04-29 09:08:12.426   \n",
       "281447         8.0        43.0   400  2296.0 2022-04-29 09:27:32.398   \n",
       "281787         8.0        43.0   200  2363.0 2022-04-29 14:43:17.018   \n",
       "281863         8.0        43.0   400  2363.0 2022-04-29 16:30:17.752   \n",
       "281902         8.0        43.0    40  2363.0 2022-04-29 19:02:11.624   \n",
       "282024         8.0        43.0    80  2363.0 2022-04-30 09:44:00.938   \n",
       "282106         8.0        43.0   200  2363.0 2022-04-30 11:35:04.457   \n",
       "282150         8.0        43.0   120  2363.0 2022-04-30 13:11:14.722   \n",
       "282159         8.0        43.0   400  2362.0 2022-04-30 13:24:02.606   \n",
       "282166         8.0        43.0    40  2363.0 2022-04-30 13:24:56.354   \n",
       "282207         8.0        43.0   120  2413.0 2022-04-30 16:37:33.295   \n",
       "282240         8.0        43.0   200  2413.0 2022-04-30 19:24:22.137   \n",
       "\n",
       "              date  year  month  day  hour  weekday  \n",
       "261049  2022-03-30  2022      3   30    13        2  \n",
       "262532  2022-03-31  2022      3   31    14        3  \n",
       "262679  2022-03-31  2022      3   31    17        3  \n",
       "263277  2022-03-31  2022      3   31    22        3  \n",
       "263396  2022-03-31  2022      3   31    22        3  \n",
       "277112  2022-04-25  2022      4   25    15        0  \n",
       "277453  2022-04-25  2022      4   25    19        0  \n",
       "277514  2022-04-25  2022      4   25    20        0  \n",
       "277659  2022-04-25  2022      4   25    21        0  \n",
       "277675  2022-04-25  2022      4   25    21        0  \n",
       "278961  2022-04-26  2022      4   26    19        1  \n",
       "279170  2022-04-26  2022      4   26    20        1  \n",
       "279794  2022-04-27  2022      4   27    11        2  \n",
       "280153  2022-04-27  2022      4   27    15        2  \n",
       "280467  2022-04-28  2022      4   28     8        3  \n",
       "280495  2022-04-28  2022      4   28     9        3  \n",
       "280571  2022-04-28  2022      4   28    10        3  \n",
       "280815  2022-04-28  2022      4   28    11        3  \n",
       "280872  2022-04-28  2022      4   28    13        3  \n",
       "280904  2022-04-28  2022      4   28    14        3  \n",
       "280976  2022-04-28  2022      4   28    14        3  \n",
       "281013  2022-04-28  2022      4   28    14        3  \n",
       "281412  2022-04-29  2022      4   29     9        4  \n",
       "281447  2022-04-29  2022      4   29     9        4  \n",
       "281787  2022-04-29  2022      4   29    14        4  \n",
       "281863  2022-04-29  2022      4   29    16        4  \n",
       "281902  2022-04-29  2022      4   29    19        4  \n",
       "282024  2022-04-30  2022      4   30     9        5  \n",
       "282106  2022-04-30  2022      4   30    11        5  \n",
       "282150  2022-04-30  2022      4   30    13        5  \n",
       "282159  2022-04-30  2022      4   30    13        5  \n",
       "282166  2022-04-30  2022      4   30    13        5  \n",
       "282207  2022-04-30  2022      4   30    16        5  \n",
       "282240  2022-04-30  2022      4   30    19        5  "
      ]
     },
     "execution_count": 68,
     "metadata": {},
     "output_type": "execute_result"
    }
   ],
   "source": [
    "baskets[(baskets['sku_id'] == 276) & (baskets['price'] < 90000)]"
   ]
  },
  {
   "cell_type": "markdown",
   "id": "d8ed7da8-3f64-4de5-becf-dcb9c02f6685",
   "metadata": {},
   "source": [
    "There was another burst of small orders. The price 2363, 2364, and several prices in the 2000 range were ordered between April 25 and 30. Several prices in the 200 range were ordered March 30 and 31. Is this a time when there were many orders? "
   ]
  },
  {
   "cell_type": "code",
   "execution_count": 69,
   "id": "09df80d2-1de4-4d77-849b-15ae27f61189",
   "metadata": {},
   "outputs": [
    {
     "data": {
      "text/plain": [
       "2022-02-03    2353\n",
       "2022-02-02    2298\n",
       "2022-02-25    2233\n",
       "2021-11-08    2200\n",
       "2022-02-15    2143\n",
       "2021-11-02    2143\n",
       "2022-02-23    2110\n",
       "2021-11-09    2088\n",
       "2021-10-25    2086\n",
       "2021-10-23    2083\n",
       "2021-12-03    2060\n",
       "2021-11-03    2059\n",
       "2022-01-22    2047\n",
       "2021-11-11    2026\n",
       "2021-10-18    1999\n",
       "2021-11-27    1985\n",
       "2021-11-12    1955\n",
       "2021-10-15    1924\n",
       "2021-11-05    1917\n",
       "2021-12-04    1914\n",
       "2021-10-19    1892\n",
       "2021-10-30    1891\n",
       "2021-12-07    1884\n",
       "2022-02-21    1874\n",
       "2022-02-18    1874\n",
       "2021-10-22    1859\n",
       "2021-11-16    1831\n",
       "2022-02-08    1825\n",
       "2021-12-02    1822\n",
       "2021-11-06    1820\n",
       "2021-10-28    1814\n",
       "2021-10-21    1813\n",
       "2021-12-21    1811\n",
       "2021-11-30    1809\n",
       "2021-10-27    1807\n",
       "2022-03-30    1803\n",
       "2021-11-26    1775\n",
       "2021-10-29    1750\n",
       "2022-02-24    1749\n",
       "2021-11-13    1744\n",
       "2022-01-29    1740\n",
       "2021-11-10    1734\n",
       "2021-11-25    1733\n",
       "2022-02-17    1718\n",
       "2022-02-04    1706\n",
       "2021-11-20    1688\n",
       "2021-12-14    1679\n",
       "2021-11-24    1673\n",
       "2022-01-19    1654\n",
       "2021-10-26    1650\n",
       "2021-12-28    1646\n",
       "2022-01-21    1644\n",
       "2021-12-08    1643\n",
       "2021-12-29    1639\n",
       "2021-11-19    1634\n",
       "2022-02-11    1625\n",
       "2022-02-12    1619\n",
       "2022-03-26    1618\n",
       "2021-11-23    1609\n",
       "2021-12-10    1602\n",
       "Name: date, dtype: int64"
      ]
     },
     "execution_count": 69,
     "metadata": {},
     "output_type": "execute_result"
    }
   ],
   "source": [
    "baskets['date'].value_counts().head(60)"
   ]
  },
  {
   "cell_type": "markdown",
   "id": "64dbde15-97af-4664-9b5a-63d15732c87d",
   "metadata": {},
   "source": [
    "There are not any dates May 25 through 30 in this list. "
   ]
  },
  {
   "cell_type": "code",
   "execution_count": 70,
   "id": "504864db-485e-4099-bc14-5e9cf22d03e5",
   "metadata": {},
   "outputs": [
    {
     "data": {
      "text/plain": [
       "2021-06-20    114\n",
       "2021-07-17    113\n",
       "2021-07-14    104\n",
       "2021-08-08    100\n",
       "2021-06-08     96\n",
       "2021-09-01     95\n",
       "2021-06-23     92\n",
       "2021-07-02     89\n",
       "2022-07-09     87\n",
       "2021-06-14     74\n",
       "2021-07-18     71\n",
       "2021-05-27     69\n",
       "2021-06-22     67\n",
       "2021-06-17     67\n",
       "2021-08-29     67\n",
       "2021-06-19     66\n",
       "2021-06-15     60\n",
       "2021-07-04     58\n",
       "2021-08-01     53\n",
       "2021-06-10     46\n",
       "2021-05-19     46\n",
       "2021-08-22     46\n",
       "2021-05-10     44\n",
       "2021-07-25     42\n",
       "2021-05-22     37\n",
       "2021-05-20     37\n",
       "2021-06-02     36\n",
       "2021-05-11     36\n",
       "2022-05-03     34\n",
       "2021-06-18     33\n",
       "2021-07-24     31\n",
       "2021-06-21     29\n",
       "2021-06-27     29\n",
       "2021-05-24     29\n",
       "2022-01-01     27\n",
       "2021-05-26     26\n",
       "2021-05-31     20\n",
       "2021-06-03     18\n",
       "2021-06-07     17\n",
       "2021-05-21     16\n",
       "2021-07-11     16\n",
       "2021-04-15     15\n",
       "2021-06-16     15\n",
       "2021-04-16     14\n",
       "2021-05-18     13\n",
       "2021-04-17     12\n",
       "2021-05-08     12\n",
       "2021-05-06     11\n",
       "2021-04-19      9\n",
       "2021-05-17      9\n",
       "2021-06-11      9\n",
       "2021-04-09      8\n",
       "2021-05-09      8\n",
       "2021-05-05      8\n",
       "2021-04-22      7\n",
       "2021-06-09      6\n",
       "2021-05-03      3\n",
       "2021-04-30      2\n",
       "2021-04-20      2\n",
       "2021-06-04      1\n",
       "Name: date, dtype: int64"
      ]
     },
     "execution_count": 70,
     "metadata": {},
     "output_type": "execute_result"
    }
   ],
   "source": [
    "baskets['date'].value_counts().tail(60)"
   ]
  },
  {
   "cell_type": "markdown",
   "id": "6ee9d4b8-8866-42a2-b106-32ace0a3acba",
   "metadata": {},
   "source": [
    "The dates are also are not in the list of least ordered on dates."
   ]
  },
  {
   "cell_type": "markdown",
   "id": "e9e54bbd-77b6-455e-824e-f3f4498397ef",
   "metadata": {},
   "source": [
    "Next I will plot with and without anomalies to see how the data will change and to demonstrate how significantly the anomalies change the data and possible conclusions. "
   ]
  },
  {
   "cell_type": "markdown",
   "id": "198cfe55-a3f9-45c3-bbf6-da7a95b9c6c0",
   "metadata": {},
   "source": [
    "I will use SKU 263. "
   ]
  },
  {
   "cell_type": "code",
   "execution_count": 71,
   "id": "0c47d3eb-1366-41f6-addc-05d59d3ffa5e",
   "metadata": {},
   "outputs": [
    {
     "data": {
      "text/plain": [
       "<AxesSubplot:title={'center':'Price by Date of SKU 263'}, xlabel='Date', ylabel='Price(Rp)'>"
      ]
     },
     "execution_count": 71,
     "metadata": {},
     "output_type": "execute_result"
    },
    {
     "data": {
      "image/png": "[encoded data removed]",
      "text/plain": [
       "<Figure size 432x288 with 1 Axes>"
      ]
     },
     "metadata": {
      "needs_background": "light"
     },
     "output_type": "display_data"
    }
   ],
   "source": [
    "baskets[baskets['sku_id'] == 263].plot(x = 'date', y = 'price', title = 'Price by Date of SKU 263', xlabel = 'Date', ylabel = 'Price(Rp)')"
   ]
  },
  {
   "cell_type": "code",
   "execution_count": 72,
   "id": "9718e11c-460d-4fea-b9c9-de051e684d4f",
   "metadata": {},
   "outputs": [
    {
     "data": {
      "text/html": [
       "<div>\n",
       "<style scoped>\n",
       "    .dataframe tbody tr th:only-of-type {\n",
       "        vertical-align: middle;\n",
       "    }\n",
       "\n",
       "    .dataframe tbody tr th {\n",
       "        vertical-align: top;\n",
       "    }\n",
       "\n",
       "    .dataframe thead th {\n",
       "        text-align: right;\n",
       "    }\n",
       "</style>\n",
       "<table border=\"1\" class=\"dataframe\">\n",
       "  <thead>\n",
       "    <tr style=\"text-align: right;\">\n",
       "      <th></th>\n",
       "      <th>id</th>\n",
       "      <th>order_id</th>\n",
       "      <th>placed_at</th>\n",
       "      <th>merchant_id</th>\n",
       "      <th>sku_id</th>\n",
       "      <th>top_cat_id</th>\n",
       "      <th>sub_cat_id</th>\n",
       "      <th>qty</th>\n",
       "      <th>price</th>\n",
       "      <th>datetime</th>\n",
       "      <th>date</th>\n",
       "      <th>year</th>\n",
       "      <th>month</th>\n",
       "      <th>day</th>\n",
       "      <th>hour</th>\n",
       "      <th>weekday</th>\n",
       "      <th>spent</th>\n",
       "    </tr>\n",
       "  </thead>\n",
       "  <tbody>\n",
       "    <tr>\n",
       "      <th>862</th>\n",
       "      <td>853</td>\n",
       "      <td>75</td>\n",
       "      <td>2021-06-16 10:45:59.305</td>\n",
       "      <td>95</td>\n",
       "      <td>263</td>\n",
       "      <td>4.0</td>\n",
       "      <td>21.0</td>\n",
       "      <td>200</td>\n",
       "      <td>542500.0</td>\n",
       "      <td>2021-06-16 10:45:59.305</td>\n",
       "      <td>2021-06-16</td>\n",
       "      <td>2021</td>\n",
       "      <td>6</td>\n",
       "      <td>16</td>\n",
       "      <td>10</td>\n",
       "      <td>2</td>\n",
       "      <td>108500000.0</td>\n",
       "    </tr>\n",
       "    <tr>\n",
       "      <th>928</th>\n",
       "      <td>929</td>\n",
       "      <td>85</td>\n",
       "      <td>2021-06-17 13:18:07.779</td>\n",
       "      <td>249</td>\n",
       "      <td>263</td>\n",
       "      <td>4.0</td>\n",
       "      <td>21.0</td>\n",
       "      <td>1</td>\n",
       "      <td>542500.0</td>\n",
       "      <td>2021-06-17 13:18:07.779</td>\n",
       "      <td>2021-06-17</td>\n",
       "      <td>2021</td>\n",
       "      <td>6</td>\n",
       "      <td>17</td>\n",
       "      <td>13</td>\n",
       "      <td>3</td>\n",
       "      <td>542500.0</td>\n",
       "    </tr>\n",
       "    <tr>\n",
       "      <th>973</th>\n",
       "      <td>975</td>\n",
       "      <td>97</td>\n",
       "      <td>2021-06-19 05:42:26.989</td>\n",
       "      <td>300</td>\n",
       "      <td>263</td>\n",
       "      <td>4.0</td>\n",
       "      <td>21.0</td>\n",
       "      <td>1</td>\n",
       "      <td>542500.0</td>\n",
       "      <td>2021-06-19 05:42:26.989</td>\n",
       "      <td>2021-06-19</td>\n",
       "      <td>2021</td>\n",
       "      <td>6</td>\n",
       "      <td>19</td>\n",
       "      <td>5</td>\n",
       "      <td>5</td>\n",
       "      <td>542500.0</td>\n",
       "    </tr>\n",
       "    <tr>\n",
       "      <th>1114</th>\n",
       "      <td>1101</td>\n",
       "      <td>105</td>\n",
       "      <td>2021-06-20 20:44:29.688</td>\n",
       "      <td>38</td>\n",
       "      <td>263</td>\n",
       "      <td>4.0</td>\n",
       "      <td>21.0</td>\n",
       "      <td>2</td>\n",
       "      <td>542500.0</td>\n",
       "      <td>2021-06-20 20:44:29.688</td>\n",
       "      <td>2021-06-20</td>\n",
       "      <td>2021</td>\n",
       "      <td>6</td>\n",
       "      <td>20</td>\n",
       "      <td>20</td>\n",
       "      <td>6</td>\n",
       "      <td>1085000.0</td>\n",
       "    </tr>\n",
       "    <tr>\n",
       "      <th>1178</th>\n",
       "      <td>1169</td>\n",
       "      <td>113</td>\n",
       "      <td>2021-06-21 22:37:22.283</td>\n",
       "      <td>362</td>\n",
       "      <td>263</td>\n",
       "      <td>4.0</td>\n",
       "      <td>21.0</td>\n",
       "      <td>50</td>\n",
       "      <td>10850.0</td>\n",
       "      <td>2021-06-21 22:37:22.283</td>\n",
       "      <td>2021-06-21</td>\n",
       "      <td>2021</td>\n",
       "      <td>6</td>\n",
       "      <td>21</td>\n",
       "      <td>22</td>\n",
       "      <td>0</td>\n",
       "      <td>542500.0</td>\n",
       "    </tr>\n",
       "    <tr>\n",
       "      <th>...</th>\n",
       "      <td>...</td>\n",
       "      <td>...</td>\n",
       "      <td>...</td>\n",
       "      <td>...</td>\n",
       "      <td>...</td>\n",
       "      <td>...</td>\n",
       "      <td>...</td>\n",
       "      <td>...</td>\n",
       "      <td>...</td>\n",
       "      <td>...</td>\n",
       "      <td>...</td>\n",
       "      <td>...</td>\n",
       "      <td>...</td>\n",
       "      <td>...</td>\n",
       "      <td>...</td>\n",
       "      <td>...</td>\n",
       "      <td>...</td>\n",
       "    </tr>\n",
       "    <tr>\n",
       "      <th>6011</th>\n",
       "      <td>5998</td>\n",
       "      <td>376</td>\n",
       "      <td>2021-07-16 10:25:12.894</td>\n",
       "      <td>354</td>\n",
       "      <td>263</td>\n",
       "      <td>4.0</td>\n",
       "      <td>21.0</td>\n",
       "      <td>1</td>\n",
       "      <td>538000.0</td>\n",
       "      <td>2021-07-16 10:25:12.894</td>\n",
       "      <td>2021-07-16</td>\n",
       "      <td>2021</td>\n",
       "      <td>7</td>\n",
       "      <td>16</td>\n",
       "      <td>10</td>\n",
       "      <td>4</td>\n",
       "      <td>538000.0</td>\n",
       "    </tr>\n",
       "    <tr>\n",
       "      <th>6086</th>\n",
       "      <td>6085</td>\n",
       "      <td>472</td>\n",
       "      <td>2021-07-16 23:29:14.331</td>\n",
       "      <td>400</td>\n",
       "      <td>263</td>\n",
       "      <td>4.0</td>\n",
       "      <td>21.0</td>\n",
       "      <td>1</td>\n",
       "      <td>538000.0</td>\n",
       "      <td>2021-07-16 23:29:14.331</td>\n",
       "      <td>2021-07-16</td>\n",
       "      <td>2021</td>\n",
       "      <td>7</td>\n",
       "      <td>16</td>\n",
       "      <td>23</td>\n",
       "      <td>4</td>\n",
       "      <td>538000.0</td>\n",
       "    </tr>\n",
       "    <tr>\n",
       "      <th>6114</th>\n",
       "      <td>6147</td>\n",
       "      <td>484</td>\n",
       "      <td>2021-07-17 09:06:43.183</td>\n",
       "      <td>360</td>\n",
       "      <td>263</td>\n",
       "      <td>4.0</td>\n",
       "      <td>21.0</td>\n",
       "      <td>10</td>\n",
       "      <td>538000.0</td>\n",
       "      <td>2021-07-17 09:06:43.183</td>\n",
       "      <td>2021-07-17</td>\n",
       "      <td>2021</td>\n",
       "      <td>7</td>\n",
       "      <td>17</td>\n",
       "      <td>9</td>\n",
       "      <td>5</td>\n",
       "      <td>5380000.0</td>\n",
       "    </tr>\n",
       "    <tr>\n",
       "      <th>6119</th>\n",
       "      <td>6152</td>\n",
       "      <td>514</td>\n",
       "      <td>2021-07-17 09:59:18.064</td>\n",
       "      <td>355</td>\n",
       "      <td>263</td>\n",
       "      <td>4.0</td>\n",
       "      <td>21.0</td>\n",
       "      <td>1</td>\n",
       "      <td>538000.0</td>\n",
       "      <td>2021-07-17 09:59:18.064</td>\n",
       "      <td>2021-07-17</td>\n",
       "      <td>2021</td>\n",
       "      <td>7</td>\n",
       "      <td>17</td>\n",
       "      <td>9</td>\n",
       "      <td>5</td>\n",
       "      <td>538000.0</td>\n",
       "    </tr>\n",
       "    <tr>\n",
       "      <th>6152</th>\n",
       "      <td>6104</td>\n",
       "      <td>475</td>\n",
       "      <td>2021-07-17 16:45:39.618</td>\n",
       "      <td>38</td>\n",
       "      <td>263</td>\n",
       "      <td>4.0</td>\n",
       "      <td>21.0</td>\n",
       "      <td>3</td>\n",
       "      <td>538000.0</td>\n",
       "      <td>2021-07-17 16:45:39.618</td>\n",
       "      <td>2021-07-17</td>\n",
       "      <td>2021</td>\n",
       "      <td>7</td>\n",
       "      <td>17</td>\n",
       "      <td>16</td>\n",
       "      <td>5</td>\n",
       "      <td>1614000.0</td>\n",
       "    </tr>\n",
       "  </tbody>\n",
       "</table>\n",
       "<p>100 rows × 17 columns</p>\n",
       "</div>"
      ],
      "text/plain": [
       "        id  order_id                placed_at  merchant_id  sku_id  \\\n",
       "862    853        75  2021-06-16 10:45:59.305           95     263   \n",
       "928    929        85  2021-06-17 13:18:07.779          249     263   \n",
       "973    975        97  2021-06-19 05:42:26.989          300     263   \n",
       "1114  1101       105  2021-06-20 20:44:29.688           38     263   \n",
       "1178  1169       113  2021-06-21 22:37:22.283          362     263   \n",
       "...    ...       ...                      ...          ...     ...   \n",
       "6011  5998       376  2021-07-16 10:25:12.894          354     263   \n",
       "6086  6085       472  2021-07-16 23:29:14.331          400     263   \n",
       "6114  6147       484  2021-07-17 09:06:43.183          360     263   \n",
       "6119  6152       514  2021-07-17 09:59:18.064          355     263   \n",
       "6152  6104       475  2021-07-17 16:45:39.618           38     263   \n",
       "\n",
       "      top_cat_id  sub_cat_id  qty     price                datetime  \\\n",
       "862          4.0        21.0  200  542500.0 2021-06-16 10:45:59.305   \n",
       "928          4.0        21.0    1  542500.0 2021-06-17 13:18:07.779   \n",
       "973          4.0        21.0    1  542500.0 2021-06-19 05:42:26.989   \n",
       "1114         4.0        21.0    2  542500.0 2021-06-20 20:44:29.688   \n",
       "1178         4.0        21.0   50   10850.0 2021-06-21 22:37:22.283   \n",
       "...          ...         ...  ...       ...                     ...   \n",
       "6011         4.0        21.0    1  538000.0 2021-07-16 10:25:12.894   \n",
       "6086         4.0        21.0    1  538000.0 2021-07-16 23:29:14.331   \n",
       "6114         4.0        21.0   10  538000.0 2021-07-17 09:06:43.183   \n",
       "6119         4.0        21.0    1  538000.0 2021-07-17 09:59:18.064   \n",
       "6152         4.0        21.0    3  538000.0 2021-07-17 16:45:39.618   \n",
       "\n",
       "            date  year  month  day  hour  weekday        spent  \n",
       "862   2021-06-16  2021      6   16    10        2  108500000.0  \n",
       "928   2021-06-17  2021      6   17    13        3     542500.0  \n",
       "973   2021-06-19  2021      6   19     5        5     542500.0  \n",
       "1114  2021-06-20  2021      6   20    20        6    1085000.0  \n",
       "1178  2021-06-21  2021      6   21    22        0     542500.0  \n",
       "...          ...   ...    ...  ...   ...      ...          ...  \n",
       "6011  2021-07-16  2021      7   16    10        4     538000.0  \n",
       "6086  2021-07-16  2021      7   16    23        4     538000.0  \n",
       "6114  2021-07-17  2021      7   17     9        5    5380000.0  \n",
       "6119  2021-07-17  2021      7   17     9        5     538000.0  \n",
       "6152  2021-07-17  2021      7   17    16        5    1614000.0  \n",
       "\n",
       "[100 rows x 17 columns]"
      ]
     },
     "execution_count": 72,
     "metadata": {},
     "output_type": "execute_result"
    }
   ],
   "source": [
    "baskets[\"spent\"] = baskets[\"qty\"] * baskets[\"price\"]\n",
    "baskets[baskets['sku_id'] == 263].head(100)"
   ]
  },
  {
   "cell_type": "code",
   "execution_count": 73,
   "id": "8c707aa9-d8e6-4e8f-ba67-d4fffe5d3d70",
   "metadata": {},
   "outputs": [
    {
     "data": {
      "text/plain": [
       "<AxesSubplot:xlabel='date'>"
      ]
     },
     "execution_count": 73,
     "metadata": {},
     "output_type": "execute_result"
    },
    {
     "data": {
      "image/png": "[encoded data removed]",
      "text/plain": [
       "<Figure size 432x288 with 1 Axes>"
      ]
     },
     "metadata": {
      "needs_background": "light"
     },
     "output_type": "display_data"
    }
   ],
   "source": [
    "baskets[baskets['sku_id'] == 263].plot(x = 'date', y = 'spent')"
   ]
  },
  {
   "cell_type": "code",
   "execution_count": 74,
   "id": "b0123e83-2366-4dcb-9ee1-3efb22685017",
   "metadata": {},
   "outputs": [
    {
     "data": {
      "text/plain": [
       "<AxesSubplot:xlabel='date'>"
      ]
     },
     "execution_count": 74,
     "metadata": {},
     "output_type": "execute_result"
    },
    {
     "data": {
      "image/png": "[encoded data removed]",
      "text/plain": [
       "<Figure size 432x288 with 1 Axes>"
      ]
     },
     "metadata": {
      "needs_background": "light"
     },
     "output_type": "display_data"
    }
   ],
   "source": [
    "baskets[baskets['sku_id'] == 263].plot(x = 'date', y = 'qty')"
   ]
  },
  {
   "cell_type": "markdown",
   "id": "a70bb8c6-bc15-42db-a5c2-f1dc68791d82",
   "metadata": {},
   "source": [
    "The quanities of SKU 263 also have anomalies. "
   ]
  },
  {
   "cell_type": "code",
   "execution_count": 75,
   "id": "43b02d64-a9c3-4543-939c-fd009b1f9f91",
   "metadata": {},
   "outputs": [
    {
     "data": {
      "text/plain": [
       "1       2742\n",
       "2        734\n",
       "5        333\n",
       "3        323\n",
       "4        117\n",
       "100       66\n",
       "6         39\n",
       "10        37\n",
       "200       21\n",
       "7         20\n",
       "50        19\n",
       "20        17\n",
       "8         17\n",
       "150       14\n",
       "15         8\n",
       "500        6\n",
       "30         6\n",
       "105        4\n",
       "300        3\n",
       "250        2\n",
       "130        2\n",
       "1000       2\n",
       "9          2\n",
       "140        2\n",
       "170        1\n",
       "400        1\n",
       "32         1\n",
       "230        1\n",
       "180        1\n",
       "17         1\n",
       "16         1\n",
       "260        1\n",
       "148        1\n",
       "83         1\n",
       "40         1\n",
       "1500       1\n",
       "Name: qty, dtype: int64"
      ]
     },
     "execution_count": 75,
     "metadata": {},
     "output_type": "execute_result"
    }
   ],
   "source": [
    "baskets[baskets['sku_id']==263]['qty'].value_counts()"
   ]
  },
  {
   "cell_type": "code",
   "execution_count": 76,
   "id": "740fcb07-d12e-42b9-bfee-5477ea0ede84",
   "metadata": {},
   "outputs": [],
   "source": [
    "def remove_outliers(in_baskets):\n",
    "    baskets = in_baskets.copy(deep=True)\n",
    "    baskets_1Q = baskets.quantile(.25).price\n",
    "    baskets_3Q = baskets.quantile(.75).price\n",
    "    IQrange = baskets_3Q - baskets_1Q\n",
    "    upper_fence = baskets_3Q + 3 * IQrange\n",
    "    lower_fence = baskets_1Q - 3 * IQrange\n",
    "    baskets.drop(baskets[(baskets['price'] > upper_fence) | (baskets['price'] < lower_fence)].index,inplace = True)\n",
    "    \n",
    "    return baskets"
   ]
  },
  {
   "cell_type": "markdown",
   "id": "d61f7a0d-73af-46c1-a94f-365931f191b3",
   "metadata": {},
   "source": [
    "The function above removes outliers from data. "
   ]
  },
  {
   "cell_type": "code",
   "execution_count": 77,
   "id": "4fe9e388-7e88-4d7b-8bab-ef9ef5b52541",
   "metadata": {},
   "outputs": [
    {
     "data": {
      "text/plain": [
       "<AxesSubplot:>"
      ]
     },
     "execution_count": 77,
     "metadata": {},
     "output_type": "execute_result"
    },
    {
     "data": {
      "image/png": "[encoded data removed]",
      "text/plain": [
       "<Figure size 432x288 with 1 Axes>"
      ]
     },
     "metadata": {
      "needs_background": "light"
     },
     "output_type": "display_data"
    }
   ],
   "source": [
    "baskets[baskets['sku_id'] == 263].boxplot(column = 'price')"
   ]
  },
  {
   "cell_type": "code",
   "execution_count": 78,
   "id": "55f46390-1ffa-46aa-a536-a05c4981b8c0",
   "metadata": {},
   "outputs": [],
   "source": [
    "SKU_263 = remove_outliers(baskets[baskets['sku_id'] == 263])"
   ]
  },
  {
   "cell_type": "code",
   "execution_count": 79,
   "id": "25b96471-6044-4074-bc48-a23c95b9ce58",
   "metadata": {},
   "outputs": [
    {
     "data": {
      "text/plain": [
       "<AxesSubplot:>"
      ]
     },
     "execution_count": 79,
     "metadata": {},
     "output_type": "execute_result"
    },
    {
     "data": {
      "image/png": "[encoded data removed]",
      "text/plain": [
       "<Figure size 432x288 with 1 Axes>"
      ]
     },
     "metadata": {
      "needs_background": "light"
     },
     "output_type": "display_data"
    }
   ],
   "source": [
    "SKU_263.boxplot(column='price')"
   ]
  },
  {
   "cell_type": "code",
   "execution_count": 80,
   "id": "75cf8f73-0384-4496-b347-b87964addbee",
   "metadata": {},
   "outputs": [
    {
     "data": {
      "text/plain": [
       "<AxesSubplot:xlabel='date'>"
      ]
     },
     "execution_count": 80,
     "metadata": {},
     "output_type": "execute_result"
    },
    {
     "data": {
      "image/png": "[encoded data removed]",
      "text/plain": [
       "<Figure size 432x288 with 1 Axes>"
      ]
     },
     "metadata": {
      "needs_background": "light"
     },
     "output_type": "display_data"
    }
   ],
   "source": [
    "baskets[baskets['sku_id'] == 263].plot(x = 'date', y = 'price')"
   ]
  },
  {
   "cell_type": "code",
   "execution_count": 81,
   "id": "535d57c6-c9ff-4709-800d-e7f90597a9fe",
   "metadata": {},
   "outputs": [
    {
     "data": {
      "text/plain": [
       "<AxesSubplot:title={'center':'Price by Data of SKU 263, Outliers Removed'}, xlabel='Date', ylabel='Price(Rp)'>"
      ]
     },
     "execution_count": 81,
     "metadata": {},
     "output_type": "execute_result"
    },
    {
     "data": {
      "image/png": "[encoded data removed]",
      "text/plain": [
       "<Figure size 432x288 with 1 Axes>"
      ]
     },
     "metadata": {
      "needs_background": "light"
     },
     "output_type": "display_data"
    }
   ],
   "source": [
    "SKU_263.plot(x = 'date', y = 'price', title = 'Price by Data of SKU 263, Outliers Removed', xlabel = 'Date', ylabel = 'Price(Rp)')"
   ]
  },
  {
   "cell_type": "markdown",
   "id": "570d6e88-ada3-432e-b698-f52f7e709059",
   "metadata": {},
   "source": [
    "Overall, the change in price is not remarkable, as the exchange rate to dollars is so hight, but the difference in graphs is notable. "
   ]
  },
  {
   "cell_type": "markdown",
   "id": "d9aefeb0-4ed3-4055-af3e-918179f573e2",
   "metadata": {},
   "source": [
    "For future work:\n",
    "    - use this new function to plot price by money spent or something else, to demonstrate the importance of finding extraneous data points."
   ]
  },
  {
   "cell_type": "code",
   "execution_count": 82,
   "id": "e6040d3f-b6f3-4ed5-8afa-f0e61601743a",
   "metadata": {},
   "outputs": [
    {
     "data": {
      "text/plain": [
       "count      4548.000000\n",
       "mean     568506.881424\n",
       "std      103016.520533\n",
       "min        1200.000000\n",
       "25%      557500.000000\n",
       "50%      575000.000000\n",
       "75%      620000.000000\n",
       "max      650000.000000\n",
       "Name: price, dtype: float64"
      ]
     },
     "execution_count": 82,
     "metadata": {},
     "output_type": "execute_result"
    }
   ],
   "source": [
    "baskets[baskets['sku_id']== 263].price.sum()\n",
    "baskets[baskets['sku_id'] == 263].price.describe()"
   ]
  },
  {
   "cell_type": "code",
   "execution_count": 83,
   "id": "334bd082-d6fd-4251-8def-fc0ba8e7cb7d",
   "metadata": {},
   "outputs": [
    {
     "data": {
      "text/plain": [
       "count      4393.000000\n",
       "mean     586671.522877\n",
       "std       34987.305815\n",
       "min      535000.000000\n",
       "25%      559000.000000\n",
       "50%      575000.000000\n",
       "75%      622000.000000\n",
       "max      650000.000000\n",
       "Name: price, dtype: float64"
      ]
     },
     "execution_count": 83,
     "metadata": {},
     "output_type": "execute_result"
    }
   ],
   "source": [
    "SKU_263.price.sum()\n",
    "SKU_263.price.describe()"
   ]
  },
  {
   "cell_type": "code",
   "execution_count": 84,
   "id": "4fb1dd36-0e1e-4308-9e35-84737a309042",
   "metadata": {},
   "outputs": [],
   "source": [
    "def remove_outliers_qty(in_baskets):\n",
    "    baskets = in_baskets.copy(deep=True)\n",
    "    baskets_1Q = baskets.quantile(.25).qty\n",
    "    baskets_3Q = baskets.quantile(.75).qty\n",
    "    IQrange = baskets_3Q - baskets_1Q\n",
    "    upper_fence = baskets_3Q + 3 * IQrange\n",
    "    lower_fence = baskets_1Q - 3 * IQrange\n",
    "    baskets.drop(baskets[(baskets['qty'] > upper_fence) | (baskets['qty'] < lower_fence)].index,inplace = True)\n",
    "    \n",
    "    return baskets"
   ]
  },
  {
   "cell_type": "markdown",
   "id": "357de22a-0a89-4549-b515-d877a5c82d9f",
   "metadata": {},
   "source": [
    "This function removes outliers in quantity."
   ]
  },
  {
   "cell_type": "code",
   "execution_count": 85,
   "id": "07579246-1322-41d9-bddc-d90fc8c8933f",
   "metadata": {},
   "outputs": [],
   "source": [
    "SKU_263_qty = remove_outliers_qty(SKU_263)"
   ]
  },
  {
   "cell_type": "code",
   "execution_count": 86,
   "id": "8d1c49b2-5c14-4d30-a321-2f6ec1334825",
   "metadata": {},
   "outputs": [
    {
     "data": {
      "text/html": [
       "<div>\n",
       "<style scoped>\n",
       "    .dataframe tbody tr th:only-of-type {\n",
       "        vertical-align: middle;\n",
       "    }\n",
       "\n",
       "    .dataframe tbody tr th {\n",
       "        vertical-align: top;\n",
       "    }\n",
       "\n",
       "    .dataframe thead th {\n",
       "        text-align: right;\n",
       "    }\n",
       "</style>\n",
       "<table border=\"1\" class=\"dataframe\">\n",
       "  <thead>\n",
       "    <tr style=\"text-align: right;\">\n",
       "      <th></th>\n",
       "      <th>id</th>\n",
       "      <th>order_id</th>\n",
       "      <th>merchant_id</th>\n",
       "      <th>sku_id</th>\n",
       "      <th>top_cat_id</th>\n",
       "      <th>sub_cat_id</th>\n",
       "      <th>qty</th>\n",
       "      <th>price</th>\n",
       "      <th>year</th>\n",
       "      <th>month</th>\n",
       "      <th>day</th>\n",
       "      <th>hour</th>\n",
       "      <th>weekday</th>\n",
       "      <th>spent</th>\n",
       "    </tr>\n",
       "  </thead>\n",
       "  <tbody>\n",
       "    <tr>\n",
       "      <th>count</th>\n",
       "      <td>4245.000000</td>\n",
       "      <td>4245.000000</td>\n",
       "      <td>4245.000000</td>\n",
       "      <td>4245.0</td>\n",
       "      <td>4245.0</td>\n",
       "      <td>4245.0</td>\n",
       "      <td>4245.000000</td>\n",
       "      <td>4245.000000</td>\n",
       "      <td>4245.000000</td>\n",
       "      <td>4245.000000</td>\n",
       "      <td>4245.000000</td>\n",
       "      <td>4245.000000</td>\n",
       "      <td>4245.000000</td>\n",
       "      <td>4.245000e+03</td>\n",
       "    </tr>\n",
       "    <tr>\n",
       "      <th>mean</th>\n",
       "      <td>149147.832038</td>\n",
       "      <td>25286.479152</td>\n",
       "      <td>737.090224</td>\n",
       "      <td>263.0</td>\n",
       "      <td>4.0</td>\n",
       "      <td>21.0</td>\n",
       "      <td>1.720848</td>\n",
       "      <td>586991.401649</td>\n",
       "      <td>2021.423793</td>\n",
       "      <td>7.548410</td>\n",
       "      <td>15.513781</td>\n",
       "      <td>12.557126</td>\n",
       "      <td>2.536396</td>\n",
       "      <td>1.010515e+06</td>\n",
       "    </tr>\n",
       "    <tr>\n",
       "      <th>std</th>\n",
       "      <td>94974.257906</td>\n",
       "      <td>18460.386134</td>\n",
       "      <td>498.730224</td>\n",
       "      <td>0.0</td>\n",
       "      <td>0.0</td>\n",
       "      <td>0.0</td>\n",
       "      <td>1.208301</td>\n",
       "      <td>34904.371299</td>\n",
       "      <td>0.494217</td>\n",
       "      <td>3.914896</td>\n",
       "      <td>8.651032</td>\n",
       "      <td>3.905076</td>\n",
       "      <td>1.810251</td>\n",
       "      <td>7.132153e+05</td>\n",
       "    </tr>\n",
       "    <tr>\n",
       "      <th>min</th>\n",
       "      <td>929.000000</td>\n",
       "      <td>62.000000</td>\n",
       "      <td>1.000000</td>\n",
       "      <td>263.0</td>\n",
       "      <td>4.0</td>\n",
       "      <td>21.0</td>\n",
       "      <td>1.000000</td>\n",
       "      <td>535000.000000</td>\n",
       "      <td>2021.000000</td>\n",
       "      <td>1.000000</td>\n",
       "      <td>1.000000</td>\n",
       "      <td>0.000000</td>\n",
       "      <td>0.000000</td>\n",
       "      <td>5.350000e+05</td>\n",
       "    </tr>\n",
       "    <tr>\n",
       "      <th>25%</th>\n",
       "      <td>70200.000000</td>\n",
       "      <td>9189.000000</td>\n",
       "      <td>344.000000</td>\n",
       "      <td>263.0</td>\n",
       "      <td>4.0</td>\n",
       "      <td>21.0</td>\n",
       "      <td>1.000000</td>\n",
       "      <td>559000.000000</td>\n",
       "      <td>2021.000000</td>\n",
       "      <td>4.000000</td>\n",
       "      <td>8.000000</td>\n",
       "      <td>10.000000</td>\n",
       "      <td>1.000000</td>\n",
       "      <td>5.610000e+05</td>\n",
       "    </tr>\n",
       "    <tr>\n",
       "      <th>50%</th>\n",
       "      <td>136549.000000</td>\n",
       "      <td>21874.000000</td>\n",
       "      <td>664.000000</td>\n",
       "      <td>263.0</td>\n",
       "      <td>4.0</td>\n",
       "      <td>21.0</td>\n",
       "      <td>1.000000</td>\n",
       "      <td>575000.000000</td>\n",
       "      <td>2021.000000</td>\n",
       "      <td>9.000000</td>\n",
       "      <td>15.000000</td>\n",
       "      <td>12.000000</td>\n",
       "      <td>2.000000</td>\n",
       "      <td>6.220000e+05</td>\n",
       "    </tr>\n",
       "    <tr>\n",
       "      <th>75%</th>\n",
       "      <td>217971.000000</td>\n",
       "      <td>39372.000000</td>\n",
       "      <td>1080.000000</td>\n",
       "      <td>263.0</td>\n",
       "      <td>4.0</td>\n",
       "      <td>21.0</td>\n",
       "      <td>2.000000</td>\n",
       "      <td>622000.000000</td>\n",
       "      <td>2022.000000</td>\n",
       "      <td>11.000000</td>\n",
       "      <td>23.000000</td>\n",
       "      <td>15.000000</td>\n",
       "      <td>4.000000</td>\n",
       "      <td>1.208000e+06</td>\n",
       "    </tr>\n",
       "    <tr>\n",
       "      <th>max</th>\n",
       "      <td>336470.000000</td>\n",
       "      <td>62035.000000</td>\n",
       "      <td>2127.000000</td>\n",
       "      <td>263.0</td>\n",
       "      <td>4.0</td>\n",
       "      <td>21.0</td>\n",
       "      <td>5.000000</td>\n",
       "      <td>650000.000000</td>\n",
       "      <td>2022.000000</td>\n",
       "      <td>12.000000</td>\n",
       "      <td>31.000000</td>\n",
       "      <td>23.000000</td>\n",
       "      <td>6.000000</td>\n",
       "      <td>3.250000e+06</td>\n",
       "    </tr>\n",
       "  </tbody>\n",
       "</table>\n",
       "</div>"
      ],
      "text/plain": [
       "                  id      order_id  merchant_id  sku_id  top_cat_id  \\\n",
       "count    4245.000000   4245.000000  4245.000000  4245.0      4245.0   \n",
       "mean   149147.832038  25286.479152   737.090224   263.0         4.0   \n",
       "std     94974.257906  18460.386134   498.730224     0.0         0.0   \n",
       "min       929.000000     62.000000     1.000000   263.0         4.0   \n",
       "25%     70200.000000   9189.000000   344.000000   263.0         4.0   \n",
       "50%    136549.000000  21874.000000   664.000000   263.0         4.0   \n",
       "75%    217971.000000  39372.000000  1080.000000   263.0         4.0   \n",
       "max    336470.000000  62035.000000  2127.000000   263.0         4.0   \n",
       "\n",
       "       sub_cat_id          qty          price         year        month  \\\n",
       "count      4245.0  4245.000000    4245.000000  4245.000000  4245.000000   \n",
       "mean         21.0     1.720848  586991.401649  2021.423793     7.548410   \n",
       "std           0.0     1.208301   34904.371299     0.494217     3.914896   \n",
       "min          21.0     1.000000  535000.000000  2021.000000     1.000000   \n",
       "25%          21.0     1.000000  559000.000000  2021.000000     4.000000   \n",
       "50%          21.0     1.000000  575000.000000  2021.000000     9.000000   \n",
       "75%          21.0     2.000000  622000.000000  2022.000000    11.000000   \n",
       "max          21.0     5.000000  650000.000000  2022.000000    12.000000   \n",
       "\n",
       "               day         hour      weekday         spent  \n",
       "count  4245.000000  4245.000000  4245.000000  4.245000e+03  \n",
       "mean     15.513781    12.557126     2.536396  1.010515e+06  \n",
       "std       8.651032     3.905076     1.810251  7.132153e+05  \n",
       "min       1.000000     0.000000     0.000000  5.350000e+05  \n",
       "25%       8.000000    10.000000     1.000000  5.610000e+05  \n",
       "50%      15.000000    12.000000     2.000000  6.220000e+05  \n",
       "75%      23.000000    15.000000     4.000000  1.208000e+06  \n",
       "max      31.000000    23.000000     6.000000  3.250000e+06  "
      ]
     },
     "execution_count": 86,
     "metadata": {},
     "output_type": "execute_result"
    }
   ],
   "source": [
    "SKU_263_qty.describe()"
   ]
  },
  {
   "cell_type": "code",
   "execution_count": 87,
   "id": "890d71c9-a031-4ed3-b243-a8ad5bfccb79",
   "metadata": {},
   "outputs": [
    {
     "data": {
      "text/html": [
       "<div>\n",
       "<style scoped>\n",
       "    .dataframe tbody tr th:only-of-type {\n",
       "        vertical-align: middle;\n",
       "    }\n",
       "\n",
       "    .dataframe tbody tr th {\n",
       "        vertical-align: top;\n",
       "    }\n",
       "\n",
       "    .dataframe thead th {\n",
       "        text-align: right;\n",
       "    }\n",
       "</style>\n",
       "<table border=\"1\" class=\"dataframe\">\n",
       "  <thead>\n",
       "    <tr style=\"text-align: right;\">\n",
       "      <th></th>\n",
       "      <th>id</th>\n",
       "      <th>order_id</th>\n",
       "      <th>merchant_id</th>\n",
       "      <th>sku_id</th>\n",
       "      <th>top_cat_id</th>\n",
       "      <th>sub_cat_id</th>\n",
       "      <th>qty</th>\n",
       "      <th>price</th>\n",
       "      <th>year</th>\n",
       "      <th>month</th>\n",
       "      <th>day</th>\n",
       "      <th>hour</th>\n",
       "      <th>weekday</th>\n",
       "      <th>spent</th>\n",
       "    </tr>\n",
       "  </thead>\n",
       "  <tbody>\n",
       "    <tr>\n",
       "      <th>count</th>\n",
       "      <td>4548.000000</td>\n",
       "      <td>4548.000000</td>\n",
       "      <td>4548.000000</td>\n",
       "      <td>4548.0</td>\n",
       "      <td>4548.0</td>\n",
       "      <td>4548.0</td>\n",
       "      <td>4548.000000</td>\n",
       "      <td>4548.000000</td>\n",
       "      <td>4548.000000</td>\n",
       "      <td>4548.000000</td>\n",
       "      <td>4548.000000</td>\n",
       "      <td>4548.000000</td>\n",
       "      <td>4548.000000</td>\n",
       "      <td>4.548000e+03</td>\n",
       "    </tr>\n",
       "    <tr>\n",
       "      <th>mean</th>\n",
       "      <td>148846.138962</td>\n",
       "      <td>25235.666227</td>\n",
       "      <td>730.091029</td>\n",
       "      <td>263.0</td>\n",
       "      <td>4.0</td>\n",
       "      <td>21.0</td>\n",
       "      <td>7.285840</td>\n",
       "      <td>568506.881424</td>\n",
       "      <td>2021.423043</td>\n",
       "      <td>7.530783</td>\n",
       "      <td>15.685796</td>\n",
       "      <td>12.606201</td>\n",
       "      <td>2.538039</td>\n",
       "      <td>1.571123e+06</td>\n",
       "    </tr>\n",
       "    <tr>\n",
       "      <th>std</th>\n",
       "      <td>95151.672154</td>\n",
       "      <td>18478.694457</td>\n",
       "      <td>499.153045</td>\n",
       "      <td>0.0</td>\n",
       "      <td>0.0</td>\n",
       "      <td>0.0</td>\n",
       "      <td>42.716877</td>\n",
       "      <td>103016.520533</td>\n",
       "      <td>0.494096</td>\n",
       "      <td>3.912972</td>\n",
       "      <td>8.680280</td>\n",
       "      <td>3.917045</td>\n",
       "      <td>1.805011</td>\n",
       "      <td>4.912304e+06</td>\n",
       "    </tr>\n",
       "    <tr>\n",
       "      <th>min</th>\n",
       "      <td>853.000000</td>\n",
       "      <td>62.000000</td>\n",
       "      <td>1.000000</td>\n",
       "      <td>263.0</td>\n",
       "      <td>4.0</td>\n",
       "      <td>21.0</td>\n",
       "      <td>1.000000</td>\n",
       "      <td>1200.000000</td>\n",
       "      <td>2021.000000</td>\n",
       "      <td>1.000000</td>\n",
       "      <td>1.000000</td>\n",
       "      <td>0.000000</td>\n",
       "      <td>0.000000</td>\n",
       "      <td>1.200000e+04</td>\n",
       "    </tr>\n",
       "    <tr>\n",
       "      <th>25%</th>\n",
       "      <td>70011.250000</td>\n",
       "      <td>9100.250000</td>\n",
       "      <td>343.000000</td>\n",
       "      <td>263.0</td>\n",
       "      <td>4.0</td>\n",
       "      <td>21.0</td>\n",
       "      <td>1.000000</td>\n",
       "      <td>557500.000000</td>\n",
       "      <td>2021.000000</td>\n",
       "      <td>4.000000</td>\n",
       "      <td>8.000000</td>\n",
       "      <td>10.000000</td>\n",
       "      <td>1.000000</td>\n",
       "      <td>5.650000e+05</td>\n",
       "    </tr>\n",
       "    <tr>\n",
       "      <th>50%</th>\n",
       "      <td>136824.500000</td>\n",
       "      <td>21928.500000</td>\n",
       "      <td>650.000000</td>\n",
       "      <td>263.0</td>\n",
       "      <td>4.0</td>\n",
       "      <td>21.0</td>\n",
       "      <td>1.000000</td>\n",
       "      <td>575000.000000</td>\n",
       "      <td>2021.000000</td>\n",
       "      <td>9.000000</td>\n",
       "      <td>15.000000</td>\n",
       "      <td>12.000000</td>\n",
       "      <td>2.000000</td>\n",
       "      <td>6.310000e+05</td>\n",
       "    </tr>\n",
       "    <tr>\n",
       "      <th>75%</th>\n",
       "      <td>217963.500000</td>\n",
       "      <td>39368.250000</td>\n",
       "      <td>1062.000000</td>\n",
       "      <td>263.0</td>\n",
       "      <td>4.0</td>\n",
       "      <td>21.0</td>\n",
       "      <td>2.000000</td>\n",
       "      <td>620000.000000</td>\n",
       "      <td>2022.000000</td>\n",
       "      <td>11.000000</td>\n",
       "      <td>23.000000</td>\n",
       "      <td>15.000000</td>\n",
       "      <td>4.000000</td>\n",
       "      <td>1.275000e+06</td>\n",
       "    </tr>\n",
       "    <tr>\n",
       "      <th>max</th>\n",
       "      <td>336470.000000</td>\n",
       "      <td>62035.000000</td>\n",
       "      <td>2127.000000</td>\n",
       "      <td>263.0</td>\n",
       "      <td>4.0</td>\n",
       "      <td>21.0</td>\n",
       "      <td>1500.000000</td>\n",
       "      <td>650000.000000</td>\n",
       "      <td>2022.000000</td>\n",
       "      <td>12.000000</td>\n",
       "      <td>31.000000</td>\n",
       "      <td>23.000000</td>\n",
       "      <td>6.000000</td>\n",
       "      <td>1.398800e+08</td>\n",
       "    </tr>\n",
       "  </tbody>\n",
       "</table>\n",
       "</div>"
      ],
      "text/plain": [
       "                  id      order_id  merchant_id  sku_id  top_cat_id  \\\n",
       "count    4548.000000   4548.000000  4548.000000  4548.0      4548.0   \n",
       "mean   148846.138962  25235.666227   730.091029   263.0         4.0   \n",
       "std     95151.672154  18478.694457   499.153045     0.0         0.0   \n",
       "min       853.000000     62.000000     1.000000   263.0         4.0   \n",
       "25%     70011.250000   9100.250000   343.000000   263.0         4.0   \n",
       "50%    136824.500000  21928.500000   650.000000   263.0         4.0   \n",
       "75%    217963.500000  39368.250000  1062.000000   263.0         4.0   \n",
       "max    336470.000000  62035.000000  2127.000000   263.0         4.0   \n",
       "\n",
       "       sub_cat_id          qty          price         year        month  \\\n",
       "count      4548.0  4548.000000    4548.000000  4548.000000  4548.000000   \n",
       "mean         21.0     7.285840  568506.881424  2021.423043     7.530783   \n",
       "std           0.0    42.716877  103016.520533     0.494096     3.912972   \n",
       "min          21.0     1.000000    1200.000000  2021.000000     1.000000   \n",
       "25%          21.0     1.000000  557500.000000  2021.000000     4.000000   \n",
       "50%          21.0     1.000000  575000.000000  2021.000000     9.000000   \n",
       "75%          21.0     2.000000  620000.000000  2022.000000    11.000000   \n",
       "max          21.0  1500.000000  650000.000000  2022.000000    12.000000   \n",
       "\n",
       "               day         hour      weekday         spent  \n",
       "count  4548.000000  4548.000000  4548.000000  4.548000e+03  \n",
       "mean     15.685796    12.606201     2.538039  1.571123e+06  \n",
       "std       8.680280     3.917045     1.805011  4.912304e+06  \n",
       "min       1.000000     0.000000     0.000000  1.200000e+04  \n",
       "25%       8.000000    10.000000     1.000000  5.650000e+05  \n",
       "50%      15.000000    12.000000     2.000000  6.310000e+05  \n",
       "75%      23.000000    15.000000     4.000000  1.275000e+06  \n",
       "max      31.000000    23.000000     6.000000  1.398800e+08  "
      ]
     },
     "execution_count": 87,
     "metadata": {},
     "output_type": "execute_result"
    }
   ],
   "source": [
    "baskets[baskets['sku_id']==263].describe()"
   ]
  },
  {
   "cell_type": "code",
   "execution_count": 88,
   "id": "60164fa9-91d9-4f2f-8af9-5a1bafadd678",
   "metadata": {},
   "outputs": [
    {
     "data": {
      "text/plain": [
       "<AxesSubplot:>"
      ]
     },
     "execution_count": 88,
     "metadata": {},
     "output_type": "execute_result"
    },
    {
     "data": {
      "image/png": "[encoded data removed]",
      "text/plain": [
       "<Figure size 1080x216 with 1 Axes>"
      ]
     },
     "metadata": {
      "needs_background": "light"
     },
     "output_type": "display_data"
    }
   ],
   "source": [
    "plt.figure(figsize=(15,3)) \n",
    "baskets[baskets['sku_id'] == 263].qty.sort_values(ascending = False).reset_index(drop=True).hist(bins=100)"
   ]
  },
  {
   "cell_type": "code",
   "execution_count": 89,
   "id": "65c7989d-2556-4221-84e5-dd52207bf4e3",
   "metadata": {},
   "outputs": [
    {
     "data": {
      "text/plain": [
       "<AxesSubplot:>"
      ]
     },
     "execution_count": 89,
     "metadata": {},
     "output_type": "execute_result"
    },
    {
     "data": {
      "image/png": "[encoded data removed]",
      "text/plain": [
       "<Figure size 1080x216 with 1 Axes>"
      ]
     },
     "metadata": {
      "needs_background": "light"
     },
     "output_type": "display_data"
    }
   ],
   "source": [
    "plt.figure(figsize=(15,3)) \n",
    "SKU_263_qty.qty.sort_values(ascending = False).reset_index(drop=True).hist(bins=100)"
   ]
  },
  {
   "cell_type": "code",
   "execution_count": 90,
   "id": "31a6f71d-72d3-4b88-9a72-41e78df900ce",
   "metadata": {},
   "outputs": [
    {
     "data": {
      "text/plain": [
       "<AxesSubplot:>"
      ]
     },
     "execution_count": 90,
     "metadata": {},
     "output_type": "execute_result"
    },
    {
     "data": {
      "image/png": "[encoded data removed]",
      "text/plain": [
       "<Figure size 216x216 with 1 Axes>"
      ]
     },
     "metadata": {
      "needs_background": "light"
     },
     "output_type": "display_data"
    }
   ],
   "source": [
    "baskets[baskets['sku_id'] == 263].boxplot(column = 'qty', figsize=(3,3))"
   ]
  },
  {
   "cell_type": "code",
   "execution_count": 91,
   "id": "79c027e1-0b75-442d-9ae9-ff45fe8bd728",
   "metadata": {},
   "outputs": [
    {
     "data": {
      "text/plain": [
       "<AxesSubplot:>"
      ]
     },
     "execution_count": 91,
     "metadata": {},
     "output_type": "execute_result"
    },
    {
     "data": {
      "image/png": "[encoded data removed]",
      "text/plain": [
       "<Figure size 216x216 with 1 Axes>"
      ]
     },
     "metadata": {
      "needs_background": "light"
     },
     "output_type": "display_data"
    }
   ],
   "source": [
    "SKU_263_qty.boxplot(column = 'qty', figsize=(3,3))"
   ]
  },
  {
   "cell_type": "code",
   "execution_count": 92,
   "id": "102a8ebf-2757-49c8-8a61-fe9e74b6bd7a",
   "metadata": {},
   "outputs": [
    {
     "data": {
      "text/plain": [
       "1       2742\n",
       "2        734\n",
       "5        333\n",
       "3        323\n",
       "4        117\n",
       "100       66\n",
       "6         39\n",
       "10        37\n",
       "200       21\n",
       "7         20\n",
       "50        19\n",
       "20        17\n",
       "8         17\n",
       "150       14\n",
       "15         8\n",
       "500        6\n",
       "30         6\n",
       "105        4\n",
       "300        3\n",
       "250        2\n",
       "130        2\n",
       "1000       2\n",
       "9          2\n",
       "140        2\n",
       "170        1\n",
       "400        1\n",
       "32         1\n",
       "230        1\n",
       "180        1\n",
       "17         1\n",
       "16         1\n",
       "260        1\n",
       "148        1\n",
       "83         1\n",
       "40         1\n",
       "1500       1\n",
       "Name: qty, dtype: int64"
      ]
     },
     "execution_count": 92,
     "metadata": {},
     "output_type": "execute_result"
    }
   ],
   "source": [
    "baskets[baskets['sku_id'] == 263].qty.value_counts()"
   ]
  },
  {
   "cell_type": "code",
   "execution_count": 93,
   "id": "9db3498a-2164-4b00-98da-bec6afb040ce",
   "metadata": {},
   "outputs": [
    {
     "data": {
      "text/plain": [
       "count    4.548000e+03\n",
       "mean     1.571123e+06\n",
       "std      4.912304e+06\n",
       "min      1.200000e+04\n",
       "25%      5.650000e+05\n",
       "50%      6.310000e+05\n",
       "75%      1.275000e+06\n",
       "max      1.398800e+08\n",
       "Name: spent, dtype: float64"
      ]
     },
     "execution_count": 93,
     "metadata": {},
     "output_type": "execute_result"
    }
   ],
   "source": [
    "baskets[baskets['sku_id'] == 263].spent.describe()"
   ]
  },
  {
   "cell_type": "code",
   "execution_count": 94,
   "id": "6b83fcf8-9bf6-49d8-b8e2-9708eecae0b8",
   "metadata": {},
   "outputs": [
    {
     "data": {
      "text/plain": [
       "count    4.245000e+03\n",
       "mean     1.010515e+06\n",
       "std      7.132153e+05\n",
       "min      5.350000e+05\n",
       "25%      5.610000e+05\n",
       "50%      6.220000e+05\n",
       "75%      1.208000e+06\n",
       "max      3.250000e+06\n",
       "Name: spent, dtype: float64"
      ]
     },
     "execution_count": 94,
     "metadata": {},
     "output_type": "execute_result"
    }
   ],
   "source": [
    "SKU_263_qty.spent.describe()"
   ]
  },
  {
   "cell_type": "markdown",
   "id": "8349fec8-6375-4698-85d0-6d9630a2ea10",
   "metadata": {},
   "source": [
    "There is a 35% difference between the mean amount spent on SKU 263 before and after outliers are removed."
   ]
  }
 ],
 "metadata": {
  "kernelspec": {
   "display_name": "Python 3 (ipykernel)",
   "language": "python",
   "name": "python3"
  },
  "language_info": {
   "codemirror_mode": {
    "name": "ipython",
    "version": 3
   },
   "file_extension": ".py",
   "mimetype": "text/x-python",
   "name": "python",
   "nbconvert_exporter": "python",
   "pygments_lexer": "ipython3",
   "version": "3.9.12"
  }
 },
 "nbformat": 4,
 "nbformat_minor": 5
}
